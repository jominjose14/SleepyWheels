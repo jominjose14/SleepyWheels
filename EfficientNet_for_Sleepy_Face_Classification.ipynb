{
  "nbformat": 4,
  "nbformat_minor": 0,
  "metadata": {
    "colab": {
      "name": "EfficientNet for Sleepy Face Classification.ipynb",
      "provenance": [],
      "collapsed_sections": [],
      "mount_file_id": "10hxAUv8ky2XslInnAwjtBJVMdAEieHPf",
      "authorship_tag": "ABX9TyNaLXknE67PxSHwAMHy/2lK",
      "include_colab_link": true
    },
    "kernelspec": {
      "name": "python3",
      "display_name": "Python 3"
    }
  },
  "cells": [
    {
      "cell_type": "markdown",
      "metadata": {
        "id": "view-in-github",
        "colab_type": "text"
      },
      "source": [
        "<a href=\"https://colab.research.google.com/github/jominjose14/SleepyWheels/blob/main/EfficientNet_for_Sleepy_Face_Classification.ipynb\" target=\"_parent\"><img src=\"https://colab.research.google.com/assets/colab-badge.svg\" alt=\"Open In Colab\"/></a>"
      ]
    },
    {
      "cell_type": "code",
      "metadata": {
        "colab": {
          "base_uri": "https://localhost:8080/",
          "height": 523
        },
        "id": "ljkjK_JZpzid",
        "outputId": "8c425e0e-97c8-4629-bddd-78bc69a2a6f4"
      },
      "source": [
        "# Downgrade pillow to avoid `UserWarning: Possibly corrupt EXIF data.`\n",
        "!pip install pillow==4.0.0"
      ],
      "execution_count": null,
      "outputs": [
        {
          "output_type": "stream",
          "text": [
            "Collecting pillow==4.0.0\n",
            "\u001b[?25l  Downloading https://files.pythonhosted.org/packages/8d/80/eca7a2d1a3c2dafb960f32f844d570de988e609f5fd17de92e1cf6a01b0a/Pillow-4.0.0.tar.gz (11.1MB)\n",
            "\u001b[K     |████████████████████████████████| 11.1MB 7.2MB/s \n",
            "\u001b[?25hCollecting olefile\n",
            "\u001b[?25l  Downloading https://files.pythonhosted.org/packages/34/81/e1ac43c6b45b4c5f8d9352396a14144bba52c8fec72a80f425f6a4d653ad/olefile-0.46.zip (112kB)\n",
            "\u001b[K     |████████████████████████████████| 112kB 61.6MB/s \n",
            "\u001b[?25hBuilding wheels for collected packages: pillow, olefile\n",
            "  Building wheel for pillow (setup.py) ... \u001b[?25l\u001b[?25hdone\n",
            "  Created wheel for pillow: filename=Pillow-4.0.0-cp37-cp37m-linux_x86_64.whl size=1007423 sha256=b20a82b8af8e08c7a55d565c8c35bf9397286ffa5980b55df1ae7bb51e904200\n",
            "  Stored in directory: /root/.cache/pip/wheels/4f/0a/2a/7e3391063af230fac4b5fdb4cc93adcb1d99af325b623cea03\n",
            "  Building wheel for olefile (setup.py) ... \u001b[?25l\u001b[?25hdone\n",
            "  Created wheel for olefile: filename=olefile-0.46-py2.py3-none-any.whl size=35416 sha256=6b782f6be5bc5f4b268c4e7477ec411773667789c08677e6325a4612cadc072c\n",
            "  Stored in directory: /root/.cache/pip/wheels/4b/f4/11/bc4166107c27f07fd7bba707ffcb439619197638a1ac986df3\n",
            "Successfully built pillow olefile\n",
            "\u001b[31mERROR: torchvision 0.9.1+cu101 has requirement pillow>=4.1.1, but you'll have pillow 4.0.0 which is incompatible.\u001b[0m\n",
            "\u001b[31mERROR: scikit-image 0.16.2 has requirement pillow>=4.3.0, but you'll have pillow 4.0.0 which is incompatible.\u001b[0m\n",
            "\u001b[31mERROR: bokeh 2.3.2 has requirement pillow>=7.1.0, but you'll have pillow 4.0.0 which is incompatible.\u001b[0m\n",
            "\u001b[31mERROR: albumentations 0.1.12 has requirement imgaug<0.2.7,>=0.2.5, but you'll have imgaug 0.2.9 which is incompatible.\u001b[0m\n",
            "Installing collected packages: olefile, pillow\n",
            "  Found existing installation: Pillow 7.1.2\n",
            "    Uninstalling Pillow-7.1.2:\n",
            "      Successfully uninstalled Pillow-7.1.2\n",
            "Successfully installed olefile-0.46 pillow-4.0.0\n"
          ],
          "name": "stdout"
        },
        {
          "output_type": "display_data",
          "data": {
            "application/vnd.colab-display-data+json": {
              "pip_warning": {
                "packages": [
                  "PIL"
                ]
              }
            }
          },
          "metadata": {
            "tags": []
          }
        }
      ]
    },
    {
      "cell_type": "code",
      "metadata": {
        "colab": {
          "base_uri": "https://localhost:8080/"
        },
        "id": "RQl4ZKWwyZ9z",
        "outputId": "a82bb95f-c903-4ff0-b6f0-d9ce79525e0e"
      },
      "source": [
        "%tensorflow_version 1.x"
      ],
      "execution_count": null,
      "outputs": [
        {
          "output_type": "stream",
          "text": [
            "TensorFlow 1.x selected.\n"
          ],
          "name": "stdout"
        }
      ]
    },
    {
      "cell_type": "code",
      "metadata": {
        "colab": {
          "base_uri": "https://localhost:8080/"
        },
        "id": "jqZC_nn8VL1D",
        "outputId": "192efc5a-0d39-4b39-ae65-17b079aa15f5"
      },
      "source": [
        "import tensorflow.keras\n",
        "print(tensorflow.__version__)\n",
        "print(tensorflow.keras.__version__)"
      ],
      "execution_count": null,
      "outputs": [
        {
          "output_type": "stream",
          "text": [
            "1.15.2\n",
            "2.2.4-tf\n"
          ],
          "name": "stdout"
        }
      ]
    },
    {
      "cell_type": "code",
      "metadata": {
        "id": "zIfvhBPIsz0p"
      },
      "source": [
        "from tensorflow.keras import models\n",
        "from tensorflow.keras import layers\n",
        "from tensorflow.keras import optimizers\n",
        "import os\n",
        "import glob\n",
        "import shutil\n",
        "import sys\n",
        "import numpy as np\n",
        "from skimage.io import imread\n",
        "import matplotlib.pyplot as plt\n",
        "from IPython.display import Image\n",
        "%matplotlib inline"
      ],
      "execution_count": null,
      "outputs": []
    },
    {
      "cell_type": "markdown",
      "metadata": {
        "id": "Yk8HlfoytBhX"
      },
      "source": [
        "## **Hyperparameters**"
      ]
    },
    {
      "cell_type": "code",
      "metadata": {
        "id": "QMLqCmFxs4fI"
      },
      "source": [
        "batch_size = 64\n",
        "\n",
        "width = 150\n",
        "height = 150\n",
        "epochs = 50\n",
        "NUM_TRAIN = 2103\n",
        "NUM_TEST = 400\n",
        "dropout_rate = 0.4\n",
        "input_shape = (height, width, 3)"
      ],
      "execution_count": null,
      "outputs": []
    },
    {
      "cell_type": "code",
      "metadata": {
        "colab": {
          "base_uri": "https://localhost:8080/"
        },
        "id": "tn480PuOtmqR",
        "outputId": "be16972d-d405-457e-a0db-6fd0972b8633"
      },
      "source": [
        "import os\n",
        "%cd /content\n",
        "if not os.path.isdir(\"efficientnet_keras_transfer_learning\"):\n",
        "  !git clone https://github.com/Tony607/efficientnet_keras_transfer_learning\n",
        "%cd efficientnet_keras_transfer_learning/"
      ],
      "execution_count": null,
      "outputs": [
        {
          "output_type": "stream",
          "text": [
            "/content\n",
            "/content/efficientnet_keras_transfer_learning\n"
          ],
          "name": "stdout"
        }
      ]
    },
    {
      "cell_type": "code",
      "metadata": {
        "colab": {
          "base_uri": "https://localhost:8080/"
        },
        "id": "0X3lJsJhtzgv",
        "outputId": "e9f1f6cc-9d24-4dbe-e749-24fcff118868"
      },
      "source": [
        "# Options: EfficientNetB0, EfficientNetB1, EfficientNetB2, EfficientNetB3\n",
        "# Higher the number, the more complex the model is.\n",
        "from efficientnet import EfficientNetB0 as Net\n",
        "from efficientnet import center_crop_and_resize, preprocess_input"
      ],
      "execution_count": null,
      "outputs": [
        {
          "output_type": "stream",
          "text": [
            "Using TensorFlow backend.\n"
          ],
          "name": "stderr"
        }
      ]
    },
    {
      "cell_type": "code",
      "metadata": {
        "colab": {
          "base_uri": "https://localhost:8080/"
        },
        "id": "oRvaOts7t_0Y",
        "outputId": "9971f3ba-fe46-4f76-8fea-775202fafdba"
      },
      "source": [
        "# loading pretrained conv base model\n",
        "conv_base = Net(weights='imagenet', include_top=False, input_shape=input_shape)"
      ],
      "execution_count": null,
      "outputs": [
        {
          "output_type": "stream",
          "text": [
            "WARNING:tensorflow:From /content/efficientnet_keras_transfer_learning/efficientnet/model.py:67: The name tf.random_normal is deprecated. Please use tf.random.normal instead.\n",
            "\n",
            "WARNING:tensorflow:From /tensorflow-1.15.2/python3.7/tensorflow_core/python/ops/resource_variable_ops.py:1630: calling BaseResourceVariable.__init__ (from tensorflow.python.ops.resource_variable_ops) with constraint is deprecated and will be removed in a future version.\n",
            "Instructions for updating:\n",
            "If using Keras pass *_constraint arguments to layers.\n",
            "WARNING:tensorflow:Entity <bound method Swish.call of <efficientnet.layers.Swish object at 0x7fa76c0db310>> could not be transformed and will be executed as-is. Please report this to the AutoGraph team. When filing the bug, set the verbosity to 10 (on Linux, `export AUTOGRAPH_VERBOSITY=10`) and attach the full output. Cause: Bad argument number for Name: 3, expecting 4\n",
            "WARNING: Entity <bound method Swish.call of <efficientnet.layers.Swish object at 0x7fa76c0db310>> could not be transformed and will be executed as-is. Please report this to the AutoGraph team. When filing the bug, set the verbosity to 10 (on Linux, `export AUTOGRAPH_VERBOSITY=10`) and attach the full output. Cause: Bad argument number for Name: 3, expecting 4\n",
            "WARNING:tensorflow:Entity <bound method Swish.call of <efficientnet.layers.Swish object at 0x7fa75b2f7ad0>> could not be transformed and will be executed as-is. Please report this to the AutoGraph team. When filing the bug, set the verbosity to 10 (on Linux, `export AUTOGRAPH_VERBOSITY=10`) and attach the full output. Cause: Bad argument number for Name: 3, expecting 4\n",
            "WARNING: Entity <bound method Swish.call of <efficientnet.layers.Swish object at 0x7fa75b2f7ad0>> could not be transformed and will be executed as-is. Please report this to the AutoGraph team. When filing the bug, set the verbosity to 10 (on Linux, `export AUTOGRAPH_VERBOSITY=10`) and attach the full output. Cause: Bad argument number for Name: 3, expecting 4\n",
            "WARNING:tensorflow:Entity <bound method Swish.call of <efficientnet.layers.Swish object at 0x7fa75b32d850>> could not be transformed and will be executed as-is. Please report this to the AutoGraph team. When filing the bug, set the verbosity to 10 (on Linux, `export AUTOGRAPH_VERBOSITY=10`) and attach the full output. Cause: Bad argument number for Name: 3, expecting 4\n",
            "WARNING: Entity <bound method Swish.call of <efficientnet.layers.Swish object at 0x7fa75b32d850>> could not be transformed and will be executed as-is. Please report this to the AutoGraph team. When filing the bug, set the verbosity to 10 (on Linux, `export AUTOGRAPH_VERBOSITY=10`) and attach the full output. Cause: Bad argument number for Name: 3, expecting 4\n",
            "WARNING:tensorflow:Entity <bound method Swish.call of <efficientnet.layers.Swish object at 0x7fa75c5abc90>> could not be transformed and will be executed as-is. Please report this to the AutoGraph team. When filing the bug, set the verbosity to 10 (on Linux, `export AUTOGRAPH_VERBOSITY=10`) and attach the full output. Cause: Bad argument number for Name: 3, expecting 4\n",
            "WARNING: Entity <bound method Swish.call of <efficientnet.layers.Swish object at 0x7fa75c5abc90>> could not be transformed and will be executed as-is. Please report this to the AutoGraph team. When filing the bug, set the verbosity to 10 (on Linux, `export AUTOGRAPH_VERBOSITY=10`) and attach the full output. Cause: Bad argument number for Name: 3, expecting 4\n",
            "WARNING:tensorflow:Entity <bound method Swish.call of <efficientnet.layers.Swish object at 0x7fa75b412410>> could not be transformed and will be executed as-is. Please report this to the AutoGraph team. When filing the bug, set the verbosity to 10 (on Linux, `export AUTOGRAPH_VERBOSITY=10`) and attach the full output. Cause: Bad argument number for Name: 3, expecting 4\n",
            "WARNING: Entity <bound method Swish.call of <efficientnet.layers.Swish object at 0x7fa75b412410>> could not be transformed and will be executed as-is. Please report this to the AutoGraph team. When filing the bug, set the verbosity to 10 (on Linux, `export AUTOGRAPH_VERBOSITY=10`) and attach the full output. Cause: Bad argument number for Name: 3, expecting 4\n",
            "WARNING:tensorflow:Entity <bound method Swish.call of <efficientnet.layers.Swish object at 0x7fa75b3e1d90>> could not be transformed and will be executed as-is. Please report this to the AutoGraph team. When filing the bug, set the verbosity to 10 (on Linux, `export AUTOGRAPH_VERBOSITY=10`) and attach the full output. Cause: Bad argument number for Name: 3, expecting 4\n",
            "WARNING: Entity <bound method Swish.call of <efficientnet.layers.Swish object at 0x7fa75b3e1d90>> could not be transformed and will be executed as-is. Please report this to the AutoGraph team. When filing the bug, set the verbosity to 10 (on Linux, `export AUTOGRAPH_VERBOSITY=10`) and attach the full output. Cause: Bad argument number for Name: 3, expecting 4\n",
            "WARNING:tensorflow:Entity <bound method Swish.call of <efficientnet.layers.Swish object at 0x7fa75b3cb3d0>> could not be transformed and will be executed as-is. Please report this to the AutoGraph team. When filing the bug, set the verbosity to 10 (on Linux, `export AUTOGRAPH_VERBOSITY=10`) and attach the full output. Cause: Bad argument number for Name: 3, expecting 4\n",
            "WARNING: Entity <bound method Swish.call of <efficientnet.layers.Swish object at 0x7fa75b3cb3d0>> could not be transformed and will be executed as-is. Please report this to the AutoGraph team. When filing the bug, set the verbosity to 10 (on Linux, `export AUTOGRAPH_VERBOSITY=10`) and attach the full output. Cause: Bad argument number for Name: 3, expecting 4\n",
            "WARNING:tensorflow:Entity <bound method Swish.call of <efficientnet.layers.Swish object at 0x7fa75b3897d0>> could not be transformed and will be executed as-is. Please report this to the AutoGraph team. When filing the bug, set the verbosity to 10 (on Linux, `export AUTOGRAPH_VERBOSITY=10`) and attach the full output. Cause: Bad argument number for Name: 3, expecting 4\n",
            "WARNING: Entity <bound method Swish.call of <efficientnet.layers.Swish object at 0x7fa75b3897d0>> could not be transformed and will be executed as-is. Please report this to the AutoGraph team. When filing the bug, set the verbosity to 10 (on Linux, `export AUTOGRAPH_VERBOSITY=10`) and attach the full output. Cause: Bad argument number for Name: 3, expecting 4\n",
            "WARNING:tensorflow:Entity <bound method Swish.call of <efficientnet.layers.Swish object at 0x7fa75b2c5110>> could not be transformed and will be executed as-is. Please report this to the AutoGraph team. When filing the bug, set the verbosity to 10 (on Linux, `export AUTOGRAPH_VERBOSITY=10`) and attach the full output. Cause: Bad argument number for Name: 3, expecting 4\n",
            "WARNING: Entity <bound method Swish.call of <efficientnet.layers.Swish object at 0x7fa75b2c5110>> could not be transformed and will be executed as-is. Please report this to the AutoGraph team. When filing the bug, set the verbosity to 10 (on Linux, `export AUTOGRAPH_VERBOSITY=10`) and attach the full output. Cause: Bad argument number for Name: 3, expecting 4\n",
            "WARNING:tensorflow:Entity <bound method DropConnect.call of <efficientnet.layers.DropConnect object at 0x7fa75b276c90>> could not be transformed and will be executed as-is. Please report this to the AutoGraph team. When filing the bug, set the verbosity to 10 (on Linux, `export AUTOGRAPH_VERBOSITY=10`) and attach the full output. Cause: module 'gast' has no attribute 'Num'\n",
            "WARNING: Entity <bound method DropConnect.call of <efficientnet.layers.DropConnect object at 0x7fa75b276c90>> could not be transformed and will be executed as-is. Please report this to the AutoGraph team. When filing the bug, set the verbosity to 10 (on Linux, `export AUTOGRAPH_VERBOSITY=10`) and attach the full output. Cause: module 'gast' has no attribute 'Num'\n",
            "WARNING:tensorflow:From /content/efficientnet_keras_transfer_learning/efficientnet/layers.py:28: The name tf.random_uniform is deprecated. Please use tf.random.uniform instead.\n",
            "\n",
            "WARNING:tensorflow:From /content/efficientnet_keras_transfer_learning/efficientnet/layers.py:30: div (from tensorflow.python.ops.math_ops) is deprecated and will be removed in a future version.\n",
            "Instructions for updating:\n",
            "Deprecated in favor of operator or tf.math.divide.\n",
            "WARNING:tensorflow:Entity <bound method Swish.call of <efficientnet.layers.Swish object at 0x7fa75b240190>> could not be transformed and will be executed as-is. Please report this to the AutoGraph team. When filing the bug, set the verbosity to 10 (on Linux, `export AUTOGRAPH_VERBOSITY=10`) and attach the full output. Cause: Bad argument number for Name: 3, expecting 4\n",
            "WARNING: Entity <bound method Swish.call of <efficientnet.layers.Swish object at 0x7fa75b240190>> could not be transformed and will be executed as-is. Please report this to the AutoGraph team. When filing the bug, set the verbosity to 10 (on Linux, `export AUTOGRAPH_VERBOSITY=10`) and attach the full output. Cause: Bad argument number for Name: 3, expecting 4\n",
            "WARNING:tensorflow:Entity <bound method Swish.call of <efficientnet.layers.Swish object at 0x7fa75b193990>> could not be transformed and will be executed as-is. Please report this to the AutoGraph team. When filing the bug, set the verbosity to 10 (on Linux, `export AUTOGRAPH_VERBOSITY=10`) and attach the full output. Cause: Bad argument number for Name: 3, expecting 4\n",
            "WARNING: Entity <bound method Swish.call of <efficientnet.layers.Swish object at 0x7fa75b193990>> could not be transformed and will be executed as-is. Please report this to the AutoGraph team. When filing the bug, set the verbosity to 10 (on Linux, `export AUTOGRAPH_VERBOSITY=10`) and attach the full output. Cause: Bad argument number for Name: 3, expecting 4\n",
            "WARNING:tensorflow:Entity <bound method Swish.call of <efficientnet.layers.Swish object at 0x7fa75b1aded0>> could not be transformed and will be executed as-is. Please report this to the AutoGraph team. When filing the bug, set the verbosity to 10 (on Linux, `export AUTOGRAPH_VERBOSITY=10`) and attach the full output. Cause: Bad argument number for Name: 3, expecting 4\n",
            "WARNING: Entity <bound method Swish.call of <efficientnet.layers.Swish object at 0x7fa75b1aded0>> could not be transformed and will be executed as-is. Please report this to the AutoGraph team. When filing the bug, set the verbosity to 10 (on Linux, `export AUTOGRAPH_VERBOSITY=10`) and attach the full output. Cause: Bad argument number for Name: 3, expecting 4\n",
            "WARNING:tensorflow:Entity <bound method Swish.call of <efficientnet.layers.Swish object at 0x7fa75b1b5f10>> could not be transformed and will be executed as-is. Please report this to the AutoGraph team. When filing the bug, set the verbosity to 10 (on Linux, `export AUTOGRAPH_VERBOSITY=10`) and attach the full output. Cause: Bad argument number for Name: 3, expecting 4\n",
            "WARNING: Entity <bound method Swish.call of <efficientnet.layers.Swish object at 0x7fa75b1b5f10>> could not be transformed and will be executed as-is. Please report this to the AutoGraph team. When filing the bug, set the verbosity to 10 (on Linux, `export AUTOGRAPH_VERBOSITY=10`) and attach the full output. Cause: Bad argument number for Name: 3, expecting 4\n",
            "WARNING:tensorflow:Entity <bound method Swish.call of <efficientnet.layers.Swish object at 0x7fa75b0ed110>> could not be transformed and will be executed as-is. Please report this to the AutoGraph team. When filing the bug, set the verbosity to 10 (on Linux, `export AUTOGRAPH_VERBOSITY=10`) and attach the full output. Cause: Bad argument number for Name: 3, expecting 4\n",
            "WARNING: Entity <bound method Swish.call of <efficientnet.layers.Swish object at 0x7fa75b0ed110>> could not be transformed and will be executed as-is. Please report this to the AutoGraph team. When filing the bug, set the verbosity to 10 (on Linux, `export AUTOGRAPH_VERBOSITY=10`) and attach the full output. Cause: Bad argument number for Name: 3, expecting 4\n",
            "WARNING:tensorflow:Entity <bound method Swish.call of <efficientnet.layers.Swish object at 0x7fa75b106610>> could not be transformed and will be executed as-is. Please report this to the AutoGraph team. When filing the bug, set the verbosity to 10 (on Linux, `export AUTOGRAPH_VERBOSITY=10`) and attach the full output. Cause: Bad argument number for Name: 3, expecting 4\n",
            "WARNING: Entity <bound method Swish.call of <efficientnet.layers.Swish object at 0x7fa75b106610>> could not be transformed and will be executed as-is. Please report this to the AutoGraph team. When filing the bug, set the verbosity to 10 (on Linux, `export AUTOGRAPH_VERBOSITY=10`) and attach the full output. Cause: Bad argument number for Name: 3, expecting 4\n",
            "WARNING:tensorflow:Entity <bound method DropConnect.call of <efficientnet.layers.DropConnect object at 0x7fa75b04f550>> could not be transformed and will be executed as-is. Please report this to the AutoGraph team. When filing the bug, set the verbosity to 10 (on Linux, `export AUTOGRAPH_VERBOSITY=10`) and attach the full output. Cause: module 'gast' has no attribute 'Num'\n",
            "WARNING: Entity <bound method DropConnect.call of <efficientnet.layers.DropConnect object at 0x7fa75b04f550>> could not be transformed and will be executed as-is. Please report this to the AutoGraph team. When filing the bug, set the verbosity to 10 (on Linux, `export AUTOGRAPH_VERBOSITY=10`) and attach the full output. Cause: module 'gast' has no attribute 'Num'\n",
            "WARNING:tensorflow:Entity <bound method Swish.call of <efficientnet.layers.Swish object at 0x7fa75b030350>> could not be transformed and will be executed as-is. Please report this to the AutoGraph team. When filing the bug, set the verbosity to 10 (on Linux, `export AUTOGRAPH_VERBOSITY=10`) and attach the full output. Cause: Bad argument number for Name: 3, expecting 4\n",
            "WARNING: Entity <bound method Swish.call of <efficientnet.layers.Swish object at 0x7fa75b030350>> could not be transformed and will be executed as-is. Please report this to the AutoGraph team. When filing the bug, set the verbosity to 10 (on Linux, `export AUTOGRAPH_VERBOSITY=10`) and attach the full output. Cause: Bad argument number for Name: 3, expecting 4\n",
            "WARNING:tensorflow:Entity <bound method Swish.call of <efficientnet.layers.Swish object at 0x7fa75aff8fd0>> could not be transformed and will be executed as-is. Please report this to the AutoGraph team. When filing the bug, set the verbosity to 10 (on Linux, `export AUTOGRAPH_VERBOSITY=10`) and attach the full output. Cause: Bad argument number for Name: 3, expecting 4\n",
            "WARNING: Entity <bound method Swish.call of <efficientnet.layers.Swish object at 0x7fa75aff8fd0>> could not be transformed and will be executed as-is. Please report this to the AutoGraph team. When filing the bug, set the verbosity to 10 (on Linux, `export AUTOGRAPH_VERBOSITY=10`) and attach the full output. Cause: Bad argument number for Name: 3, expecting 4\n",
            "WARNING:tensorflow:Entity <bound method Swish.call of <efficientnet.layers.Swish object at 0x7fa75af96e10>> could not be transformed and will be executed as-is. Please report this to the AutoGraph team. When filing the bug, set the verbosity to 10 (on Linux, `export AUTOGRAPH_VERBOSITY=10`) and attach the full output. Cause: Bad argument number for Name: 3, expecting 4\n",
            "WARNING: Entity <bound method Swish.call of <efficientnet.layers.Swish object at 0x7fa75af96e10>> could not be transformed and will be executed as-is. Please report this to the AutoGraph team. When filing the bug, set the verbosity to 10 (on Linux, `export AUTOGRAPH_VERBOSITY=10`) and attach the full output. Cause: Bad argument number for Name: 3, expecting 4\n",
            "WARNING:tensorflow:Entity <bound method Swish.call of <efficientnet.layers.Swish object at 0x7fa75afc88d0>> could not be transformed and will be executed as-is. Please report this to the AutoGraph team. When filing the bug, set the verbosity to 10 (on Linux, `export AUTOGRAPH_VERBOSITY=10`) and attach the full output. Cause: Bad argument number for Name: 3, expecting 4\n",
            "WARNING: Entity <bound method Swish.call of <efficientnet.layers.Swish object at 0x7fa75afc88d0>> could not be transformed and will be executed as-is. Please report this to the AutoGraph team. When filing the bug, set the verbosity to 10 (on Linux, `export AUTOGRAPH_VERBOSITY=10`) and attach the full output. Cause: Bad argument number for Name: 3, expecting 4\n",
            "WARNING:tensorflow:Entity <bound method Swish.call of <efficientnet.layers.Swish object at 0x7fa75aee5590>> could not be transformed and will be executed as-is. Please report this to the AutoGraph team. When filing the bug, set the verbosity to 10 (on Linux, `export AUTOGRAPH_VERBOSITY=10`) and attach the full output. Cause: Bad argument number for Name: 3, expecting 4\n",
            "WARNING: Entity <bound method Swish.call of <efficientnet.layers.Swish object at 0x7fa75aee5590>> could not be transformed and will be executed as-is. Please report this to the AutoGraph team. When filing the bug, set the verbosity to 10 (on Linux, `export AUTOGRAPH_VERBOSITY=10`) and attach the full output. Cause: Bad argument number for Name: 3, expecting 4\n",
            "WARNING:tensorflow:Entity <bound method Swish.call of <efficientnet.layers.Swish object at 0x7fa75aebfc10>> could not be transformed and will be executed as-is. Please report this to the AutoGraph team. When filing the bug, set the verbosity to 10 (on Linux, `export AUTOGRAPH_VERBOSITY=10`) and attach the full output. Cause: Bad argument number for Name: 3, expecting 4\n",
            "WARNING: Entity <bound method Swish.call of <efficientnet.layers.Swish object at 0x7fa75aebfc10>> could not be transformed and will be executed as-is. Please report this to the AutoGraph team. When filing the bug, set the verbosity to 10 (on Linux, `export AUTOGRAPH_VERBOSITY=10`) and attach the full output. Cause: Bad argument number for Name: 3, expecting 4\n",
            "WARNING:tensorflow:Entity <bound method DropConnect.call of <efficientnet.layers.DropConnect object at 0x7fa75aec81d0>> could not be transformed and will be executed as-is. Please report this to the AutoGraph team. When filing the bug, set the verbosity to 10 (on Linux, `export AUTOGRAPH_VERBOSITY=10`) and attach the full output. Cause: module 'gast' has no attribute 'Num'\n",
            "WARNING: Entity <bound method DropConnect.call of <efficientnet.layers.DropConnect object at 0x7fa75aec81d0>> could not be transformed and will be executed as-is. Please report this to the AutoGraph team. When filing the bug, set the verbosity to 10 (on Linux, `export AUTOGRAPH_VERBOSITY=10`) and attach the full output. Cause: module 'gast' has no attribute 'Num'\n",
            "WARNING:tensorflow:Entity <bound method Swish.call of <efficientnet.layers.Swish object at 0x7fa75ae24f10>> could not be transformed and will be executed as-is. Please report this to the AutoGraph team. When filing the bug, set the verbosity to 10 (on Linux, `export AUTOGRAPH_VERBOSITY=10`) and attach the full output. Cause: Bad argument number for Name: 3, expecting 4\n",
            "WARNING: Entity <bound method Swish.call of <efficientnet.layers.Swish object at 0x7fa75ae24f10>> could not be transformed and will be executed as-is. Please report this to the AutoGraph team. When filing the bug, set the verbosity to 10 (on Linux, `export AUTOGRAPH_VERBOSITY=10`) and attach the full output. Cause: Bad argument number for Name: 3, expecting 4\n",
            "WARNING:tensorflow:Entity <bound method Swish.call of <efficientnet.layers.Swish object at 0x7fa75ae00890>> could not be transformed and will be executed as-is. Please report this to the AutoGraph team. When filing the bug, set the verbosity to 10 (on Linux, `export AUTOGRAPH_VERBOSITY=10`) and attach the full output. Cause: Bad argument number for Name: 3, expecting 4\n",
            "WARNING: Entity <bound method Swish.call of <efficientnet.layers.Swish object at 0x7fa75ae00890>> could not be transformed and will be executed as-is. Please report this to the AutoGraph team. When filing the bug, set the verbosity to 10 (on Linux, `export AUTOGRAPH_VERBOSITY=10`) and attach the full output. Cause: Bad argument number for Name: 3, expecting 4\n",
            "WARNING:tensorflow:Entity <bound method Swish.call of <efficientnet.layers.Swish object at 0x7fa75adb3950>> could not be transformed and will be executed as-is. Please report this to the AutoGraph team. When filing the bug, set the verbosity to 10 (on Linux, `export AUTOGRAPH_VERBOSITY=10`) and attach the full output. Cause: Bad argument number for Name: 3, expecting 4\n",
            "WARNING: Entity <bound method Swish.call of <efficientnet.layers.Swish object at 0x7fa75adb3950>> could not be transformed and will be executed as-is. Please report this to the AutoGraph team. When filing the bug, set the verbosity to 10 (on Linux, `export AUTOGRAPH_VERBOSITY=10`) and attach the full output. Cause: Bad argument number for Name: 3, expecting 4\n",
            "WARNING:tensorflow:Entity <bound method DropConnect.call of <efficientnet.layers.DropConnect object at 0x7fa75ad64250>> could not be transformed and will be executed as-is. Please report this to the AutoGraph team. When filing the bug, set the verbosity to 10 (on Linux, `export AUTOGRAPH_VERBOSITY=10`) and attach the full output. Cause: module 'gast' has no attribute 'Num'\n",
            "WARNING: Entity <bound method DropConnect.call of <efficientnet.layers.DropConnect object at 0x7fa75ad64250>> could not be transformed and will be executed as-is. Please report this to the AutoGraph team. When filing the bug, set the verbosity to 10 (on Linux, `export AUTOGRAPH_VERBOSITY=10`) and attach the full output. Cause: module 'gast' has no attribute 'Num'\n",
            "WARNING:tensorflow:Entity <bound method Swish.call of <efficientnet.layers.Swish object at 0x7fa75ad20550>> could not be transformed and will be executed as-is. Please report this to the AutoGraph team. When filing the bug, set the verbosity to 10 (on Linux, `export AUTOGRAPH_VERBOSITY=10`) and attach the full output. Cause: Bad argument number for Name: 3, expecting 4\n",
            "WARNING: Entity <bound method Swish.call of <efficientnet.layers.Swish object at 0x7fa75ad20550>> could not be transformed and will be executed as-is. Please report this to the AutoGraph team. When filing the bug, set the verbosity to 10 (on Linux, `export AUTOGRAPH_VERBOSITY=10`) and attach the full output. Cause: Bad argument number for Name: 3, expecting 4\n",
            "WARNING:tensorflow:Entity <bound method Swish.call of <efficientnet.layers.Swish object at 0x7fa75ad16a50>> could not be transformed and will be executed as-is. Please report this to the AutoGraph team. When filing the bug, set the verbosity to 10 (on Linux, `export AUTOGRAPH_VERBOSITY=10`) and attach the full output. Cause: Bad argument number for Name: 3, expecting 4\n",
            "WARNING: Entity <bound method Swish.call of <efficientnet.layers.Swish object at 0x7fa75ad16a50>> could not be transformed and will be executed as-is. Please report this to the AutoGraph team. When filing the bug, set the verbosity to 10 (on Linux, `export AUTOGRAPH_VERBOSITY=10`) and attach the full output. Cause: Bad argument number for Name: 3, expecting 4\n",
            "WARNING:tensorflow:Entity <bound method Swish.call of <efficientnet.layers.Swish object at 0x7fa75acc9990>> could not be transformed and will be executed as-is. Please report this to the AutoGraph team. When filing the bug, set the verbosity to 10 (on Linux, `export AUTOGRAPH_VERBOSITY=10`) and attach the full output. Cause: Bad argument number for Name: 3, expecting 4\n",
            "WARNING: Entity <bound method Swish.call of <efficientnet.layers.Swish object at 0x7fa75acc9990>> could not be transformed and will be executed as-is. Please report this to the AutoGraph team. When filing the bug, set the verbosity to 10 (on Linux, `export AUTOGRAPH_VERBOSITY=10`) and attach the full output. Cause: Bad argument number for Name: 3, expecting 4\n",
            "WARNING:tensorflow:Entity <bound method Swish.call of <efficientnet.layers.Swish object at 0x7fa75ac23350>> could not be transformed and will be executed as-is. Please report this to the AutoGraph team. When filing the bug, set the verbosity to 10 (on Linux, `export AUTOGRAPH_VERBOSITY=10`) and attach the full output. Cause: Bad argument number for Name: 3, expecting 4\n",
            "WARNING: Entity <bound method Swish.call of <efficientnet.layers.Swish object at 0x7fa75ac23350>> could not be transformed and will be executed as-is. Please report this to the AutoGraph team. When filing the bug, set the verbosity to 10 (on Linux, `export AUTOGRAPH_VERBOSITY=10`) and attach the full output. Cause: Bad argument number for Name: 3, expecting 4\n",
            "WARNING:tensorflow:Entity <bound method Swish.call of <efficientnet.layers.Swish object at 0x7fa75abf1850>> could not be transformed and will be executed as-is. Please report this to the AutoGraph team. When filing the bug, set the verbosity to 10 (on Linux, `export AUTOGRAPH_VERBOSITY=10`) and attach the full output. Cause: Bad argument number for Name: 3, expecting 4\n",
            "WARNING: Entity <bound method Swish.call of <efficientnet.layers.Swish object at 0x7fa75abf1850>> could not be transformed and will be executed as-is. Please report this to the AutoGraph team. When filing the bug, set the verbosity to 10 (on Linux, `export AUTOGRAPH_VERBOSITY=10`) and attach the full output. Cause: Bad argument number for Name: 3, expecting 4\n",
            "WARNING:tensorflow:Entity <bound method Swish.call of <efficientnet.layers.Swish object at 0x7fa75adcc890>> could not be transformed and will be executed as-is. Please report this to the AutoGraph team. When filing the bug, set the verbosity to 10 (on Linux, `export AUTOGRAPH_VERBOSITY=10`) and attach the full output. Cause: Bad argument number for Name: 3, expecting 4\n",
            "WARNING: Entity <bound method Swish.call of <efficientnet.layers.Swish object at 0x7fa75adcc890>> could not be transformed and will be executed as-is. Please report this to the AutoGraph team. When filing the bug, set the verbosity to 10 (on Linux, `export AUTOGRAPH_VERBOSITY=10`) and attach the full output. Cause: Bad argument number for Name: 3, expecting 4\n",
            "WARNING:tensorflow:Entity <bound method DropConnect.call of <efficientnet.layers.DropConnect object at 0x7fa75ab51e10>> could not be transformed and will be executed as-is. Please report this to the AutoGraph team. When filing the bug, set the verbosity to 10 (on Linux, `export AUTOGRAPH_VERBOSITY=10`) and attach the full output. Cause: module 'gast' has no attribute 'Num'\n",
            "WARNING: Entity <bound method DropConnect.call of <efficientnet.layers.DropConnect object at 0x7fa75ab51e10>> could not be transformed and will be executed as-is. Please report this to the AutoGraph team. When filing the bug, set the verbosity to 10 (on Linux, `export AUTOGRAPH_VERBOSITY=10`) and attach the full output. Cause: module 'gast' has no attribute 'Num'\n",
            "WARNING:tensorflow:Entity <bound method Swish.call of <efficientnet.layers.Swish object at 0x7fa75ab13e10>> could not be transformed and will be executed as-is. Please report this to the AutoGraph team. When filing the bug, set the verbosity to 10 (on Linux, `export AUTOGRAPH_VERBOSITY=10`) and attach the full output. Cause: Bad argument number for Name: 3, expecting 4\n",
            "WARNING: Entity <bound method Swish.call of <efficientnet.layers.Swish object at 0x7fa75ab13e10>> could not be transformed and will be executed as-is. Please report this to the AutoGraph team. When filing the bug, set the verbosity to 10 (on Linux, `export AUTOGRAPH_VERBOSITY=10`) and attach the full output. Cause: Bad argument number for Name: 3, expecting 4\n",
            "WARNING:tensorflow:Entity <bound method Swish.call of <efficientnet.layers.Swish object at 0x7fa75aaddf50>> could not be transformed and will be executed as-is. Please report this to the AutoGraph team. When filing the bug, set the verbosity to 10 (on Linux, `export AUTOGRAPH_VERBOSITY=10`) and attach the full output. Cause: Bad argument number for Name: 3, expecting 4\n",
            "WARNING: Entity <bound method Swish.call of <efficientnet.layers.Swish object at 0x7fa75aaddf50>> could not be transformed and will be executed as-is. Please report this to the AutoGraph team. When filing the bug, set the verbosity to 10 (on Linux, `export AUTOGRAPH_VERBOSITY=10`) and attach the full output. Cause: Bad argument number for Name: 3, expecting 4\n",
            "WARNING:tensorflow:Entity <bound method Swish.call of <efficientnet.layers.Swish object at 0x7fa75aab09d0>> could not be transformed and will be executed as-is. Please report this to the AutoGraph team. When filing the bug, set the verbosity to 10 (on Linux, `export AUTOGRAPH_VERBOSITY=10`) and attach the full output. Cause: Bad argument number for Name: 3, expecting 4\n",
            "WARNING: Entity <bound method Swish.call of <efficientnet.layers.Swish object at 0x7fa75aab09d0>> could not be transformed and will be executed as-is. Please report this to the AutoGraph team. When filing the bug, set the verbosity to 10 (on Linux, `export AUTOGRAPH_VERBOSITY=10`) and attach the full output. Cause: Bad argument number for Name: 3, expecting 4\n",
            "WARNING:tensorflow:Entity <bound method DropConnect.call of <efficientnet.layers.DropConnect object at 0x7fa75aacd750>> could not be transformed and will be executed as-is. Please report this to the AutoGraph team. When filing the bug, set the verbosity to 10 (on Linux, `export AUTOGRAPH_VERBOSITY=10`) and attach the full output. Cause: module 'gast' has no attribute 'Num'\n",
            "WARNING: Entity <bound method DropConnect.call of <efficientnet.layers.DropConnect object at 0x7fa75aacd750>> could not be transformed and will be executed as-is. Please report this to the AutoGraph team. When filing the bug, set the verbosity to 10 (on Linux, `export AUTOGRAPH_VERBOSITY=10`) and attach the full output. Cause: module 'gast' has no attribute 'Num'\n",
            "WARNING:tensorflow:Entity <bound method Swish.call of <efficientnet.layers.Swish object at 0x7fa75aa13750>> could not be transformed and will be executed as-is. Please report this to the AutoGraph team. When filing the bug, set the verbosity to 10 (on Linux, `export AUTOGRAPH_VERBOSITY=10`) and attach the full output. Cause: Bad argument number for Name: 3, expecting 4\n",
            "WARNING: Entity <bound method Swish.call of <efficientnet.layers.Swish object at 0x7fa75aa13750>> could not be transformed and will be executed as-is. Please report this to the AutoGraph team. When filing the bug, set the verbosity to 10 (on Linux, `export AUTOGRAPH_VERBOSITY=10`) and attach the full output. Cause: Bad argument number for Name: 3, expecting 4\n",
            "WARNING:tensorflow:Entity <bound method Swish.call of <efficientnet.layers.Swish object at 0x7fa75a9e1890>> could not be transformed and will be executed as-is. Please report this to the AutoGraph team. When filing the bug, set the verbosity to 10 (on Linux, `export AUTOGRAPH_VERBOSITY=10`) and attach the full output. Cause: Bad argument number for Name: 3, expecting 4\n",
            "WARNING: Entity <bound method Swish.call of <efficientnet.layers.Swish object at 0x7fa75a9e1890>> could not be transformed and will be executed as-is. Please report this to the AutoGraph team. When filing the bug, set the verbosity to 10 (on Linux, `export AUTOGRAPH_VERBOSITY=10`) and attach the full output. Cause: Bad argument number for Name: 3, expecting 4\n",
            "WARNING:tensorflow:Entity <bound method Swish.call of <efficientnet.layers.Swish object at 0x7fa75a9bcf90>> could not be transformed and will be executed as-is. Please report this to the AutoGraph team. When filing the bug, set the verbosity to 10 (on Linux, `export AUTOGRAPH_VERBOSITY=10`) and attach the full output. Cause: Bad argument number for Name: 3, expecting 4\n",
            "WARNING: Entity <bound method Swish.call of <efficientnet.layers.Swish object at 0x7fa75a9bcf90>> could not be transformed and will be executed as-is. Please report this to the AutoGraph team. When filing the bug, set the verbosity to 10 (on Linux, `export AUTOGRAPH_VERBOSITY=10`) and attach the full output. Cause: Bad argument number for Name: 3, expecting 4\n",
            "WARNING:tensorflow:Entity <bound method Swish.call of <efficientnet.layers.Swish object at 0x7fa75a969190>> could not be transformed and will be executed as-is. Please report this to the AutoGraph team. When filing the bug, set the verbosity to 10 (on Linux, `export AUTOGRAPH_VERBOSITY=10`) and attach the full output. Cause: Bad argument number for Name: 3, expecting 4\n",
            "WARNING: Entity <bound method Swish.call of <efficientnet.layers.Swish object at 0x7fa75a969190>> could not be transformed and will be executed as-is. Please report this to the AutoGraph team. When filing the bug, set the verbosity to 10 (on Linux, `export AUTOGRAPH_VERBOSITY=10`) and attach the full output. Cause: Bad argument number for Name: 3, expecting 4\n",
            "WARNING:tensorflow:Entity <bound method Swish.call of <efficientnet.layers.Swish object at 0x7fa75a9c3e90>> could not be transformed and will be executed as-is. Please report this to the AutoGraph team. When filing the bug, set the verbosity to 10 (on Linux, `export AUTOGRAPH_VERBOSITY=10`) and attach the full output. Cause: Bad argument number for Name: 3, expecting 4\n",
            "WARNING: Entity <bound method Swish.call of <efficientnet.layers.Swish object at 0x7fa75a9c3e90>> could not be transformed and will be executed as-is. Please report this to the AutoGraph team. When filing the bug, set the verbosity to 10 (on Linux, `export AUTOGRAPH_VERBOSITY=10`) and attach the full output. Cause: Bad argument number for Name: 3, expecting 4\n",
            "WARNING:tensorflow:Entity <bound method Swish.call of <efficientnet.layers.Swish object at 0x7fa75a8f4350>> could not be transformed and will be executed as-is. Please report this to the AutoGraph team. When filing the bug, set the verbosity to 10 (on Linux, `export AUTOGRAPH_VERBOSITY=10`) and attach the full output. Cause: Bad argument number for Name: 3, expecting 4\n",
            "WARNING: Entity <bound method Swish.call of <efficientnet.layers.Swish object at 0x7fa75a8f4350>> could not be transformed and will be executed as-is. Please report this to the AutoGraph team. When filing the bug, set the verbosity to 10 (on Linux, `export AUTOGRAPH_VERBOSITY=10`) and attach the full output. Cause: Bad argument number for Name: 3, expecting 4\n",
            "WARNING:tensorflow:Entity <bound method DropConnect.call of <efficientnet.layers.DropConnect object at 0x7fa75a8c5990>> could not be transformed and will be executed as-is. Please report this to the AutoGraph team. When filing the bug, set the verbosity to 10 (on Linux, `export AUTOGRAPH_VERBOSITY=10`) and attach the full output. Cause: module 'gast' has no attribute 'Num'\n",
            "WARNING: Entity <bound method DropConnect.call of <efficientnet.layers.DropConnect object at 0x7fa75a8c5990>> could not be transformed and will be executed as-is. Please report this to the AutoGraph team. When filing the bug, set the verbosity to 10 (on Linux, `export AUTOGRAPH_VERBOSITY=10`) and attach the full output. Cause: module 'gast' has no attribute 'Num'\n",
            "WARNING:tensorflow:Entity <bound method Swish.call of <efficientnet.layers.Swish object at 0x7fa75a814510>> could not be transformed and will be executed as-is. Please report this to the AutoGraph team. When filing the bug, set the verbosity to 10 (on Linux, `export AUTOGRAPH_VERBOSITY=10`) and attach the full output. Cause: Bad argument number for Name: 3, expecting 4\n",
            "WARNING: Entity <bound method Swish.call of <efficientnet.layers.Swish object at 0x7fa75a814510>> could not be transformed and will be executed as-is. Please report this to the AutoGraph team. When filing the bug, set the verbosity to 10 (on Linux, `export AUTOGRAPH_VERBOSITY=10`) and attach the full output. Cause: Bad argument number for Name: 3, expecting 4\n",
            "WARNING:tensorflow:Entity <bound method Swish.call of <efficientnet.layers.Swish object at 0x7fa75a7d1f90>> could not be transformed and will be executed as-is. Please report this to the AutoGraph team. When filing the bug, set the verbosity to 10 (on Linux, `export AUTOGRAPH_VERBOSITY=10`) and attach the full output. Cause: Bad argument number for Name: 3, expecting 4\n",
            "WARNING: Entity <bound method Swish.call of <efficientnet.layers.Swish object at 0x7fa75a7d1f90>> could not be transformed and will be executed as-is. Please report this to the AutoGraph team. When filing the bug, set the verbosity to 10 (on Linux, `export AUTOGRAPH_VERBOSITY=10`) and attach the full output. Cause: Bad argument number for Name: 3, expecting 4\n",
            "WARNING:tensorflow:Entity <bound method Swish.call of <efficientnet.layers.Swish object at 0x7fa75a7c6990>> could not be transformed and will be executed as-is. Please report this to the AutoGraph team. When filing the bug, set the verbosity to 10 (on Linux, `export AUTOGRAPH_VERBOSITY=10`) and attach the full output. Cause: Bad argument number for Name: 3, expecting 4\n",
            "WARNING: Entity <bound method Swish.call of <efficientnet.layers.Swish object at 0x7fa75a7c6990>> could not be transformed and will be executed as-is. Please report this to the AutoGraph team. When filing the bug, set the verbosity to 10 (on Linux, `export AUTOGRAPH_VERBOSITY=10`) and attach the full output. Cause: Bad argument number for Name: 3, expecting 4\n",
            "WARNING:tensorflow:Entity <bound method DropConnect.call of <efficientnet.layers.DropConnect object at 0x7fa75a768090>> could not be transformed and will be executed as-is. Please report this to the AutoGraph team. When filing the bug, set the verbosity to 10 (on Linux, `export AUTOGRAPH_VERBOSITY=10`) and attach the full output. Cause: module 'gast' has no attribute 'Num'\n",
            "WARNING: Entity <bound method DropConnect.call of <efficientnet.layers.DropConnect object at 0x7fa75a768090>> could not be transformed and will be executed as-is. Please report this to the AutoGraph team. When filing the bug, set the verbosity to 10 (on Linux, `export AUTOGRAPH_VERBOSITY=10`) and attach the full output. Cause: module 'gast' has no attribute 'Num'\n",
            "WARNING:tensorflow:Entity <bound method Swish.call of <efficientnet.layers.Swish object at 0x7fa75a71eed0>> could not be transformed and will be executed as-is. Please report this to the AutoGraph team. When filing the bug, set the verbosity to 10 (on Linux, `export AUTOGRAPH_VERBOSITY=10`) and attach the full output. Cause: Bad argument number for Name: 3, expecting 4\n",
            "WARNING: Entity <bound method Swish.call of <efficientnet.layers.Swish object at 0x7fa75a71eed0>> could not be transformed and will be executed as-is. Please report this to the AutoGraph team. When filing the bug, set the verbosity to 10 (on Linux, `export AUTOGRAPH_VERBOSITY=10`) and attach the full output. Cause: Bad argument number for Name: 3, expecting 4\n",
            "WARNING:tensorflow:Entity <bound method Swish.call of <efficientnet.layers.Swish object at 0x7fa75a6ea250>> could not be transformed and will be executed as-is. Please report this to the AutoGraph team. When filing the bug, set the verbosity to 10 (on Linux, `export AUTOGRAPH_VERBOSITY=10`) and attach the full output. Cause: Bad argument number for Name: 3, expecting 4\n",
            "WARNING: Entity <bound method Swish.call of <efficientnet.layers.Swish object at 0x7fa75a6ea250>> could not be transformed and will be executed as-is. Please report this to the AutoGraph team. When filing the bug, set the verbosity to 10 (on Linux, `export AUTOGRAPH_VERBOSITY=10`) and attach the full output. Cause: Bad argument number for Name: 3, expecting 4\n",
            "WARNING:tensorflow:Entity <bound method Swish.call of <efficientnet.layers.Swish object at 0x7fa75a6f7550>> could not be transformed and will be executed as-is. Please report this to the AutoGraph team. When filing the bug, set the verbosity to 10 (on Linux, `export AUTOGRAPH_VERBOSITY=10`) and attach the full output. Cause: Bad argument number for Name: 3, expecting 4\n",
            "WARNING: Entity <bound method Swish.call of <efficientnet.layers.Swish object at 0x7fa75a6f7550>> could not be transformed and will be executed as-is. Please report this to the AutoGraph team. When filing the bug, set the verbosity to 10 (on Linux, `export AUTOGRAPH_VERBOSITY=10`) and attach the full output. Cause: Bad argument number for Name: 3, expecting 4\n",
            "WARNING:tensorflow:Entity <bound method DropConnect.call of <efficientnet.layers.DropConnect object at 0x7fa75a65de10>> could not be transformed and will be executed as-is. Please report this to the AutoGraph team. When filing the bug, set the verbosity to 10 (on Linux, `export AUTOGRAPH_VERBOSITY=10`) and attach the full output. Cause: module 'gast' has no attribute 'Num'\n",
            "WARNING: Entity <bound method DropConnect.call of <efficientnet.layers.DropConnect object at 0x7fa75a65de10>> could not be transformed and will be executed as-is. Please report this to the AutoGraph team. When filing the bug, set the verbosity to 10 (on Linux, `export AUTOGRAPH_VERBOSITY=10`) and attach the full output. Cause: module 'gast' has no attribute 'Num'\n",
            "WARNING:tensorflow:Entity <bound method Swish.call of <efficientnet.layers.Swish object at 0x7fa75a64e5d0>> could not be transformed and will be executed as-is. Please report this to the AutoGraph team. When filing the bug, set the verbosity to 10 (on Linux, `export AUTOGRAPH_VERBOSITY=10`) and attach the full output. Cause: Bad argument number for Name: 3, expecting 4\n",
            "WARNING: Entity <bound method Swish.call of <efficientnet.layers.Swish object at 0x7fa75a64e5d0>> could not be transformed and will be executed as-is. Please report this to the AutoGraph team. When filing the bug, set the verbosity to 10 (on Linux, `export AUTOGRAPH_VERBOSITY=10`) and attach the full output. Cause: Bad argument number for Name: 3, expecting 4\n",
            "WARNING:tensorflow:Entity <bound method Swish.call of <efficientnet.layers.Swish object at 0x7fa75a5f3d90>> could not be transformed and will be executed as-is. Please report this to the AutoGraph team. When filing the bug, set the verbosity to 10 (on Linux, `export AUTOGRAPH_VERBOSITY=10`) and attach the full output. Cause: Bad argument number for Name: 3, expecting 4\n",
            "WARNING: Entity <bound method Swish.call of <efficientnet.layers.Swish object at 0x7fa75a5f3d90>> could not be transformed and will be executed as-is. Please report this to the AutoGraph team. When filing the bug, set the verbosity to 10 (on Linux, `export AUTOGRAPH_VERBOSITY=10`) and attach the full output. Cause: Bad argument number for Name: 3, expecting 4\n",
            "WARNING:tensorflow:Entity <bound method Swish.call of <efficientnet.layers.Swish object at 0x7fa75a5c9850>> could not be transformed and will be executed as-is. Please report this to the AutoGraph team. When filing the bug, set the verbosity to 10 (on Linux, `export AUTOGRAPH_VERBOSITY=10`) and attach the full output. Cause: Bad argument number for Name: 3, expecting 4\n",
            "WARNING: Entity <bound method Swish.call of <efficientnet.layers.Swish object at 0x7fa75a5c9850>> could not be transformed and will be executed as-is. Please report this to the AutoGraph team. When filing the bug, set the verbosity to 10 (on Linux, `export AUTOGRAPH_VERBOSITY=10`) and attach the full output. Cause: Bad argument number for Name: 3, expecting 4\n",
            "WARNING:tensorflow:Entity <bound method Swish.call of <efficientnet.layers.Swish object at 0x7fa75a55c810>> could not be transformed and will be executed as-is. Please report this to the AutoGraph team. When filing the bug, set the verbosity to 10 (on Linux, `export AUTOGRAPH_VERBOSITY=10`) and attach the full output. Cause: Bad argument number for Name: 3, expecting 4\n",
            "WARNING: Entity <bound method Swish.call of <efficientnet.layers.Swish object at 0x7fa75a55c810>> could not be transformed and will be executed as-is. Please report this to the AutoGraph team. When filing the bug, set the verbosity to 10 (on Linux, `export AUTOGRAPH_VERBOSITY=10`) and attach the full output. Cause: Bad argument number for Name: 3, expecting 4\n"
          ],
          "name": "stdout"
        }
      ]
    },
    {
      "cell_type": "code",
      "metadata": {
        "id": "vkEFf7lnuEPz"
      },
      "source": [
        "train_data_dir = '/content/drive/MyDrive/Sleepy or Awake Faces - Dataset/train'\n",
        "validation_data_dir = '/content/drive/MyDrive/Sleepy or Awake Faces - Dataset/validation'"
      ],
      "execution_count": null,
      "outputs": []
    },
    {
      "cell_type": "code",
      "metadata": {
        "colab": {
          "base_uri": "https://localhost:8080/"
        },
        "id": "8nrnLg0_xc5F",
        "outputId": "8764b999-d777-41fc-f67c-9c26e6906dee"
      },
      "source": [
        "from tensorflow.keras.preprocessing.image import ImageDataGenerator\n",
        "\n",
        "train_datagen = ImageDataGenerator(\n",
        "      rescale=1./255,\n",
        "      rotation_range=40,\n",
        "      width_shift_range=0.2,\n",
        "      height_shift_range=0.2,\n",
        "      shear_range=0.2,\n",
        "      zoom_range=0.2,\n",
        "      horizontal_flip=True,\n",
        "      fill_mode='nearest')\n",
        "\n",
        "# Note that the validation data should not be augmented!\n",
        "test_datagen = ImageDataGenerator(rescale=1./255)\n",
        "\n",
        "train_generator = train_datagen.flow_from_directory(\n",
        "        # This is the target directory\n",
        "        train_data_dir,\n",
        "        # All images will be resized to target height and width.\n",
        "        target_size=(height, width),\n",
        "        batch_size=batch_size,\n",
        "        # Since we use categorical_crossentropy loss, we need categorical labels\n",
        "        class_mode='binary')\n",
        "\n",
        "validation_generator = test_datagen.flow_from_directory(\n",
        "        validation_data_dir,\n",
        "        target_size=(height, width),\n",
        "        batch_size=batch_size,\n",
        "        class_mode='binary')"
      ],
      "execution_count": null,
      "outputs": [
        {
          "output_type": "stream",
          "text": [
            "Found 2103 images belonging to 2 classes.\n",
            "Found 400 images belonging to 2 classes.\n"
          ],
          "name": "stdout"
        }
      ]
    },
    {
      "cell_type": "code",
      "metadata": {
        "colab": {
          "base_uri": "https://localhost:8080/"
        },
        "id": "cwSVd8ugyIpk",
        "outputId": "35bbc2c9-77e6-4340-db2c-4fff513ecc51"
      },
      "source": [
        "model = models.Sequential()\n",
        "model.add(conv_base)\n",
        "model.add(layers.GlobalMaxPooling2D(name=\"gap\"))\n",
        "model.add(layers.Flatten(name=\"flatten\"))\n",
        "if dropout_rate > 0:\n",
        "    model.add(layers.Dropout(dropout_rate, name=\"dropout_out\"))\n",
        "model.add(layers.Dense(256, activation='relu', name=\"fc1\"))\n",
        "model.add(layers.Dense(1, activation='sigmoid', name=\"fc_out\"))"
      ],
      "execution_count": null,
      "outputs": [
        {
          "output_type": "stream",
          "text": [
            "WARNING:tensorflow:Entity <bound method Swish.call of <efficientnet.layers.Swish object at 0x7fa76c0db310>> could not be transformed and will be executed as-is. Please report this to the AutoGraph team. When filing the bug, set the verbosity to 10 (on Linux, `export AUTOGRAPH_VERBOSITY=10`) and attach the full output. Cause: Bad argument number for Name: 3, expecting 4\n",
            "WARNING: Entity <bound method Swish.call of <efficientnet.layers.Swish object at 0x7fa76c0db310>> could not be transformed and will be executed as-is. Please report this to the AutoGraph team. When filing the bug, set the verbosity to 10 (on Linux, `export AUTOGRAPH_VERBOSITY=10`) and attach the full output. Cause: Bad argument number for Name: 3, expecting 4\n",
            "WARNING:tensorflow:Entity <bound method Swish.call of <efficientnet.layers.Swish object at 0x7fa75b2f7ad0>> could not be transformed and will be executed as-is. Please report this to the AutoGraph team. When filing the bug, set the verbosity to 10 (on Linux, `export AUTOGRAPH_VERBOSITY=10`) and attach the full output. Cause: Bad argument number for Name: 3, expecting 4\n",
            "WARNING: Entity <bound method Swish.call of <efficientnet.layers.Swish object at 0x7fa75b2f7ad0>> could not be transformed and will be executed as-is. Please report this to the AutoGraph team. When filing the bug, set the verbosity to 10 (on Linux, `export AUTOGRAPH_VERBOSITY=10`) and attach the full output. Cause: Bad argument number for Name: 3, expecting 4\n",
            "WARNING:tensorflow:Entity <bound method Swish.call of <efficientnet.layers.Swish object at 0x7fa75b32d850>> could not be transformed and will be executed as-is. Please report this to the AutoGraph team. When filing the bug, set the verbosity to 10 (on Linux, `export AUTOGRAPH_VERBOSITY=10`) and attach the full output. Cause: Bad argument number for Name: 3, expecting 4\n",
            "WARNING: Entity <bound method Swish.call of <efficientnet.layers.Swish object at 0x7fa75b32d850>> could not be transformed and will be executed as-is. Please report this to the AutoGraph team. When filing the bug, set the verbosity to 10 (on Linux, `export AUTOGRAPH_VERBOSITY=10`) and attach the full output. Cause: Bad argument number for Name: 3, expecting 4\n",
            "WARNING:tensorflow:Entity <bound method Swish.call of <efficientnet.layers.Swish object at 0x7fa75c5abc90>> could not be transformed and will be executed as-is. Please report this to the AutoGraph team. When filing the bug, set the verbosity to 10 (on Linux, `export AUTOGRAPH_VERBOSITY=10`) and attach the full output. Cause: Bad argument number for Name: 3, expecting 4\n",
            "WARNING: Entity <bound method Swish.call of <efficientnet.layers.Swish object at 0x7fa75c5abc90>> could not be transformed and will be executed as-is. Please report this to the AutoGraph team. When filing the bug, set the verbosity to 10 (on Linux, `export AUTOGRAPH_VERBOSITY=10`) and attach the full output. Cause: Bad argument number for Name: 3, expecting 4\n",
            "WARNING:tensorflow:Entity <bound method Swish.call of <efficientnet.layers.Swish object at 0x7fa75b412410>> could not be transformed and will be executed as-is. Please report this to the AutoGraph team. When filing the bug, set the verbosity to 10 (on Linux, `export AUTOGRAPH_VERBOSITY=10`) and attach the full output. Cause: Bad argument number for Name: 3, expecting 4\n",
            "WARNING: Entity <bound method Swish.call of <efficientnet.layers.Swish object at 0x7fa75b412410>> could not be transformed and will be executed as-is. Please report this to the AutoGraph team. When filing the bug, set the verbosity to 10 (on Linux, `export AUTOGRAPH_VERBOSITY=10`) and attach the full output. Cause: Bad argument number for Name: 3, expecting 4\n",
            "WARNING:tensorflow:Entity <bound method Swish.call of <efficientnet.layers.Swish object at 0x7fa75b3e1d90>> could not be transformed and will be executed as-is. Please report this to the AutoGraph team. When filing the bug, set the verbosity to 10 (on Linux, `export AUTOGRAPH_VERBOSITY=10`) and attach the full output. Cause: Bad argument number for Name: 3, expecting 4\n",
            "WARNING: Entity <bound method Swish.call of <efficientnet.layers.Swish object at 0x7fa75b3e1d90>> could not be transformed and will be executed as-is. Please report this to the AutoGraph team. When filing the bug, set the verbosity to 10 (on Linux, `export AUTOGRAPH_VERBOSITY=10`) and attach the full output. Cause: Bad argument number for Name: 3, expecting 4\n",
            "WARNING:tensorflow:Entity <bound method Swish.call of <efficientnet.layers.Swish object at 0x7fa75b3cb3d0>> could not be transformed and will be executed as-is. Please report this to the AutoGraph team. When filing the bug, set the verbosity to 10 (on Linux, `export AUTOGRAPH_VERBOSITY=10`) and attach the full output. Cause: Bad argument number for Name: 3, expecting 4\n",
            "WARNING: Entity <bound method Swish.call of <efficientnet.layers.Swish object at 0x7fa75b3cb3d0>> could not be transformed and will be executed as-is. Please report this to the AutoGraph team. When filing the bug, set the verbosity to 10 (on Linux, `export AUTOGRAPH_VERBOSITY=10`) and attach the full output. Cause: Bad argument number for Name: 3, expecting 4\n",
            "WARNING:tensorflow:Entity <bound method Swish.call of <efficientnet.layers.Swish object at 0x7fa75b3897d0>> could not be transformed and will be executed as-is. Please report this to the AutoGraph team. When filing the bug, set the verbosity to 10 (on Linux, `export AUTOGRAPH_VERBOSITY=10`) and attach the full output. Cause: Bad argument number for Name: 3, expecting 4\n",
            "WARNING: Entity <bound method Swish.call of <efficientnet.layers.Swish object at 0x7fa75b3897d0>> could not be transformed and will be executed as-is. Please report this to the AutoGraph team. When filing the bug, set the verbosity to 10 (on Linux, `export AUTOGRAPH_VERBOSITY=10`) and attach the full output. Cause: Bad argument number for Name: 3, expecting 4\n",
            "WARNING:tensorflow:Entity <bound method Swish.call of <efficientnet.layers.Swish object at 0x7fa75b2c5110>> could not be transformed and will be executed as-is. Please report this to the AutoGraph team. When filing the bug, set the verbosity to 10 (on Linux, `export AUTOGRAPH_VERBOSITY=10`) and attach the full output. Cause: Bad argument number for Name: 3, expecting 4\n",
            "WARNING: Entity <bound method Swish.call of <efficientnet.layers.Swish object at 0x7fa75b2c5110>> could not be transformed and will be executed as-is. Please report this to the AutoGraph team. When filing the bug, set the verbosity to 10 (on Linux, `export AUTOGRAPH_VERBOSITY=10`) and attach the full output. Cause: Bad argument number for Name: 3, expecting 4\n",
            "WARNING:tensorflow:Entity <bound method DropConnect.call of <efficientnet.layers.DropConnect object at 0x7fa75b276c90>> could not be transformed and will be executed as-is. Please report this to the AutoGraph team. When filing the bug, set the verbosity to 10 (on Linux, `export AUTOGRAPH_VERBOSITY=10`) and attach the full output. Cause: module 'gast' has no attribute 'Num'\n",
            "WARNING: Entity <bound method DropConnect.call of <efficientnet.layers.DropConnect object at 0x7fa75b276c90>> could not be transformed and will be executed as-is. Please report this to the AutoGraph team. When filing the bug, set the verbosity to 10 (on Linux, `export AUTOGRAPH_VERBOSITY=10`) and attach the full output. Cause: module 'gast' has no attribute 'Num'\n",
            "WARNING:tensorflow:Entity <bound method Swish.call of <efficientnet.layers.Swish object at 0x7fa75b240190>> could not be transformed and will be executed as-is. Please report this to the AutoGraph team. When filing the bug, set the verbosity to 10 (on Linux, `export AUTOGRAPH_VERBOSITY=10`) and attach the full output. Cause: Bad argument number for Name: 3, expecting 4\n",
            "WARNING: Entity <bound method Swish.call of <efficientnet.layers.Swish object at 0x7fa75b240190>> could not be transformed and will be executed as-is. Please report this to the AutoGraph team. When filing the bug, set the verbosity to 10 (on Linux, `export AUTOGRAPH_VERBOSITY=10`) and attach the full output. Cause: Bad argument number for Name: 3, expecting 4\n",
            "WARNING:tensorflow:Entity <bound method Swish.call of <efficientnet.layers.Swish object at 0x7fa75b193990>> could not be transformed and will be executed as-is. Please report this to the AutoGraph team. When filing the bug, set the verbosity to 10 (on Linux, `export AUTOGRAPH_VERBOSITY=10`) and attach the full output. Cause: Bad argument number for Name: 3, expecting 4\n",
            "WARNING: Entity <bound method Swish.call of <efficientnet.layers.Swish object at 0x7fa75b193990>> could not be transformed and will be executed as-is. Please report this to the AutoGraph team. When filing the bug, set the verbosity to 10 (on Linux, `export AUTOGRAPH_VERBOSITY=10`) and attach the full output. Cause: Bad argument number for Name: 3, expecting 4\n",
            "WARNING:tensorflow:Entity <bound method Swish.call of <efficientnet.layers.Swish object at 0x7fa75b1aded0>> could not be transformed and will be executed as-is. Please report this to the AutoGraph team. When filing the bug, set the verbosity to 10 (on Linux, `export AUTOGRAPH_VERBOSITY=10`) and attach the full output. Cause: Bad argument number for Name: 3, expecting 4\n",
            "WARNING: Entity <bound method Swish.call of <efficientnet.layers.Swish object at 0x7fa75b1aded0>> could not be transformed and will be executed as-is. Please report this to the AutoGraph team. When filing the bug, set the verbosity to 10 (on Linux, `export AUTOGRAPH_VERBOSITY=10`) and attach the full output. Cause: Bad argument number for Name: 3, expecting 4\n",
            "WARNING:tensorflow:Entity <bound method Swish.call of <efficientnet.layers.Swish object at 0x7fa75b1b5f10>> could not be transformed and will be executed as-is. Please report this to the AutoGraph team. When filing the bug, set the verbosity to 10 (on Linux, `export AUTOGRAPH_VERBOSITY=10`) and attach the full output. Cause: Bad argument number for Name: 3, expecting 4\n",
            "WARNING: Entity <bound method Swish.call of <efficientnet.layers.Swish object at 0x7fa75b1b5f10>> could not be transformed and will be executed as-is. Please report this to the AutoGraph team. When filing the bug, set the verbosity to 10 (on Linux, `export AUTOGRAPH_VERBOSITY=10`) and attach the full output. Cause: Bad argument number for Name: 3, expecting 4\n",
            "WARNING:tensorflow:Entity <bound method Swish.call of <efficientnet.layers.Swish object at 0x7fa75b0ed110>> could not be transformed and will be executed as-is. Please report this to the AutoGraph team. When filing the bug, set the verbosity to 10 (on Linux, `export AUTOGRAPH_VERBOSITY=10`) and attach the full output. Cause: Bad argument number for Name: 3, expecting 4\n",
            "WARNING: Entity <bound method Swish.call of <efficientnet.layers.Swish object at 0x7fa75b0ed110>> could not be transformed and will be executed as-is. Please report this to the AutoGraph team. When filing the bug, set the verbosity to 10 (on Linux, `export AUTOGRAPH_VERBOSITY=10`) and attach the full output. Cause: Bad argument number for Name: 3, expecting 4\n",
            "WARNING:tensorflow:Entity <bound method Swish.call of <efficientnet.layers.Swish object at 0x7fa75b106610>> could not be transformed and will be executed as-is. Please report this to the AutoGraph team. When filing the bug, set the verbosity to 10 (on Linux, `export AUTOGRAPH_VERBOSITY=10`) and attach the full output. Cause: Bad argument number for Name: 3, expecting 4\n",
            "WARNING: Entity <bound method Swish.call of <efficientnet.layers.Swish object at 0x7fa75b106610>> could not be transformed and will be executed as-is. Please report this to the AutoGraph team. When filing the bug, set the verbosity to 10 (on Linux, `export AUTOGRAPH_VERBOSITY=10`) and attach the full output. Cause: Bad argument number for Name: 3, expecting 4\n",
            "WARNING:tensorflow:Entity <bound method DropConnect.call of <efficientnet.layers.DropConnect object at 0x7fa75b04f550>> could not be transformed and will be executed as-is. Please report this to the AutoGraph team. When filing the bug, set the verbosity to 10 (on Linux, `export AUTOGRAPH_VERBOSITY=10`) and attach the full output. Cause: module 'gast' has no attribute 'Num'\n",
            "WARNING: Entity <bound method DropConnect.call of <efficientnet.layers.DropConnect object at 0x7fa75b04f550>> could not be transformed and will be executed as-is. Please report this to the AutoGraph team. When filing the bug, set the verbosity to 10 (on Linux, `export AUTOGRAPH_VERBOSITY=10`) and attach the full output. Cause: module 'gast' has no attribute 'Num'\n",
            "WARNING:tensorflow:Entity <bound method Swish.call of <efficientnet.layers.Swish object at 0x7fa75b030350>> could not be transformed and will be executed as-is. Please report this to the AutoGraph team. When filing the bug, set the verbosity to 10 (on Linux, `export AUTOGRAPH_VERBOSITY=10`) and attach the full output. Cause: Bad argument number for Name: 3, expecting 4\n",
            "WARNING: Entity <bound method Swish.call of <efficientnet.layers.Swish object at 0x7fa75b030350>> could not be transformed and will be executed as-is. Please report this to the AutoGraph team. When filing the bug, set the verbosity to 10 (on Linux, `export AUTOGRAPH_VERBOSITY=10`) and attach the full output. Cause: Bad argument number for Name: 3, expecting 4\n",
            "WARNING:tensorflow:Entity <bound method Swish.call of <efficientnet.layers.Swish object at 0x7fa75aff8fd0>> could not be transformed and will be executed as-is. Please report this to the AutoGraph team. When filing the bug, set the verbosity to 10 (on Linux, `export AUTOGRAPH_VERBOSITY=10`) and attach the full output. Cause: Bad argument number for Name: 3, expecting 4\n",
            "WARNING: Entity <bound method Swish.call of <efficientnet.layers.Swish object at 0x7fa75aff8fd0>> could not be transformed and will be executed as-is. Please report this to the AutoGraph team. When filing the bug, set the verbosity to 10 (on Linux, `export AUTOGRAPH_VERBOSITY=10`) and attach the full output. Cause: Bad argument number for Name: 3, expecting 4\n",
            "WARNING:tensorflow:Entity <bound method Swish.call of <efficientnet.layers.Swish object at 0x7fa75af96e10>> could not be transformed and will be executed as-is. Please report this to the AutoGraph team. When filing the bug, set the verbosity to 10 (on Linux, `export AUTOGRAPH_VERBOSITY=10`) and attach the full output. Cause: Bad argument number for Name: 3, expecting 4\n",
            "WARNING: Entity <bound method Swish.call of <efficientnet.layers.Swish object at 0x7fa75af96e10>> could not be transformed and will be executed as-is. Please report this to the AutoGraph team. When filing the bug, set the verbosity to 10 (on Linux, `export AUTOGRAPH_VERBOSITY=10`) and attach the full output. Cause: Bad argument number for Name: 3, expecting 4\n",
            "WARNING:tensorflow:Entity <bound method Swish.call of <efficientnet.layers.Swish object at 0x7fa75afc88d0>> could not be transformed and will be executed as-is. Please report this to the AutoGraph team. When filing the bug, set the verbosity to 10 (on Linux, `export AUTOGRAPH_VERBOSITY=10`) and attach the full output. Cause: Bad argument number for Name: 3, expecting 4\n",
            "WARNING: Entity <bound method Swish.call of <efficientnet.layers.Swish object at 0x7fa75afc88d0>> could not be transformed and will be executed as-is. Please report this to the AutoGraph team. When filing the bug, set the verbosity to 10 (on Linux, `export AUTOGRAPH_VERBOSITY=10`) and attach the full output. Cause: Bad argument number for Name: 3, expecting 4\n",
            "WARNING:tensorflow:Entity <bound method Swish.call of <efficientnet.layers.Swish object at 0x7fa75aee5590>> could not be transformed and will be executed as-is. Please report this to the AutoGraph team. When filing the bug, set the verbosity to 10 (on Linux, `export AUTOGRAPH_VERBOSITY=10`) and attach the full output. Cause: Bad argument number for Name: 3, expecting 4\n",
            "WARNING: Entity <bound method Swish.call of <efficientnet.layers.Swish object at 0x7fa75aee5590>> could not be transformed and will be executed as-is. Please report this to the AutoGraph team. When filing the bug, set the verbosity to 10 (on Linux, `export AUTOGRAPH_VERBOSITY=10`) and attach the full output. Cause: Bad argument number for Name: 3, expecting 4\n",
            "WARNING:tensorflow:Entity <bound method Swish.call of <efficientnet.layers.Swish object at 0x7fa75aebfc10>> could not be transformed and will be executed as-is. Please report this to the AutoGraph team. When filing the bug, set the verbosity to 10 (on Linux, `export AUTOGRAPH_VERBOSITY=10`) and attach the full output. Cause: Bad argument number for Name: 3, expecting 4\n",
            "WARNING: Entity <bound method Swish.call of <efficientnet.layers.Swish object at 0x7fa75aebfc10>> could not be transformed and will be executed as-is. Please report this to the AutoGraph team. When filing the bug, set the verbosity to 10 (on Linux, `export AUTOGRAPH_VERBOSITY=10`) and attach the full output. Cause: Bad argument number for Name: 3, expecting 4\n",
            "WARNING:tensorflow:Entity <bound method DropConnect.call of <efficientnet.layers.DropConnect object at 0x7fa75aec81d0>> could not be transformed and will be executed as-is. Please report this to the AutoGraph team. When filing the bug, set the verbosity to 10 (on Linux, `export AUTOGRAPH_VERBOSITY=10`) and attach the full output. Cause: module 'gast' has no attribute 'Num'\n",
            "WARNING: Entity <bound method DropConnect.call of <efficientnet.layers.DropConnect object at 0x7fa75aec81d0>> could not be transformed and will be executed as-is. Please report this to the AutoGraph team. When filing the bug, set the verbosity to 10 (on Linux, `export AUTOGRAPH_VERBOSITY=10`) and attach the full output. Cause: module 'gast' has no attribute 'Num'\n",
            "WARNING:tensorflow:Entity <bound method Swish.call of <efficientnet.layers.Swish object at 0x7fa75ae24f10>> could not be transformed and will be executed as-is. Please report this to the AutoGraph team. When filing the bug, set the verbosity to 10 (on Linux, `export AUTOGRAPH_VERBOSITY=10`) and attach the full output. Cause: Bad argument number for Name: 3, expecting 4\n",
            "WARNING: Entity <bound method Swish.call of <efficientnet.layers.Swish object at 0x7fa75ae24f10>> could not be transformed and will be executed as-is. Please report this to the AutoGraph team. When filing the bug, set the verbosity to 10 (on Linux, `export AUTOGRAPH_VERBOSITY=10`) and attach the full output. Cause: Bad argument number for Name: 3, expecting 4\n",
            "WARNING:tensorflow:Entity <bound method Swish.call of <efficientnet.layers.Swish object at 0x7fa75ae00890>> could not be transformed and will be executed as-is. Please report this to the AutoGraph team. When filing the bug, set the verbosity to 10 (on Linux, `export AUTOGRAPH_VERBOSITY=10`) and attach the full output. Cause: Bad argument number for Name: 3, expecting 4\n",
            "WARNING: Entity <bound method Swish.call of <efficientnet.layers.Swish object at 0x7fa75ae00890>> could not be transformed and will be executed as-is. Please report this to the AutoGraph team. When filing the bug, set the verbosity to 10 (on Linux, `export AUTOGRAPH_VERBOSITY=10`) and attach the full output. Cause: Bad argument number for Name: 3, expecting 4\n",
            "WARNING:tensorflow:Entity <bound method Swish.call of <efficientnet.layers.Swish object at 0x7fa75adb3950>> could not be transformed and will be executed as-is. Please report this to the AutoGraph team. When filing the bug, set the verbosity to 10 (on Linux, `export AUTOGRAPH_VERBOSITY=10`) and attach the full output. Cause: Bad argument number for Name: 3, expecting 4\n",
            "WARNING: Entity <bound method Swish.call of <efficientnet.layers.Swish object at 0x7fa75adb3950>> could not be transformed and will be executed as-is. Please report this to the AutoGraph team. When filing the bug, set the verbosity to 10 (on Linux, `export AUTOGRAPH_VERBOSITY=10`) and attach the full output. Cause: Bad argument number for Name: 3, expecting 4\n",
            "WARNING:tensorflow:Entity <bound method DropConnect.call of <efficientnet.layers.DropConnect object at 0x7fa75ad64250>> could not be transformed and will be executed as-is. Please report this to the AutoGraph team. When filing the bug, set the verbosity to 10 (on Linux, `export AUTOGRAPH_VERBOSITY=10`) and attach the full output. Cause: module 'gast' has no attribute 'Num'\n",
            "WARNING: Entity <bound method DropConnect.call of <efficientnet.layers.DropConnect object at 0x7fa75ad64250>> could not be transformed and will be executed as-is. Please report this to the AutoGraph team. When filing the bug, set the verbosity to 10 (on Linux, `export AUTOGRAPH_VERBOSITY=10`) and attach the full output. Cause: module 'gast' has no attribute 'Num'\n",
            "WARNING:tensorflow:Entity <bound method Swish.call of <efficientnet.layers.Swish object at 0x7fa75ad20550>> could not be transformed and will be executed as-is. Please report this to the AutoGraph team. When filing the bug, set the verbosity to 10 (on Linux, `export AUTOGRAPH_VERBOSITY=10`) and attach the full output. Cause: Bad argument number for Name: 3, expecting 4\n",
            "WARNING: Entity <bound method Swish.call of <efficientnet.layers.Swish object at 0x7fa75ad20550>> could not be transformed and will be executed as-is. Please report this to the AutoGraph team. When filing the bug, set the verbosity to 10 (on Linux, `export AUTOGRAPH_VERBOSITY=10`) and attach the full output. Cause: Bad argument number for Name: 3, expecting 4\n",
            "WARNING:tensorflow:Entity <bound method Swish.call of <efficientnet.layers.Swish object at 0x7fa75ad16a50>> could not be transformed and will be executed as-is. Please report this to the AutoGraph team. When filing the bug, set the verbosity to 10 (on Linux, `export AUTOGRAPH_VERBOSITY=10`) and attach the full output. Cause: Bad argument number for Name: 3, expecting 4\n",
            "WARNING: Entity <bound method Swish.call of <efficientnet.layers.Swish object at 0x7fa75ad16a50>> could not be transformed and will be executed as-is. Please report this to the AutoGraph team. When filing the bug, set the verbosity to 10 (on Linux, `export AUTOGRAPH_VERBOSITY=10`) and attach the full output. Cause: Bad argument number for Name: 3, expecting 4\n",
            "WARNING:tensorflow:Entity <bound method Swish.call of <efficientnet.layers.Swish object at 0x7fa75acc9990>> could not be transformed and will be executed as-is. Please report this to the AutoGraph team. When filing the bug, set the verbosity to 10 (on Linux, `export AUTOGRAPH_VERBOSITY=10`) and attach the full output. Cause: Bad argument number for Name: 3, expecting 4\n",
            "WARNING: Entity <bound method Swish.call of <efficientnet.layers.Swish object at 0x7fa75acc9990>> could not be transformed and will be executed as-is. Please report this to the AutoGraph team. When filing the bug, set the verbosity to 10 (on Linux, `export AUTOGRAPH_VERBOSITY=10`) and attach the full output. Cause: Bad argument number for Name: 3, expecting 4\n",
            "WARNING:tensorflow:Entity <bound method Swish.call of <efficientnet.layers.Swish object at 0x7fa75ac23350>> could not be transformed and will be executed as-is. Please report this to the AutoGraph team. When filing the bug, set the verbosity to 10 (on Linux, `export AUTOGRAPH_VERBOSITY=10`) and attach the full output. Cause: Bad argument number for Name: 3, expecting 4\n",
            "WARNING: Entity <bound method Swish.call of <efficientnet.layers.Swish object at 0x7fa75ac23350>> could not be transformed and will be executed as-is. Please report this to the AutoGraph team. When filing the bug, set the verbosity to 10 (on Linux, `export AUTOGRAPH_VERBOSITY=10`) and attach the full output. Cause: Bad argument number for Name: 3, expecting 4\n",
            "WARNING:tensorflow:Entity <bound method Swish.call of <efficientnet.layers.Swish object at 0x7fa75abf1850>> could not be transformed and will be executed as-is. Please report this to the AutoGraph team. When filing the bug, set the verbosity to 10 (on Linux, `export AUTOGRAPH_VERBOSITY=10`) and attach the full output. Cause: Bad argument number for Name: 3, expecting 4\n",
            "WARNING: Entity <bound method Swish.call of <efficientnet.layers.Swish object at 0x7fa75abf1850>> could not be transformed and will be executed as-is. Please report this to the AutoGraph team. When filing the bug, set the verbosity to 10 (on Linux, `export AUTOGRAPH_VERBOSITY=10`) and attach the full output. Cause: Bad argument number for Name: 3, expecting 4\n",
            "WARNING:tensorflow:Entity <bound method Swish.call of <efficientnet.layers.Swish object at 0x7fa75adcc890>> could not be transformed and will be executed as-is. Please report this to the AutoGraph team. When filing the bug, set the verbosity to 10 (on Linux, `export AUTOGRAPH_VERBOSITY=10`) and attach the full output. Cause: Bad argument number for Name: 3, expecting 4\n",
            "WARNING: Entity <bound method Swish.call of <efficientnet.layers.Swish object at 0x7fa75adcc890>> could not be transformed and will be executed as-is. Please report this to the AutoGraph team. When filing the bug, set the verbosity to 10 (on Linux, `export AUTOGRAPH_VERBOSITY=10`) and attach the full output. Cause: Bad argument number for Name: 3, expecting 4\n",
            "WARNING:tensorflow:Entity <bound method DropConnect.call of <efficientnet.layers.DropConnect object at 0x7fa75ab51e10>> could not be transformed and will be executed as-is. Please report this to the AutoGraph team. When filing the bug, set the verbosity to 10 (on Linux, `export AUTOGRAPH_VERBOSITY=10`) and attach the full output. Cause: module 'gast' has no attribute 'Num'\n",
            "WARNING: Entity <bound method DropConnect.call of <efficientnet.layers.DropConnect object at 0x7fa75ab51e10>> could not be transformed and will be executed as-is. Please report this to the AutoGraph team. When filing the bug, set the verbosity to 10 (on Linux, `export AUTOGRAPH_VERBOSITY=10`) and attach the full output. Cause: module 'gast' has no attribute 'Num'\n",
            "WARNING:tensorflow:Entity <bound method Swish.call of <efficientnet.layers.Swish object at 0x7fa75ab13e10>> could not be transformed and will be executed as-is. Please report this to the AutoGraph team. When filing the bug, set the verbosity to 10 (on Linux, `export AUTOGRAPH_VERBOSITY=10`) and attach the full output. Cause: Bad argument number for Name: 3, expecting 4\n",
            "WARNING: Entity <bound method Swish.call of <efficientnet.layers.Swish object at 0x7fa75ab13e10>> could not be transformed and will be executed as-is. Please report this to the AutoGraph team. When filing the bug, set the verbosity to 10 (on Linux, `export AUTOGRAPH_VERBOSITY=10`) and attach the full output. Cause: Bad argument number for Name: 3, expecting 4\n",
            "WARNING:tensorflow:Entity <bound method Swish.call of <efficientnet.layers.Swish object at 0x7fa75aaddf50>> could not be transformed and will be executed as-is. Please report this to the AutoGraph team. When filing the bug, set the verbosity to 10 (on Linux, `export AUTOGRAPH_VERBOSITY=10`) and attach the full output. Cause: Bad argument number for Name: 3, expecting 4\n",
            "WARNING: Entity <bound method Swish.call of <efficientnet.layers.Swish object at 0x7fa75aaddf50>> could not be transformed and will be executed as-is. Please report this to the AutoGraph team. When filing the bug, set the verbosity to 10 (on Linux, `export AUTOGRAPH_VERBOSITY=10`) and attach the full output. Cause: Bad argument number for Name: 3, expecting 4\n",
            "WARNING:tensorflow:Entity <bound method Swish.call of <efficientnet.layers.Swish object at 0x7fa75aab09d0>> could not be transformed and will be executed as-is. Please report this to the AutoGraph team. When filing the bug, set the verbosity to 10 (on Linux, `export AUTOGRAPH_VERBOSITY=10`) and attach the full output. Cause: Bad argument number for Name: 3, expecting 4\n",
            "WARNING: Entity <bound method Swish.call of <efficientnet.layers.Swish object at 0x7fa75aab09d0>> could not be transformed and will be executed as-is. Please report this to the AutoGraph team. When filing the bug, set the verbosity to 10 (on Linux, `export AUTOGRAPH_VERBOSITY=10`) and attach the full output. Cause: Bad argument number for Name: 3, expecting 4\n",
            "WARNING:tensorflow:Entity <bound method DropConnect.call of <efficientnet.layers.DropConnect object at 0x7fa75aacd750>> could not be transformed and will be executed as-is. Please report this to the AutoGraph team. When filing the bug, set the verbosity to 10 (on Linux, `export AUTOGRAPH_VERBOSITY=10`) and attach the full output. Cause: module 'gast' has no attribute 'Num'\n",
            "WARNING: Entity <bound method DropConnect.call of <efficientnet.layers.DropConnect object at 0x7fa75aacd750>> could not be transformed and will be executed as-is. Please report this to the AutoGraph team. When filing the bug, set the verbosity to 10 (on Linux, `export AUTOGRAPH_VERBOSITY=10`) and attach the full output. Cause: module 'gast' has no attribute 'Num'\n",
            "WARNING:tensorflow:Entity <bound method Swish.call of <efficientnet.layers.Swish object at 0x7fa75aa13750>> could not be transformed and will be executed as-is. Please report this to the AutoGraph team. When filing the bug, set the verbosity to 10 (on Linux, `export AUTOGRAPH_VERBOSITY=10`) and attach the full output. Cause: Bad argument number for Name: 3, expecting 4\n",
            "WARNING: Entity <bound method Swish.call of <efficientnet.layers.Swish object at 0x7fa75aa13750>> could not be transformed and will be executed as-is. Please report this to the AutoGraph team. When filing the bug, set the verbosity to 10 (on Linux, `export AUTOGRAPH_VERBOSITY=10`) and attach the full output. Cause: Bad argument number for Name: 3, expecting 4\n",
            "WARNING:tensorflow:Entity <bound method Swish.call of <efficientnet.layers.Swish object at 0x7fa75a9e1890>> could not be transformed and will be executed as-is. Please report this to the AutoGraph team. When filing the bug, set the verbosity to 10 (on Linux, `export AUTOGRAPH_VERBOSITY=10`) and attach the full output. Cause: Bad argument number for Name: 3, expecting 4\n",
            "WARNING: Entity <bound method Swish.call of <efficientnet.layers.Swish object at 0x7fa75a9e1890>> could not be transformed and will be executed as-is. Please report this to the AutoGraph team. When filing the bug, set the verbosity to 10 (on Linux, `export AUTOGRAPH_VERBOSITY=10`) and attach the full output. Cause: Bad argument number for Name: 3, expecting 4\n",
            "WARNING:tensorflow:Entity <bound method Swish.call of <efficientnet.layers.Swish object at 0x7fa75a9bcf90>> could not be transformed and will be executed as-is. Please report this to the AutoGraph team. When filing the bug, set the verbosity to 10 (on Linux, `export AUTOGRAPH_VERBOSITY=10`) and attach the full output. Cause: Bad argument number for Name: 3, expecting 4\n",
            "WARNING: Entity <bound method Swish.call of <efficientnet.layers.Swish object at 0x7fa75a9bcf90>> could not be transformed and will be executed as-is. Please report this to the AutoGraph team. When filing the bug, set the verbosity to 10 (on Linux, `export AUTOGRAPH_VERBOSITY=10`) and attach the full output. Cause: Bad argument number for Name: 3, expecting 4\n",
            "WARNING:tensorflow:Entity <bound method Swish.call of <efficientnet.layers.Swish object at 0x7fa75a969190>> could not be transformed and will be executed as-is. Please report this to the AutoGraph team. When filing the bug, set the verbosity to 10 (on Linux, `export AUTOGRAPH_VERBOSITY=10`) and attach the full output. Cause: Bad argument number for Name: 3, expecting 4\n",
            "WARNING: Entity <bound method Swish.call of <efficientnet.layers.Swish object at 0x7fa75a969190>> could not be transformed and will be executed as-is. Please report this to the AutoGraph team. When filing the bug, set the verbosity to 10 (on Linux, `export AUTOGRAPH_VERBOSITY=10`) and attach the full output. Cause: Bad argument number for Name: 3, expecting 4\n",
            "WARNING:tensorflow:Entity <bound method Swish.call of <efficientnet.layers.Swish object at 0x7fa75a9c3e90>> could not be transformed and will be executed as-is. Please report this to the AutoGraph team. When filing the bug, set the verbosity to 10 (on Linux, `export AUTOGRAPH_VERBOSITY=10`) and attach the full output. Cause: Bad argument number for Name: 3, expecting 4\n",
            "WARNING: Entity <bound method Swish.call of <efficientnet.layers.Swish object at 0x7fa75a9c3e90>> could not be transformed and will be executed as-is. Please report this to the AutoGraph team. When filing the bug, set the verbosity to 10 (on Linux, `export AUTOGRAPH_VERBOSITY=10`) and attach the full output. Cause: Bad argument number for Name: 3, expecting 4\n",
            "WARNING:tensorflow:Entity <bound method Swish.call of <efficientnet.layers.Swish object at 0x7fa75a8f4350>> could not be transformed and will be executed as-is. Please report this to the AutoGraph team. When filing the bug, set the verbosity to 10 (on Linux, `export AUTOGRAPH_VERBOSITY=10`) and attach the full output. Cause: Bad argument number for Name: 3, expecting 4\n",
            "WARNING: Entity <bound method Swish.call of <efficientnet.layers.Swish object at 0x7fa75a8f4350>> could not be transformed and will be executed as-is. Please report this to the AutoGraph team. When filing the bug, set the verbosity to 10 (on Linux, `export AUTOGRAPH_VERBOSITY=10`) and attach the full output. Cause: Bad argument number for Name: 3, expecting 4\n",
            "WARNING:tensorflow:Entity <bound method DropConnect.call of <efficientnet.layers.DropConnect object at 0x7fa75a8c5990>> could not be transformed and will be executed as-is. Please report this to the AutoGraph team. When filing the bug, set the verbosity to 10 (on Linux, `export AUTOGRAPH_VERBOSITY=10`) and attach the full output. Cause: module 'gast' has no attribute 'Num'\n",
            "WARNING: Entity <bound method DropConnect.call of <efficientnet.layers.DropConnect object at 0x7fa75a8c5990>> could not be transformed and will be executed as-is. Please report this to the AutoGraph team. When filing the bug, set the verbosity to 10 (on Linux, `export AUTOGRAPH_VERBOSITY=10`) and attach the full output. Cause: module 'gast' has no attribute 'Num'\n",
            "WARNING:tensorflow:Entity <bound method Swish.call of <efficientnet.layers.Swish object at 0x7fa75a814510>> could not be transformed and will be executed as-is. Please report this to the AutoGraph team. When filing the bug, set the verbosity to 10 (on Linux, `export AUTOGRAPH_VERBOSITY=10`) and attach the full output. Cause: Bad argument number for Name: 3, expecting 4\n",
            "WARNING: Entity <bound method Swish.call of <efficientnet.layers.Swish object at 0x7fa75a814510>> could not be transformed and will be executed as-is. Please report this to the AutoGraph team. When filing the bug, set the verbosity to 10 (on Linux, `export AUTOGRAPH_VERBOSITY=10`) and attach the full output. Cause: Bad argument number for Name: 3, expecting 4\n",
            "WARNING:tensorflow:Entity <bound method Swish.call of <efficientnet.layers.Swish object at 0x7fa75a7d1f90>> could not be transformed and will be executed as-is. Please report this to the AutoGraph team. When filing the bug, set the verbosity to 10 (on Linux, `export AUTOGRAPH_VERBOSITY=10`) and attach the full output. Cause: Bad argument number for Name: 3, expecting 4\n",
            "WARNING: Entity <bound method Swish.call of <efficientnet.layers.Swish object at 0x7fa75a7d1f90>> could not be transformed and will be executed as-is. Please report this to the AutoGraph team. When filing the bug, set the verbosity to 10 (on Linux, `export AUTOGRAPH_VERBOSITY=10`) and attach the full output. Cause: Bad argument number for Name: 3, expecting 4\n",
            "WARNING:tensorflow:Entity <bound method Swish.call of <efficientnet.layers.Swish object at 0x7fa75a7c6990>> could not be transformed and will be executed as-is. Please report this to the AutoGraph team. When filing the bug, set the verbosity to 10 (on Linux, `export AUTOGRAPH_VERBOSITY=10`) and attach the full output. Cause: Bad argument number for Name: 3, expecting 4\n",
            "WARNING: Entity <bound method Swish.call of <efficientnet.layers.Swish object at 0x7fa75a7c6990>> could not be transformed and will be executed as-is. Please report this to the AutoGraph team. When filing the bug, set the verbosity to 10 (on Linux, `export AUTOGRAPH_VERBOSITY=10`) and attach the full output. Cause: Bad argument number for Name: 3, expecting 4\n",
            "WARNING:tensorflow:Entity <bound method DropConnect.call of <efficientnet.layers.DropConnect object at 0x7fa75a768090>> could not be transformed and will be executed as-is. Please report this to the AutoGraph team. When filing the bug, set the verbosity to 10 (on Linux, `export AUTOGRAPH_VERBOSITY=10`) and attach the full output. Cause: module 'gast' has no attribute 'Num'\n",
            "WARNING: Entity <bound method DropConnect.call of <efficientnet.layers.DropConnect object at 0x7fa75a768090>> could not be transformed and will be executed as-is. Please report this to the AutoGraph team. When filing the bug, set the verbosity to 10 (on Linux, `export AUTOGRAPH_VERBOSITY=10`) and attach the full output. Cause: module 'gast' has no attribute 'Num'\n",
            "WARNING:tensorflow:Entity <bound method Swish.call of <efficientnet.layers.Swish object at 0x7fa75a71eed0>> could not be transformed and will be executed as-is. Please report this to the AutoGraph team. When filing the bug, set the verbosity to 10 (on Linux, `export AUTOGRAPH_VERBOSITY=10`) and attach the full output. Cause: Bad argument number for Name: 3, expecting 4\n",
            "WARNING: Entity <bound method Swish.call of <efficientnet.layers.Swish object at 0x7fa75a71eed0>> could not be transformed and will be executed as-is. Please report this to the AutoGraph team. When filing the bug, set the verbosity to 10 (on Linux, `export AUTOGRAPH_VERBOSITY=10`) and attach the full output. Cause: Bad argument number for Name: 3, expecting 4\n",
            "WARNING:tensorflow:Entity <bound method Swish.call of <efficientnet.layers.Swish object at 0x7fa75a6ea250>> could not be transformed and will be executed as-is. Please report this to the AutoGraph team. When filing the bug, set the verbosity to 10 (on Linux, `export AUTOGRAPH_VERBOSITY=10`) and attach the full output. Cause: Bad argument number for Name: 3, expecting 4\n",
            "WARNING: Entity <bound method Swish.call of <efficientnet.layers.Swish object at 0x7fa75a6ea250>> could not be transformed and will be executed as-is. Please report this to the AutoGraph team. When filing the bug, set the verbosity to 10 (on Linux, `export AUTOGRAPH_VERBOSITY=10`) and attach the full output. Cause: Bad argument number for Name: 3, expecting 4\n",
            "WARNING:tensorflow:Entity <bound method Swish.call of <efficientnet.layers.Swish object at 0x7fa75a6f7550>> could not be transformed and will be executed as-is. Please report this to the AutoGraph team. When filing the bug, set the verbosity to 10 (on Linux, `export AUTOGRAPH_VERBOSITY=10`) and attach the full output. Cause: Bad argument number for Name: 3, expecting 4\n",
            "WARNING: Entity <bound method Swish.call of <efficientnet.layers.Swish object at 0x7fa75a6f7550>> could not be transformed and will be executed as-is. Please report this to the AutoGraph team. When filing the bug, set the verbosity to 10 (on Linux, `export AUTOGRAPH_VERBOSITY=10`) and attach the full output. Cause: Bad argument number for Name: 3, expecting 4\n",
            "WARNING:tensorflow:Entity <bound method DropConnect.call of <efficientnet.layers.DropConnect object at 0x7fa75a65de10>> could not be transformed and will be executed as-is. Please report this to the AutoGraph team. When filing the bug, set the verbosity to 10 (on Linux, `export AUTOGRAPH_VERBOSITY=10`) and attach the full output. Cause: module 'gast' has no attribute 'Num'\n",
            "WARNING: Entity <bound method DropConnect.call of <efficientnet.layers.DropConnect object at 0x7fa75a65de10>> could not be transformed and will be executed as-is. Please report this to the AutoGraph team. When filing the bug, set the verbosity to 10 (on Linux, `export AUTOGRAPH_VERBOSITY=10`) and attach the full output. Cause: module 'gast' has no attribute 'Num'\n",
            "WARNING:tensorflow:Entity <bound method Swish.call of <efficientnet.layers.Swish object at 0x7fa75a64e5d0>> could not be transformed and will be executed as-is. Please report this to the AutoGraph team. When filing the bug, set the verbosity to 10 (on Linux, `export AUTOGRAPH_VERBOSITY=10`) and attach the full output. Cause: Bad argument number for Name: 3, expecting 4\n",
            "WARNING: Entity <bound method Swish.call of <efficientnet.layers.Swish object at 0x7fa75a64e5d0>> could not be transformed and will be executed as-is. Please report this to the AutoGraph team. When filing the bug, set the verbosity to 10 (on Linux, `export AUTOGRAPH_VERBOSITY=10`) and attach the full output. Cause: Bad argument number for Name: 3, expecting 4\n",
            "WARNING:tensorflow:Entity <bound method Swish.call of <efficientnet.layers.Swish object at 0x7fa75a5f3d90>> could not be transformed and will be executed as-is. Please report this to the AutoGraph team. When filing the bug, set the verbosity to 10 (on Linux, `export AUTOGRAPH_VERBOSITY=10`) and attach the full output. Cause: Bad argument number for Name: 3, expecting 4\n",
            "WARNING: Entity <bound method Swish.call of <efficientnet.layers.Swish object at 0x7fa75a5f3d90>> could not be transformed and will be executed as-is. Please report this to the AutoGraph team. When filing the bug, set the verbosity to 10 (on Linux, `export AUTOGRAPH_VERBOSITY=10`) and attach the full output. Cause: Bad argument number for Name: 3, expecting 4\n",
            "WARNING:tensorflow:Entity <bound method Swish.call of <efficientnet.layers.Swish object at 0x7fa75a5c9850>> could not be transformed and will be executed as-is. Please report this to the AutoGraph team. When filing the bug, set the verbosity to 10 (on Linux, `export AUTOGRAPH_VERBOSITY=10`) and attach the full output. Cause: Bad argument number for Name: 3, expecting 4\n",
            "WARNING: Entity <bound method Swish.call of <efficientnet.layers.Swish object at 0x7fa75a5c9850>> could not be transformed and will be executed as-is. Please report this to the AutoGraph team. When filing the bug, set the verbosity to 10 (on Linux, `export AUTOGRAPH_VERBOSITY=10`) and attach the full output. Cause: Bad argument number for Name: 3, expecting 4\n",
            "WARNING:tensorflow:Entity <bound method Swish.call of <efficientnet.layers.Swish object at 0x7fa75a55c810>> could not be transformed and will be executed as-is. Please report this to the AutoGraph team. When filing the bug, set the verbosity to 10 (on Linux, `export AUTOGRAPH_VERBOSITY=10`) and attach the full output. Cause: Bad argument number for Name: 3, expecting 4\n",
            "WARNING: Entity <bound method Swish.call of <efficientnet.layers.Swish object at 0x7fa75a55c810>> could not be transformed and will be executed as-is. Please report this to the AutoGraph team. When filing the bug, set the verbosity to 10 (on Linux, `export AUTOGRAPH_VERBOSITY=10`) and attach the full output. Cause: Bad argument number for Name: 3, expecting 4\n"
          ],
          "name": "stdout"
        }
      ]
    },
    {
      "cell_type": "code",
      "metadata": {
        "colab": {
          "base_uri": "https://localhost:8080/"
        },
        "id": "aJggD32Kz0Cc",
        "outputId": "4d3eb60a-1ec4-432e-e96d-6cea1c88c85d"
      },
      "source": [
        "model.summary()"
      ],
      "execution_count": null,
      "outputs": [
        {
          "output_type": "stream",
          "text": [
            "Model: \"sequential\"\n",
            "_________________________________________________________________\n",
            "Layer (type)                 Output Shape              Param #   \n",
            "=================================================================\n",
            "efficientnet-b0 (Model)      (None, 5, 5, 1280)        4049564   \n",
            "_________________________________________________________________\n",
            "gap (GlobalMaxPooling2D)     (None, 1280)              0         \n",
            "_________________________________________________________________\n",
            "flatten (Flatten)            (None, 1280)              0         \n",
            "_________________________________________________________________\n",
            "dropout_out (Dropout)        (None, 1280)              0         \n",
            "_________________________________________________________________\n",
            "fc1 (Dense)                  (None, 256)               327936    \n",
            "_________________________________________________________________\n",
            "fc_out (Dense)               (None, 1)                 257       \n",
            "=================================================================\n",
            "Total params: 4,377,757\n",
            "Trainable params: 4,335,741\n",
            "Non-trainable params: 42,016\n",
            "_________________________________________________________________\n"
          ],
          "name": "stdout"
        }
      ]
    },
    {
      "cell_type": "markdown",
      "metadata": {
        "id": "JBaet_G_0HaM"
      },
      "source": [
        "### **Freezing the Conv Layers**"
      ]
    },
    {
      "cell_type": "code",
      "metadata": {
        "colab": {
          "base_uri": "https://localhost:8080/"
        },
        "id": "YNOgdmISz5rs",
        "outputId": "a130dec5-5c98-499e-f933-a00e28b5b13f"
      },
      "source": [
        "print('This is the number of trainable layers '\n",
        "      'before freezing the conv base:', len(model.trainable_weights))\n",
        "\n",
        "conv_base.trainable = False\n",
        "\n",
        "print('This is the number of trainable layers '\n",
        "      'after freezing the conv base:', len(model.trainable_weights))"
      ],
      "execution_count": null,
      "outputs": [
        {
          "output_type": "stream",
          "text": [
            "This is the number of trainable layers before freezing the conv base: 215\n",
            "This is the number of trainable layers after freezing the conv base: 4\n"
          ],
          "name": "stdout"
        }
      ]
    },
    {
      "cell_type": "code",
      "metadata": {
        "colab": {
          "base_uri": "https://localhost:8080/"
        },
        "id": "uGEyzP6k02Qw",
        "outputId": "e712e7c5-9e4e-416a-f532-886dc9ed7d8b"
      },
      "source": [
        "model.summary()"
      ],
      "execution_count": null,
      "outputs": [
        {
          "output_type": "stream",
          "text": [
            "Model: \"sequential\"\n",
            "_________________________________________________________________\n",
            "Layer (type)                 Output Shape              Param #   \n",
            "=================================================================\n",
            "efficientnet-b0 (Model)      (None, 5, 5, 1280)        4049564   \n",
            "_________________________________________________________________\n",
            "gap (GlobalMaxPooling2D)     (None, 1280)              0         \n",
            "_________________________________________________________________\n",
            "flatten (Flatten)            (None, 1280)              0         \n",
            "_________________________________________________________________\n",
            "dropout_out (Dropout)        (None, 1280)              0         \n",
            "_________________________________________________________________\n",
            "fc1 (Dense)                  (None, 256)               327936    \n",
            "_________________________________________________________________\n",
            "fc_out (Dense)               (None, 1)                 257       \n",
            "=================================================================\n",
            "Total params: 4,377,757\n",
            "Trainable params: 328,193\n",
            "Non-trainable params: 4,049,564\n",
            "_________________________________________________________________\n"
          ],
          "name": "stdout"
        }
      ]
    },
    {
      "cell_type": "code",
      "metadata": {
        "colab": {
          "base_uri": "https://localhost:8080/"
        },
        "id": "M_wXUk-z0C0s",
        "outputId": "4695f0be-c5c6-4a17-bc95-dfaa406799cf"
      },
      "source": [
        "model.compile(loss='binary_crossentropy',\n",
        "              optimizer=optimizers.RMSprop(lr=2e-5),\n",
        "              metrics=['binary_accuracy'])\n",
        "history = model.fit_generator(\n",
        "      train_generator,\n",
        "      steps_per_epoch= NUM_TRAIN //batch_size,\n",
        "      epochs=epochs,\n",
        "      validation_data=validation_generator,\n",
        "      validation_steps= NUM_TEST //batch_size,\n",
        "      verbose=1,\n",
        "      use_multiprocessing=True,\n",
        "      workers=4)"
      ],
      "execution_count": null,
      "outputs": [
        {
          "output_type": "stream",
          "text": [
            "WARNING:tensorflow:From /tensorflow-1.15.2/python3.7/tensorflow_core/python/ops/nn_impl.py:183: where (from tensorflow.python.ops.array_ops) is deprecated and will be removed in a future version.\n",
            "Instructions for updating:\n",
            "Use tf.where in 2.0, which has the same broadcast rule as np.where\n",
            "Epoch 1/50\n",
            "19/32 [================>.............] - ETA: 2:47 - loss: 1.4906 - binary_accuracy: 0.5115"
          ],
          "name": "stdout"
        },
        {
          "output_type": "stream",
          "text": [
            "/usr/local/lib/python3.7/dist-packages/PIL/Image.py:871: UserWarning: Palette images with Transparency   expressed in bytes should be converted to RGBA images\n",
            "  ' expressed in bytes should be converted ' +\n"
          ],
          "name": "stderr"
        },
        {
          "output_type": "stream",
          "text": [
            "31/32 [============================>.] - ETA: 12s - loss: 1.4356 - binary_accuracy: 0.5230Epoch 1/50\n",
            "32/32 [==============================] - 460s 14s/step - loss: 1.4521 - binary_accuracy: 0.5213 - val_loss: 0.9424 - val_binary_accuracy: 0.5677\n",
            "Epoch 2/50\n",
            "13/32 [===========>..................] - ETA: 10s - loss: 1.2271 - binary_accuracy: 0.5204"
          ],
          "name": "stdout"
        },
        {
          "output_type": "stream",
          "text": [
            "/usr/local/lib/python3.7/dist-packages/PIL/Image.py:871: UserWarning: Palette images with Transparency   expressed in bytes should be converted to RGBA images\n",
            "  ' expressed in bytes should be converted ' +\n"
          ],
          "name": "stderr"
        },
        {
          "output_type": "stream",
          "text": [
            "21/32 [==================>...........] - ETA: 6s - loss: 1.2390 - binary_accuracy: 0.5290"
          ],
          "name": "stdout"
        },
        {
          "output_type": "stream",
          "text": [
            "/usr/local/lib/python3.7/dist-packages/PIL/Image.py:871: UserWarning: Palette images with Transparency   expressed in bytes should be converted to RGBA images\n",
            "  ' expressed in bytes should be converted ' +\n"
          ],
          "name": "stderr"
        },
        {
          "output_type": "stream",
          "text": [
            "31/32 [============================>.] - ETA: 0s - loss: 1.2158 - binary_accuracy: 0.5438Epoch 1/50\n",
            "32/32 [==============================] - 21s 649ms/step - loss: 1.2208 - binary_accuracy: 0.5439 - val_loss: 0.9188 - val_binary_accuracy: 0.5859\n",
            "Epoch 3/50\n",
            " 8/32 [======>.......................] - ETA: 14s - loss: 1.1479 - binary_accuracy: 0.5566"
          ],
          "name": "stdout"
        },
        {
          "output_type": "stream",
          "text": [
            "/usr/local/lib/python3.7/dist-packages/PIL/Image.py:871: UserWarning: Palette images with Transparency   expressed in bytes should be converted to RGBA images\n",
            "  ' expressed in bytes should be converted ' +\n"
          ],
          "name": "stderr"
        },
        {
          "output_type": "stream",
          "text": [
            "14/32 [============>.................] - ETA: 9s - loss: 1.1906 - binary_accuracy: 0.5413 "
          ],
          "name": "stdout"
        },
        {
          "output_type": "stream",
          "text": [
            "/usr/local/lib/python3.7/dist-packages/PIL/Image.py:871: UserWarning: Palette images with Transparency   expressed in bytes should be converted to RGBA images\n",
            "  ' expressed in bytes should be converted ' +\n"
          ],
          "name": "stderr"
        },
        {
          "output_type": "stream",
          "text": [
            "31/32 [============================>.] - ETA: 0s - loss: 1.1985 - binary_accuracy: 0.5489Epoch 1/50\n",
            "32/32 [==============================] - 21s 655ms/step - loss: 1.2008 - binary_accuracy: 0.5493 - val_loss: 0.9121 - val_binary_accuracy: 0.6068\n",
            "Epoch 4/50\n",
            " 7/32 [=====>........................] - ETA: 11s - loss: 1.2129 - binary_accuracy: 0.5330"
          ],
          "name": "stdout"
        },
        {
          "output_type": "stream",
          "text": [
            "/usr/local/lib/python3.7/dist-packages/PIL/Image.py:871: UserWarning: Palette images with Transparency   expressed in bytes should be converted to RGBA images\n",
            "  ' expressed in bytes should be converted ' +\n",
            "/usr/local/lib/python3.7/dist-packages/PIL/Image.py:871: UserWarning: Palette images with Transparency   expressed in bytes should be converted to RGBA images\n",
            "  ' expressed in bytes should be converted ' +\n"
          ],
          "name": "stderr"
        },
        {
          "output_type": "stream",
          "text": [
            "31/32 [============================>.] - ETA: 0s - loss: 1.1253 - binary_accuracy: 0.5737Epoch 1/50\n",
            "32/32 [==============================] - 21s 652ms/step - loss: 1.1265 - binary_accuracy: 0.5738 - val_loss: 0.9205 - val_binary_accuracy: 0.6172\n",
            "Epoch 5/50\n",
            "10/32 [========>.....................] - ETA: 11s - loss: 1.0843 - binary_accuracy: 0.5891"
          ],
          "name": "stdout"
        },
        {
          "output_type": "stream",
          "text": [
            "/usr/local/lib/python3.7/dist-packages/PIL/Image.py:871: UserWarning: Palette images with Transparency   expressed in bytes should be converted to RGBA images\n",
            "  ' expressed in bytes should be converted ' +\n"
          ],
          "name": "stderr"
        },
        {
          "output_type": "stream",
          "text": [
            "31/32 [============================>.] - ETA: 0s - loss: 1.0728 - binary_accuracy: 0.5995"
          ],
          "name": "stdout"
        },
        {
          "output_type": "stream",
          "text": [
            "/usr/local/lib/python3.7/dist-packages/PIL/Image.py:871: UserWarning: Palette images with Transparency   expressed in bytes should be converted to RGBA images\n",
            "  ' expressed in bytes should be converted ' +\n"
          ],
          "name": "stderr"
        },
        {
          "output_type": "stream",
          "text": [
            "Epoch 1/50\n",
            "32/32 [==============================] - 21s 645ms/step - loss: 1.0727 - binary_accuracy: 0.6003 - val_loss: 0.8248 - val_binary_accuracy: 0.6536\n",
            "Epoch 6/50\n",
            "13/32 [===========>..................] - ETA: 8s - loss: 1.0420 - binary_accuracy: 0.6250"
          ],
          "name": "stdout"
        },
        {
          "output_type": "stream",
          "text": [
            "/usr/local/lib/python3.7/dist-packages/PIL/Image.py:871: UserWarning: Palette images with Transparency   expressed in bytes should be converted to RGBA images\n",
            "  ' expressed in bytes should be converted ' +\n"
          ],
          "name": "stderr"
        },
        {
          "output_type": "stream",
          "text": [
            "31/32 [============================>.] - ETA: 0s - loss: 1.0002 - binary_accuracy: 0.6203Epoch 1/50\n",
            "32/32 [==============================] - 21s 646ms/step - loss: 0.9931 - binary_accuracy: 0.6219 - val_loss: 0.7792 - val_binary_accuracy: 0.6615\n",
            "Epoch 7/50\n",
            " 6/32 [====>.........................] - ETA: 2s - loss: 0.9208 - binary_accuracy: 0.6406"
          ],
          "name": "stdout"
        },
        {
          "output_type": "stream",
          "text": [
            "/usr/local/lib/python3.7/dist-packages/PIL/Image.py:871: UserWarning: Palette images with Transparency   expressed in bytes should be converted to RGBA images\n",
            "  ' expressed in bytes should be converted ' +\n"
          ],
          "name": "stderr"
        },
        {
          "output_type": "stream",
          "text": [
            "10/32 [========>.....................] - ETA: 8s - loss: 0.9715 - binary_accuracy: 0.6422"
          ],
          "name": "stdout"
        },
        {
          "output_type": "stream",
          "text": [
            "/usr/local/lib/python3.7/dist-packages/PIL/Image.py:871: UserWarning: Palette images with Transparency   expressed in bytes should be converted to RGBA images\n",
            "  ' expressed in bytes should be converted ' +\n"
          ],
          "name": "stderr"
        },
        {
          "output_type": "stream",
          "text": [
            "31/32 [============================>.] - ETA: 0s - loss: 0.9619 - binary_accuracy: 0.6359Epoch 1/50\n",
            "32/32 [==============================] - 21s 652ms/step - loss: 0.9624 - binary_accuracy: 0.6351 - val_loss: 0.7834 - val_binary_accuracy: 0.6562\n",
            "Epoch 8/50\n",
            "11/32 [=========>....................] - ETA: 7s - loss: 0.9524 - binary_accuracy: 0.6321"
          ],
          "name": "stdout"
        },
        {
          "output_type": "stream",
          "text": [
            "/usr/local/lib/python3.7/dist-packages/PIL/Image.py:871: UserWarning: Palette images with Transparency   expressed in bytes should be converted to RGBA images\n",
            "  ' expressed in bytes should be converted ' +\n"
          ],
          "name": "stderr"
        },
        {
          "output_type": "stream",
          "text": [
            "31/32 [============================>.] - ETA: 0s - loss: 0.8891 - binary_accuracy: 0.6461Epoch 1/50\n",
            "32/32 [==============================] - 21s 654ms/step - loss: 0.8851 - binary_accuracy: 0.6459 - val_loss: 0.7711 - val_binary_accuracy: 0.6562\n",
            "Epoch 9/50\n",
            " 5/32 [===>..........................] - ETA: 2s - loss: 0.8675 - binary_accuracy: 0.6375"
          ],
          "name": "stdout"
        },
        {
          "output_type": "stream",
          "text": [
            "/usr/local/lib/python3.7/dist-packages/PIL/Image.py:871: UserWarning: Palette images with Transparency   expressed in bytes should be converted to RGBA images\n",
            "  ' expressed in bytes should be converted ' +\n"
          ],
          "name": "stderr"
        },
        {
          "output_type": "stream",
          "text": [
            "14/32 [============>.................] - ETA: 6s - loss: 0.8780 - binary_accuracy: 0.6473"
          ],
          "name": "stdout"
        },
        {
          "output_type": "stream",
          "text": [
            "/usr/local/lib/python3.7/dist-packages/PIL/Image.py:871: UserWarning: Palette images with Transparency   expressed in bytes should be converted to RGBA images\n",
            "  ' expressed in bytes should be converted ' +\n"
          ],
          "name": "stderr"
        },
        {
          "output_type": "stream",
          "text": [
            "23/32 [====================>.........] - ETA: 3s - loss: 0.8971 - binary_accuracy: 0.6365"
          ],
          "name": "stdout"
        },
        {
          "output_type": "stream",
          "text": [
            "/usr/local/lib/python3.7/dist-packages/PIL/Image.py:871: UserWarning: Palette images with Transparency   expressed in bytes should be converted to RGBA images\n",
            "  ' expressed in bytes should be converted ' +\n"
          ],
          "name": "stderr"
        },
        {
          "output_type": "stream",
          "text": [
            "31/32 [============================>.] - ETA: 0s - loss: 0.8997 - binary_accuracy: 0.6334Epoch 1/50\n",
            "32/32 [==============================] - 19s 609ms/step - loss: 0.8960 - binary_accuracy: 0.6356 - val_loss: 0.7467 - val_binary_accuracy: 0.6771\n",
            "Epoch 10/50\n",
            "22/32 [===================>..........] - ETA: 4s - loss: 0.8481 - binary_accuracy: 0.6733"
          ],
          "name": "stdout"
        },
        {
          "output_type": "stream",
          "text": [
            "/usr/local/lib/python3.7/dist-packages/PIL/Image.py:871: UserWarning: Palette images with Transparency   expressed in bytes should be converted to RGBA images\n",
            "  ' expressed in bytes should be converted ' +\n"
          ],
          "name": "stderr"
        },
        {
          "output_type": "stream",
          "text": [
            "31/32 [============================>.] - ETA: 0s - loss: 0.8393 - binary_accuracy: 0.6653Epoch 1/50\n",
            "32/32 [==============================] - 21s 655ms/step - loss: 0.8491 - binary_accuracy: 0.6641 - val_loss: 0.7820 - val_binary_accuracy: 0.6641\n",
            "Epoch 11/50\n",
            " 9/32 [=======>......................] - ETA: 4s - loss: 0.8613 - binary_accuracy: 0.6510"
          ],
          "name": "stdout"
        },
        {
          "output_type": "stream",
          "text": [
            "/usr/local/lib/python3.7/dist-packages/PIL/Image.py:871: UserWarning: Palette images with Transparency   expressed in bytes should be converted to RGBA images\n",
            "  ' expressed in bytes should be converted ' +\n"
          ],
          "name": "stderr"
        },
        {
          "output_type": "stream",
          "text": [
            "20/32 [=================>............] - ETA: 5s - loss: 0.7987 - binary_accuracy: 0.6672"
          ],
          "name": "stdout"
        },
        {
          "output_type": "stream",
          "text": [
            "/usr/local/lib/python3.7/dist-packages/PIL/Image.py:871: UserWarning: Palette images with Transparency   expressed in bytes should be converted to RGBA images\n",
            "  ' expressed in bytes should be converted ' +\n"
          ],
          "name": "stderr"
        },
        {
          "output_type": "stream",
          "text": [
            "31/32 [============================>.] - ETA: 0s - loss: 0.7822 - binary_accuracy: 0.6658"
          ],
          "name": "stdout"
        },
        {
          "output_type": "stream",
          "text": [
            "/usr/local/lib/python3.7/dist-packages/PIL/Image.py:871: UserWarning: Palette images with Transparency   expressed in bytes should be converted to RGBA images\n",
            "  ' expressed in bytes should be converted ' +\n"
          ],
          "name": "stderr"
        },
        {
          "output_type": "stream",
          "text": [
            "Epoch 1/50\n",
            "32/32 [==============================] - 20s 616ms/step - loss: 0.7835 - binary_accuracy: 0.6655 - val_loss: 0.7715 - val_binary_accuracy: 0.6719\n",
            "Epoch 12/50\n",
            "19/32 [================>.............] - ETA: 5s - loss: 0.7387 - binary_accuracy: 0.6943"
          ],
          "name": "stdout"
        },
        {
          "output_type": "stream",
          "text": [
            "/usr/local/lib/python3.7/dist-packages/PIL/Image.py:871: UserWarning: Palette images with Transparency   expressed in bytes should be converted to RGBA images\n",
            "  ' expressed in bytes should be converted ' +\n"
          ],
          "name": "stderr"
        },
        {
          "output_type": "stream",
          "text": [
            "31/32 [============================>.] - ETA: 0s - loss: 0.7775 - binary_accuracy: 0.6867Epoch 1/50\n",
            "32/32 [==============================] - 21s 661ms/step - loss: 0.7768 - binary_accuracy: 0.6877 - val_loss: 0.7407 - val_binary_accuracy: 0.6901\n",
            "Epoch 13/50\n",
            "12/32 [==========>...................] - ETA: 4s - loss: 0.8206 - binary_accuracy: 0.6771"
          ],
          "name": "stdout"
        },
        {
          "output_type": "stream",
          "text": [
            "/usr/local/lib/python3.7/dist-packages/PIL/Image.py:871: UserWarning: Palette images with Transparency   expressed in bytes should be converted to RGBA images\n",
            "  ' expressed in bytes should be converted ' +\n"
          ],
          "name": "stderr"
        },
        {
          "output_type": "stream",
          "text": [
            "22/32 [===================>..........] - ETA: 4s - loss: 0.8035 - binary_accuracy: 0.6762"
          ],
          "name": "stdout"
        },
        {
          "output_type": "stream",
          "text": [
            "/usr/local/lib/python3.7/dist-packages/PIL/Image.py:871: UserWarning: Palette images with Transparency   expressed in bytes should be converted to RGBA images\n",
            "  ' expressed in bytes should be converted ' +\n"
          ],
          "name": "stderr"
        },
        {
          "output_type": "stream",
          "text": [
            "31/32 [============================>.] - ETA: 0s - loss: 0.8062 - binary_accuracy: 0.6770Epoch 1/50\n",
            "32/32 [==============================] - 20s 609ms/step - loss: 0.8082 - binary_accuracy: 0.6768 - val_loss: 0.7353 - val_binary_accuracy: 0.6823\n",
            "Epoch 14/50\n",
            "28/32 [=========================>....] - ETA: 1s - loss: 0.7978 - binary_accuracy: 0.6674"
          ],
          "name": "stdout"
        },
        {
          "output_type": "stream",
          "text": [
            "/usr/local/lib/python3.7/dist-packages/PIL/Image.py:871: UserWarning: Palette images with Transparency   expressed in bytes should be converted to RGBA images\n",
            "  ' expressed in bytes should be converted ' +\n"
          ],
          "name": "stderr"
        },
        {
          "output_type": "stream",
          "text": [
            "31/32 [============================>.] - ETA: 0s - loss: 0.7916 - binary_accuracy: 0.6714Epoch 1/50\n"
          ],
          "name": "stdout"
        },
        {
          "output_type": "stream",
          "text": [
            "/usr/local/lib/python3.7/dist-packages/PIL/Image.py:871: UserWarning: Palette images with Transparency   expressed in bytes should be converted to RGBA images\n",
            "  ' expressed in bytes should be converted ' +\n"
          ],
          "name": "stderr"
        },
        {
          "output_type": "stream",
          "text": [
            "32/32 [==============================] - 21s 652ms/step - loss: 0.7952 - binary_accuracy: 0.6714 - val_loss: 0.7379 - val_binary_accuracy: 0.6875\n",
            "Epoch 15/50\n",
            "30/32 [===========================>..] - ETA: 0s - loss: 0.7828 - binary_accuracy: 0.6766"
          ],
          "name": "stdout"
        },
        {
          "output_type": "stream",
          "text": [
            "/usr/local/lib/python3.7/dist-packages/PIL/Image.py:871: UserWarning: Palette images with Transparency   expressed in bytes should be converted to RGBA images\n",
            "  ' expressed in bytes should be converted ' +\n"
          ],
          "name": "stderr"
        },
        {
          "output_type": "stream",
          "text": [
            "31/32 [============================>.] - ETA: 0s - loss: 0.7842 - binary_accuracy: 0.6780Epoch 1/50\n",
            "32/32 [==============================] - 21s 641ms/step - loss: 0.7776 - binary_accuracy: 0.6793 - val_loss: 0.6872 - val_binary_accuracy: 0.7083\n",
            "Epoch 16/50\n",
            " 4/32 [==>...........................] - ETA: 3s - loss: 0.8518 - binary_accuracy: 0.6758"
          ],
          "name": "stdout"
        },
        {
          "output_type": "stream",
          "text": [
            "/usr/local/lib/python3.7/dist-packages/PIL/Image.py:871: UserWarning: Palette images with Transparency   expressed in bytes should be converted to RGBA images\n",
            "  ' expressed in bytes should be converted ' +\n"
          ],
          "name": "stderr"
        },
        {
          "output_type": "stream",
          "text": [
            "24/32 [=====================>........] - ETA: 3s - loss: 0.7380 - binary_accuracy: 0.6979"
          ],
          "name": "stdout"
        },
        {
          "output_type": "stream",
          "text": [
            "/usr/local/lib/python3.7/dist-packages/PIL/Image.py:871: UserWarning: Palette images with Transparency   expressed in bytes should be converted to RGBA images\n",
            "  ' expressed in bytes should be converted ' +\n"
          ],
          "name": "stderr"
        },
        {
          "output_type": "stream",
          "text": [
            "31/32 [============================>.] - ETA: 0s - loss: 0.7475 - binary_accuracy: 0.6910Epoch 1/50\n",
            "32/32 [==============================] - 21s 657ms/step - loss: 0.7455 - binary_accuracy: 0.6929 - val_loss: 0.7128 - val_binary_accuracy: 0.7057\n",
            "Epoch 17/50\n",
            "23/32 [====================>.........] - ETA: 3s - loss: 0.7797 - binary_accuracy: 0.6816"
          ],
          "name": "stdout"
        },
        {
          "output_type": "stream",
          "text": [
            "/usr/local/lib/python3.7/dist-packages/PIL/Image.py:871: UserWarning: Palette images with Transparency   expressed in bytes should be converted to RGBA images\n",
            "  ' expressed in bytes should be converted ' +\n"
          ],
          "name": "stderr"
        },
        {
          "output_type": "stream",
          "text": [
            "31/32 [============================>.] - ETA: 0s - loss: 0.7726 - binary_accuracy: 0.6923"
          ],
          "name": "stdout"
        },
        {
          "output_type": "stream",
          "text": [
            "/usr/local/lib/python3.7/dist-packages/PIL/Image.py:871: UserWarning: Palette images with Transparency   expressed in bytes should be converted to RGBA images\n",
            "  ' expressed in bytes should be converted ' +\n"
          ],
          "name": "stderr"
        },
        {
          "output_type": "stream",
          "text": [
            "Epoch 1/50\n",
            "32/32 [==============================] - 20s 619ms/step - loss: 0.7725 - binary_accuracy: 0.6887 - val_loss: 0.7142 - val_binary_accuracy: 0.6927\n",
            "Epoch 18/50\n",
            "28/32 [=========================>....] - ETA: 1s - loss: 0.7089 - binary_accuracy: 0.7020"
          ],
          "name": "stdout"
        },
        {
          "output_type": "stream",
          "text": [
            "/usr/local/lib/python3.7/dist-packages/PIL/Image.py:871: UserWarning: Palette images with Transparency   expressed in bytes should be converted to RGBA images\n",
            "  ' expressed in bytes should be converted ' +\n"
          ],
          "name": "stderr"
        },
        {
          "output_type": "stream",
          "text": [
            "31/32 [============================>.] - ETA: 0s - loss: 0.7002 - binary_accuracy: 0.7056Epoch 1/50\n",
            "32/32 [==============================] - 20s 631ms/step - loss: 0.7061 - binary_accuracy: 0.7031 - val_loss: 0.7687 - val_binary_accuracy: 0.6693\n",
            "Epoch 19/50\n"
          ],
          "name": "stdout"
        },
        {
          "output_type": "stream",
          "text": [
            "/usr/local/lib/python3.7/dist-packages/PIL/Image.py:871: UserWarning: Palette images with Transparency   expressed in bytes should be converted to RGBA images\n",
            "  ' expressed in bytes should be converted ' +\n"
          ],
          "name": "stderr"
        },
        {
          "output_type": "stream",
          "text": [
            "31/32 [============================>.] - ETA: 0s - loss: 0.7481 - binary_accuracy: 0.6876Epoch 1/50\n",
            " 4/32 [==>...........................] - ETA: 23s - loss: 0.7025 - binary_accuracy: 0.7070"
          ],
          "name": "stdout"
        },
        {
          "output_type": "stream",
          "text": [
            "/usr/local/lib/python3.7/dist-packages/PIL/Image.py:871: UserWarning: Palette images with Transparency   expressed in bytes should be converted to RGBA images\n",
            "  ' expressed in bytes should be converted ' +\n"
          ],
          "name": "stderr"
        },
        {
          "output_type": "stream",
          "text": [
            "32/32 [==============================] - 21s 671ms/step - loss: 0.7463 - binary_accuracy: 0.6876 - val_loss: 0.7074 - val_binary_accuracy: 0.6953\n",
            "Epoch 20/50\n",
            "31/32 [============================>.] - ETA: 0s - loss: 0.6980 - binary_accuracy: 0.6942"
          ],
          "name": "stdout"
        },
        {
          "output_type": "stream",
          "text": [
            "/usr/local/lib/python3.7/dist-packages/PIL/Image.py:871: UserWarning: Palette images with Transparency   expressed in bytes should be converted to RGBA images\n",
            "  ' expressed in bytes should be converted ' +\n"
          ],
          "name": "stderr"
        },
        {
          "output_type": "stream",
          "text": [
            "Epoch 1/50\n",
            "32/32 [==============================] - 20s 632ms/step - loss: 0.6966 - binary_accuracy: 0.6940 - val_loss: 0.6692 - val_binary_accuracy: 0.7109\n",
            "Epoch 21/50\n",
            "31/32 [============================>.] - ETA: 0s - loss: 0.6765 - binary_accuracy: 0.7144Epoch 1/50\n",
            "32/32 [==============================] - 20s 628ms/step - loss: 0.6781 - binary_accuracy: 0.7146 - val_loss: 0.7324 - val_binary_accuracy: 0.6849\n",
            "Epoch 22/50\n",
            "13/32 [===========>..................] - ETA: 6s - loss: 0.6952 - binary_accuracy: 0.7035"
          ],
          "name": "stdout"
        },
        {
          "output_type": "stream",
          "text": [
            "/usr/local/lib/python3.7/dist-packages/PIL/Image.py:871: UserWarning: Palette images with Transparency   expressed in bytes should be converted to RGBA images\n",
            "  ' expressed in bytes should be converted ' +\n"
          ],
          "name": "stderr"
        },
        {
          "output_type": "stream",
          "text": [
            "17/32 [==============>...............] - ETA: 5s - loss: 0.6928 - binary_accuracy: 0.7090"
          ],
          "name": "stdout"
        },
        {
          "output_type": "stream",
          "text": [
            "/usr/local/lib/python3.7/dist-packages/PIL/Image.py:871: UserWarning: Palette images with Transparency   expressed in bytes should be converted to RGBA images\n",
            "  ' expressed in bytes should be converted ' +\n"
          ],
          "name": "stderr"
        },
        {
          "output_type": "stream",
          "text": [
            "21/32 [==================>...........] - ETA: 4s - loss: 0.7093 - binary_accuracy: 0.7011"
          ],
          "name": "stdout"
        },
        {
          "output_type": "stream",
          "text": [
            "/usr/local/lib/python3.7/dist-packages/PIL/Image.py:871: UserWarning: Palette images with Transparency   expressed in bytes should be converted to RGBA images\n",
            "  ' expressed in bytes should be converted ' +\n"
          ],
          "name": "stderr"
        },
        {
          "output_type": "stream",
          "text": [
            "31/32 [============================>.] - ETA: 0s - loss: 0.7100 - binary_accuracy: 0.6992Epoch 1/50\n",
            "32/32 [==============================] - 21s 644ms/step - loss: 0.7105 - binary_accuracy: 0.6995 - val_loss: 0.7403 - val_binary_accuracy: 0.6641\n",
            "Epoch 23/50\n",
            "13/32 [===========>..................] - ETA: 6s - loss: 0.6276 - binary_accuracy: 0.7200"
          ],
          "name": "stdout"
        },
        {
          "output_type": "stream",
          "text": [
            "/usr/local/lib/python3.7/dist-packages/PIL/Image.py:871: UserWarning: Palette images with Transparency   expressed in bytes should be converted to RGBA images\n",
            "  ' expressed in bytes should be converted ' +\n"
          ],
          "name": "stderr"
        },
        {
          "output_type": "stream",
          "text": [
            "31/32 [============================>.] - ETA: 0s - loss: 0.6570 - binary_accuracy: 0.7107Epoch 1/50\n"
          ],
          "name": "stdout"
        },
        {
          "output_type": "stream",
          "text": [
            "/usr/local/lib/python3.7/dist-packages/PIL/Image.py:871: UserWarning: Palette images with Transparency   expressed in bytes should be converted to RGBA images\n",
            "  ' expressed in bytes should be converted ' +\n",
            "/usr/local/lib/python3.7/dist-packages/PIL/Image.py:871: UserWarning: Palette images with Transparency   expressed in bytes should be converted to RGBA images\n",
            "  ' expressed in bytes should be converted ' +\n"
          ],
          "name": "stderr"
        },
        {
          "output_type": "stream",
          "text": [
            "32/32 [==============================] - 21s 646ms/step - loss: 0.6564 - binary_accuracy: 0.7090 - val_loss: 0.7311 - val_binary_accuracy: 0.6771\n",
            "Epoch 24/50\n",
            "31/32 [============================>.] - ETA: 0s - loss: 0.6748 - binary_accuracy: 0.7096Epoch 1/50\n"
          ],
          "name": "stdout"
        },
        {
          "output_type": "stream",
          "text": [
            "/usr/local/lib/python3.7/dist-packages/PIL/Image.py:871: UserWarning: Palette images with Transparency   expressed in bytes should be converted to RGBA images\n",
            "  ' expressed in bytes should be converted ' +\n"
          ],
          "name": "stderr"
        },
        {
          "output_type": "stream",
          "text": [
            "\r 1/32 [..............................] - ETA: 1:11 - loss: 0.5937 - binary_accuracy: 0.7344"
          ],
          "name": "stdout"
        },
        {
          "output_type": "stream",
          "text": [
            "/usr/local/lib/python3.7/dist-packages/PIL/Image.py:871: UserWarning: Palette images with Transparency   expressed in bytes should be converted to RGBA images\n",
            "  ' expressed in bytes should be converted ' +\n"
          ],
          "name": "stderr"
        },
        {
          "output_type": "stream",
          "text": [
            "32/32 [==============================] - 20s 637ms/step - loss: 0.6753 - binary_accuracy: 0.7094 - val_loss: 0.6939 - val_binary_accuracy: 0.7005\n",
            "Epoch 25/50\n",
            "24/32 [=====================>........] - ETA: 3s - loss: 0.6817 - binary_accuracy: 0.7057"
          ],
          "name": "stdout"
        },
        {
          "output_type": "stream",
          "text": [
            "/usr/local/lib/python3.7/dist-packages/PIL/Image.py:871: UserWarning: Palette images with Transparency   expressed in bytes should be converted to RGBA images\n",
            "  ' expressed in bytes should be converted ' +\n"
          ],
          "name": "stderr"
        },
        {
          "output_type": "stream",
          "text": [
            "31/32 [============================>.] - ETA: 0s - loss: 0.6759 - binary_accuracy: 0.7033Epoch 1/50\n",
            "32/32 [==============================] - 20s 614ms/step - loss: 0.6781 - binary_accuracy: 0.7018 - val_loss: 0.6854 - val_binary_accuracy: 0.7005\n",
            "Epoch 26/50\n",
            " 8/32 [======>.......................] - ETA: 5s - loss: 0.6600 - binary_accuracy: 0.7090"
          ],
          "name": "stdout"
        },
        {
          "output_type": "stream",
          "text": [
            "/usr/local/lib/python3.7/dist-packages/PIL/Image.py:871: UserWarning: Palette images with Transparency   expressed in bytes should be converted to RGBA images\n",
            "  ' expressed in bytes should be converted ' +\n"
          ],
          "name": "stderr"
        },
        {
          "output_type": "stream",
          "text": [
            "31/32 [============================>.] - ETA: 0s - loss: 0.6787 - binary_accuracy: 0.7137Epoch 1/50\n",
            "32/32 [==============================] - 20s 638ms/step - loss: 0.6728 - binary_accuracy: 0.7148 - val_loss: 0.6393 - val_binary_accuracy: 0.7083\n",
            "Epoch 27/50\n",
            " 9/32 [=======>......................] - ETA: 5s - loss: 0.7225 - binary_accuracy: 0.6997"
          ],
          "name": "stdout"
        },
        {
          "output_type": "stream",
          "text": [
            "/usr/local/lib/python3.7/dist-packages/PIL/Image.py:871: UserWarning: Palette images with Transparency   expressed in bytes should be converted to RGBA images\n",
            "  ' expressed in bytes should be converted ' +\n"
          ],
          "name": "stderr"
        },
        {
          "output_type": "stream",
          "text": [
            "31/32 [============================>.] - ETA: 0s - loss: 0.6829 - binary_accuracy: 0.7225Epoch 1/50\n"
          ],
          "name": "stdout"
        },
        {
          "output_type": "stream",
          "text": [
            "/usr/local/lib/python3.7/dist-packages/PIL/Image.py:871: UserWarning: Palette images with Transparency   expressed in bytes should be converted to RGBA images\n",
            "  ' expressed in bytes should be converted ' +\n"
          ],
          "name": "stderr"
        },
        {
          "output_type": "stream",
          "text": [
            "32/32 [==============================] - 21s 671ms/step - loss: 0.6771 - binary_accuracy: 0.7244 - val_loss: 0.6810 - val_binary_accuracy: 0.7057\n",
            "Epoch 28/50\n",
            "31/32 [============================>.] - ETA: 0s - loss: 0.6560 - binary_accuracy: 0.7099"
          ],
          "name": "stdout"
        },
        {
          "output_type": "stream",
          "text": [
            "/usr/local/lib/python3.7/dist-packages/PIL/Image.py:871: UserWarning: Palette images with Transparency   expressed in bytes should be converted to RGBA images\n",
            "  ' expressed in bytes should be converted ' +\n"
          ],
          "name": "stderr"
        },
        {
          "output_type": "stream",
          "text": [
            "Epoch 1/50\n",
            "32/32 [==============================] - 21s 646ms/step - loss: 0.6508 - binary_accuracy: 0.7121 - val_loss: 0.6476 - val_binary_accuracy: 0.7031\n",
            "Epoch 29/50\n",
            " 7/32 [=====>........................] - ETA: 2s - loss: 0.5498 - binary_accuracy: 0.7198"
          ],
          "name": "stdout"
        },
        {
          "output_type": "stream",
          "text": [
            "/usr/local/lib/python3.7/dist-packages/PIL/Image.py:871: UserWarning: Palette images with Transparency   expressed in bytes should be converted to RGBA images\n",
            "  ' expressed in bytes should be converted ' +\n"
          ],
          "name": "stderr"
        },
        {
          "output_type": "stream",
          "text": [
            "31/32 [============================>.] - ETA: 0s - loss: 0.6088 - binary_accuracy: 0.7139"
          ],
          "name": "stdout"
        },
        {
          "output_type": "stream",
          "text": [
            "/usr/local/lib/python3.7/dist-packages/PIL/Image.py:871: UserWarning: Palette images with Transparency   expressed in bytes should be converted to RGBA images\n",
            "  ' expressed in bytes should be converted ' +\n"
          ],
          "name": "stderr"
        },
        {
          "output_type": "stream",
          "text": [
            "Epoch 1/50\n",
            "32/32 [==============================] - 20s 622ms/step - loss: 0.6093 - binary_accuracy: 0.7151 - val_loss: 0.6954 - val_binary_accuracy: 0.6953\n",
            "Epoch 30/50\n",
            "22/32 [===================>..........] - ETA: 4s - loss: 0.6476 - binary_accuracy: 0.7269"
          ],
          "name": "stdout"
        },
        {
          "output_type": "stream",
          "text": [
            "/usr/local/lib/python3.7/dist-packages/PIL/Image.py:871: UserWarning: Palette images with Transparency   expressed in bytes should be converted to RGBA images\n",
            "  ' expressed in bytes should be converted ' +\n"
          ],
          "name": "stderr"
        },
        {
          "output_type": "stream",
          "text": [
            "31/32 [============================>.] - ETA: 0s - loss: 0.6462 - binary_accuracy: 0.7261"
          ],
          "name": "stdout"
        },
        {
          "output_type": "stream",
          "text": [
            "/usr/local/lib/python3.7/dist-packages/PIL/Image.py:871: UserWarning: Palette images with Transparency   expressed in bytes should be converted to RGBA images\n",
            "  ' expressed in bytes should be converted ' +\n"
          ],
          "name": "stderr"
        },
        {
          "output_type": "stream",
          "text": [
            "Epoch 1/50\n",
            "32/32 [==============================] - 21s 643ms/step - loss: 0.6446 - binary_accuracy: 0.7273 - val_loss: 0.6260 - val_binary_accuracy: 0.7135\n",
            "Epoch 31/50\n",
            " 6/32 [====>.........................] - ETA: 5s - loss: 0.6624 - binary_accuracy: 0.7161"
          ],
          "name": "stdout"
        },
        {
          "output_type": "stream",
          "text": [
            "/usr/local/lib/python3.7/dist-packages/PIL/Image.py:871: UserWarning: Palette images with Transparency   expressed in bytes should be converted to RGBA images\n",
            "  ' expressed in bytes should be converted ' +\n"
          ],
          "name": "stderr"
        },
        {
          "output_type": "stream",
          "text": [
            "30/32 [===========================>..] - ETA: 0s - loss: 0.6293 - binary_accuracy: 0.7190"
          ],
          "name": "stdout"
        },
        {
          "output_type": "stream",
          "text": [
            "/usr/local/lib/python3.7/dist-packages/PIL/Image.py:871: UserWarning: Palette images with Transparency   expressed in bytes should be converted to RGBA images\n",
            "  ' expressed in bytes should be converted ' +\n"
          ],
          "name": "stderr"
        },
        {
          "output_type": "stream",
          "text": [
            "31/32 [============================>.] - ETA: 0s - loss: 0.6235 - binary_accuracy: 0.7215Epoch 1/50\n",
            "32/32 [==============================] - 21s 649ms/step - loss: 0.6210 - binary_accuracy: 0.7219 - val_loss: 0.7173 - val_binary_accuracy: 0.6771\n",
            "Epoch 32/50\n",
            "31/32 [============================>.] - ETA: 0s - loss: 0.6522 - binary_accuracy: 0.7235Epoch 1/50\n",
            "32/32 [==============================] - 21s 649ms/step - loss: 0.6498 - binary_accuracy: 0.7239 - val_loss: 0.6576 - val_binary_accuracy: 0.7005\n",
            "Epoch 33/50\n",
            " 1/32 [..............................] - ETA: 6s - loss: 0.4711 - binary_accuracy: 0.7969"
          ],
          "name": "stdout"
        },
        {
          "output_type": "stream",
          "text": [
            "/usr/local/lib/python3.7/dist-packages/PIL/Image.py:871: UserWarning: Palette images with Transparency   expressed in bytes should be converted to RGBA images\n",
            "  ' expressed in bytes should be converted ' +\n"
          ],
          "name": "stderr"
        },
        {
          "output_type": "stream",
          "text": [
            "23/32 [====================>.........] - ETA: 3s - loss: 0.5985 - binary_accuracy: 0.7280"
          ],
          "name": "stdout"
        },
        {
          "output_type": "stream",
          "text": [
            "/usr/local/lib/python3.7/dist-packages/PIL/Image.py:871: UserWarning: Palette images with Transparency   expressed in bytes should be converted to RGBA images\n",
            "  ' expressed in bytes should be converted ' +\n"
          ],
          "name": "stderr"
        },
        {
          "output_type": "stream",
          "text": [
            "31/32 [============================>.] - ETA: 0s - loss: 0.5998 - binary_accuracy: 0.7230Epoch 1/50\n",
            "32/32 [==============================] - 18s 563ms/step - loss: 0.6058 - binary_accuracy: 0.7214 - val_loss: 0.7273 - val_binary_accuracy: 0.6693\n",
            "Epoch 34/50\n",
            "12/32 [==========>...................] - ETA: 8s - loss: 0.6335 - binary_accuracy: 0.7292"
          ],
          "name": "stdout"
        },
        {
          "output_type": "stream",
          "text": [
            "/usr/local/lib/python3.7/dist-packages/PIL/Image.py:871: UserWarning: Palette images with Transparency   expressed in bytes should be converted to RGBA images\n",
            "  ' expressed in bytes should be converted ' +\n"
          ],
          "name": "stderr"
        },
        {
          "output_type": "stream",
          "text": [
            "20/32 [=================>............] - ETA: 5s - loss: 0.6111 - binary_accuracy: 0.7289"
          ],
          "name": "stdout"
        },
        {
          "output_type": "stream",
          "text": [
            "/usr/local/lib/python3.7/dist-packages/PIL/Image.py:871: UserWarning: Palette images with Transparency   expressed in bytes should be converted to RGBA images\n",
            "  ' expressed in bytes should be converted ' +\n"
          ],
          "name": "stderr"
        },
        {
          "output_type": "stream",
          "text": [
            "31/32 [============================>.] - ETA: 0s - loss: 0.6130 - binary_accuracy: 0.7347Epoch 1/50\n",
            "32/32 [==============================] - 19s 579ms/step - loss: 0.6175 - binary_accuracy: 0.7332 - val_loss: 0.6963 - val_binary_accuracy: 0.6953\n",
            "Epoch 35/50\n",
            "Epoch 1/50\n",
            " 9/32 [=======>......................] - ETA: 13s - loss: 0.6333 - binary_accuracy: 0.7274"
          ],
          "name": "stdout"
        },
        {
          "output_type": "stream",
          "text": [
            "/usr/local/lib/python3.7/dist-packages/PIL/Image.py:871: UserWarning: Palette images with Transparency   expressed in bytes should be converted to RGBA images\n",
            "  ' expressed in bytes should be converted ' +\n"
          ],
          "name": "stderr"
        },
        {
          "output_type": "stream",
          "text": [
            "19/32 [================>.............] - ETA: 8s - loss: 0.6547 - binary_accuracy: 0.7204"
          ],
          "name": "stdout"
        },
        {
          "output_type": "stream",
          "text": [
            "/usr/local/lib/python3.7/dist-packages/PIL/Image.py:871: UserWarning: Palette images with Transparency   expressed in bytes should be converted to RGBA images\n",
            "  ' expressed in bytes should be converted ' +\n"
          ],
          "name": "stderr"
        },
        {
          "output_type": "stream",
          "text": [
            "31/32 [============================>.] - ETA: 0s - loss: 0.6437 - binary_accuracy: 0.7154Epoch 1/50\n",
            "32/32 [==============================] - 21s 663ms/step - loss: 0.6453 - binary_accuracy: 0.7160 - val_loss: 0.6687 - val_binary_accuracy: 0.7005\n",
            "Epoch 36/50\n",
            " 6/32 [====>.........................] - ETA: 14s - loss: 0.6306 - binary_accuracy: 0.7173"
          ],
          "name": "stdout"
        },
        {
          "output_type": "stream",
          "text": [
            "/usr/local/lib/python3.7/dist-packages/PIL/Image.py:871: UserWarning: Palette images with Transparency   expressed in bytes should be converted to RGBA images\n",
            "  ' expressed in bytes should be converted ' +\n"
          ],
          "name": "stderr"
        },
        {
          "output_type": "stream",
          "text": [
            " 9/32 [=======>......................] - ETA: 13s - loss: 0.6181 - binary_accuracy: 0.7178"
          ],
          "name": "stdout"
        },
        {
          "output_type": "stream",
          "text": [
            "/usr/local/lib/python3.7/dist-packages/PIL/Image.py:871: UserWarning: Palette images with Transparency   expressed in bytes should be converted to RGBA images\n",
            "  ' expressed in bytes should be converted ' +\n"
          ],
          "name": "stderr"
        },
        {
          "output_type": "stream",
          "text": [
            "31/32 [============================>.] - ETA: 0s - loss: 0.6035 - binary_accuracy: 0.7332Epoch 1/50\n",
            "32/32 [==============================] - 21s 655ms/step - loss: 0.5968 - binary_accuracy: 0.7357 - val_loss: 0.6778 - val_binary_accuracy: 0.7031\n",
            "Epoch 37/50\n",
            " 8/32 [======>.......................] - ETA: 14s - loss: 0.7328 - binary_accuracy: 0.6719"
          ],
          "name": "stdout"
        },
        {
          "output_type": "stream",
          "text": [
            "/usr/local/lib/python3.7/dist-packages/PIL/Image.py:871: UserWarning: Palette images with Transparency   expressed in bytes should be converted to RGBA images\n",
            "  ' expressed in bytes should be converted ' +\n"
          ],
          "name": "stderr"
        },
        {
          "output_type": "stream",
          "text": [
            "30/32 [===========================>..] - ETA: 1s - loss: 0.6127 - binary_accuracy: 0.7211"
          ],
          "name": "stdout"
        },
        {
          "output_type": "stream",
          "text": [
            "/usr/local/lib/python3.7/dist-packages/PIL/Image.py:871: UserWarning: Palette images with Transparency   expressed in bytes should be converted to RGBA images\n",
            "  ' expressed in bytes should be converted ' +\n"
          ],
          "name": "stderr"
        },
        {
          "output_type": "stream",
          "text": [
            "31/32 [============================>.] - ETA: 0s - loss: 0.6166 - binary_accuracy: 0.7205Epoch 1/50\n",
            "32/32 [==============================] - 21s 667ms/step - loss: 0.6196 - binary_accuracy: 0.7195 - val_loss: 0.6846 - val_binary_accuracy: 0.6979\n",
            "Epoch 38/50\n",
            " 8/32 [======>.......................] - ETA: 10s - loss: 0.6737 - binary_accuracy: 0.7031"
          ],
          "name": "stdout"
        },
        {
          "output_type": "stream",
          "text": [
            "/usr/local/lib/python3.7/dist-packages/PIL/Image.py:871: UserWarning: Palette images with Transparency   expressed in bytes should be converted to RGBA images\n",
            "  ' expressed in bytes should be converted ' +\n"
          ],
          "name": "stderr"
        },
        {
          "output_type": "stream",
          "text": [
            "31/32 [============================>.] - ETA: 0s - loss: 0.5892 - binary_accuracy: 0.7311Epoch 1/50\n",
            "32/32 [==============================] - 21s 651ms/step - loss: 0.5939 - binary_accuracy: 0.7288 - val_loss: 0.6699 - val_binary_accuracy: 0.6953\n",
            "Epoch 39/50\n",
            "23/32 [====================>.........] - ETA: 4s - loss: 0.5913 - binary_accuracy: 0.7283"
          ],
          "name": "stdout"
        },
        {
          "output_type": "stream",
          "text": [
            "/usr/local/lib/python3.7/dist-packages/PIL/Image.py:871: UserWarning: Palette images with Transparency   expressed in bytes should be converted to RGBA images\n",
            "  ' expressed in bytes should be converted ' +\n"
          ],
          "name": "stderr"
        },
        {
          "output_type": "stream",
          "text": [
            "29/32 [==========================>...] - ETA: 1s - loss: 0.5799 - binary_accuracy: 0.7311"
          ],
          "name": "stdout"
        },
        {
          "output_type": "stream",
          "text": [
            "/usr/local/lib/python3.7/dist-packages/PIL/Image.py:871: UserWarning: Palette images with Transparency   expressed in bytes should be converted to RGBA images\n",
            "  ' expressed in bytes should be converted ' +\n"
          ],
          "name": "stderr"
        },
        {
          "output_type": "stream",
          "text": [
            "31/32 [============================>.] - ETA: 0s - loss: 0.5846 - binary_accuracy: 0.7263Epoch 1/50\n",
            "32/32 [==============================] - 21s 660ms/step - loss: 0.5832 - binary_accuracy: 0.7266 - val_loss: 0.6964 - val_binary_accuracy: 0.6901\n",
            "Epoch 40/50\n",
            "31/32 [============================>.] - ETA: 0s - loss: 0.6248 - binary_accuracy: 0.7325Epoch 1/50\n"
          ],
          "name": "stdout"
        },
        {
          "output_type": "stream",
          "text": [
            "/usr/local/lib/python3.7/dist-packages/PIL/Image.py:871: UserWarning: Palette images with Transparency   expressed in bytes should be converted to RGBA images\n",
            "  ' expressed in bytes should be converted ' +\n",
            "/usr/local/lib/python3.7/dist-packages/PIL/Image.py:871: UserWarning: Palette images with Transparency   expressed in bytes should be converted to RGBA images\n",
            "  ' expressed in bytes should be converted ' +\n"
          ],
          "name": "stderr"
        },
        {
          "output_type": "stream",
          "text": [
            "32/32 [==============================] - 21s 664ms/step - loss: 0.6248 - binary_accuracy: 0.7320 - val_loss: 0.6922 - val_binary_accuracy: 0.6875\n",
            "Epoch 41/50\n",
            "19/32 [================>.............] - ETA: 5s - loss: 0.6183 - binary_accuracy: 0.7241"
          ],
          "name": "stdout"
        },
        {
          "output_type": "stream",
          "text": [
            "/usr/local/lib/python3.7/dist-packages/PIL/Image.py:871: UserWarning: Palette images with Transparency   expressed in bytes should be converted to RGBA images\n",
            "  ' expressed in bytes should be converted ' +\n"
          ],
          "name": "stderr"
        },
        {
          "output_type": "stream",
          "text": [
            "31/32 [============================>.] - ETA: 0s - loss: 0.5996 - binary_accuracy: 0.7347Epoch 1/50\n",
            "32/32 [==============================] - 21s 661ms/step - loss: 0.5997 - binary_accuracy: 0.7361 - val_loss: 0.6671 - val_binary_accuracy: 0.6927\n",
            "Epoch 42/50\n",
            "12/32 [==========>...................] - ETA: 6s - loss: 0.5752 - binary_accuracy: 0.7487"
          ],
          "name": "stdout"
        },
        {
          "output_type": "stream",
          "text": [
            "/usr/local/lib/python3.7/dist-packages/PIL/Image.py:871: UserWarning: Palette images with Transparency   expressed in bytes should be converted to RGBA images\n",
            "  ' expressed in bytes should be converted ' +\n"
          ],
          "name": "stderr"
        },
        {
          "output_type": "stream",
          "text": [
            "31/32 [============================>.] - ETA: 0s - loss: 0.5715 - binary_accuracy: 0.7458Epoch 1/50\n",
            "32/32 [==============================] - 20s 615ms/step - loss: 0.5720 - binary_accuracy: 0.7460 - val_loss: 0.6478 - val_binary_accuracy: 0.6927\n",
            "Epoch 43/50\n",
            "17/32 [==============>...............] - ETA: 6s - loss: 0.6639 - binary_accuracy: 0.7086"
          ],
          "name": "stdout"
        },
        {
          "output_type": "stream",
          "text": [
            "/usr/local/lib/python3.7/dist-packages/PIL/Image.py:871: UserWarning: Palette images with Transparency   expressed in bytes should be converted to RGBA images\n",
            "  ' expressed in bytes should be converted ' +\n"
          ],
          "name": "stderr"
        },
        {
          "output_type": "stream",
          "text": [
            "25/32 [======================>.......] - ETA: 3s - loss: 0.6496 - binary_accuracy: 0.7153"
          ],
          "name": "stdout"
        },
        {
          "output_type": "stream",
          "text": [
            "/usr/local/lib/python3.7/dist-packages/PIL/Image.py:871: UserWarning: Palette images with Transparency   expressed in bytes should be converted to RGBA images\n",
            "  ' expressed in bytes should be converted ' +\n"
          ],
          "name": "stderr"
        },
        {
          "output_type": "stream",
          "text": [
            "31/32 [============================>.] - ETA: 0s - loss: 0.6368 - binary_accuracy: 0.7225Epoch 1/50\n",
            "32/32 [==============================] - 21s 671ms/step - loss: 0.6345 - binary_accuracy: 0.7239 - val_loss: 0.6653 - val_binary_accuracy: 0.6823\n",
            "Epoch 44/50\n",
            "22/32 [===================>..........] - ETA: 4s - loss: 0.5323 - binary_accuracy: 0.7578"
          ],
          "name": "stdout"
        },
        {
          "output_type": "stream",
          "text": [
            "/usr/local/lib/python3.7/dist-packages/PIL/Image.py:871: UserWarning: Palette images with Transparency   expressed in bytes should be converted to RGBA images\n",
            "  ' expressed in bytes should be converted ' +\n"
          ],
          "name": "stderr"
        },
        {
          "output_type": "stream",
          "text": [
            "28/32 [=========================>....] - ETA: 1s - loss: 0.5451 - binary_accuracy: 0.7528"
          ],
          "name": "stdout"
        },
        {
          "output_type": "stream",
          "text": [
            "/usr/local/lib/python3.7/dist-packages/PIL/Image.py:871: UserWarning: Palette images with Transparency   expressed in bytes should be converted to RGBA images\n",
            "  ' expressed in bytes should be converted ' +\n"
          ],
          "name": "stderr"
        },
        {
          "output_type": "stream",
          "text": [
            "31/32 [============================>.] - ETA: 0s - loss: 0.5485 - binary_accuracy: 0.7490Epoch 1/50\n",
            "32/32 [==============================] - 21s 649ms/step - loss: 0.5507 - binary_accuracy: 0.7471 - val_loss: 0.6758 - val_binary_accuracy: 0.6901\n",
            "Epoch 45/50\n",
            "25/32 [======================>.......] - ETA: 3s - loss: 0.5913 - binary_accuracy: 0.7423"
          ],
          "name": "stdout"
        },
        {
          "output_type": "stream",
          "text": [
            "/usr/local/lib/python3.7/dist-packages/PIL/Image.py:871: UserWarning: Palette images with Transparency   expressed in bytes should be converted to RGBA images\n",
            "  ' expressed in bytes should be converted ' +\n"
          ],
          "name": "stderr"
        },
        {
          "output_type": "stream",
          "text": [
            "31/32 [============================>.] - ETA: 0s - loss: 0.5819 - binary_accuracy: 0.7418Epoch 1/50\n",
            "32/32 [==============================] - 20s 635ms/step - loss: 0.5795 - binary_accuracy: 0.7435 - val_loss: 0.6383 - val_binary_accuracy: 0.7005\n",
            "Epoch 46/50\n",
            "20/32 [=================>............] - ETA: 4s - loss: 0.5893 - binary_accuracy: 0.7349"
          ],
          "name": "stdout"
        },
        {
          "output_type": "stream",
          "text": [
            "/usr/local/lib/python3.7/dist-packages/PIL/Image.py:871: UserWarning: Palette images with Transparency   expressed in bytes should be converted to RGBA images\n",
            "  ' expressed in bytes should be converted ' +\n"
          ],
          "name": "stderr"
        },
        {
          "output_type": "stream",
          "text": [
            "31/32 [============================>.] - ETA: 0s - loss: 0.5830 - binary_accuracy: 0.7433Epoch 1/50\n"
          ],
          "name": "stdout"
        },
        {
          "output_type": "stream",
          "text": [
            "/usr/local/lib/python3.7/dist-packages/PIL/Image.py:871: UserWarning: Palette images with Transparency   expressed in bytes should be converted to RGBA images\n",
            "  ' expressed in bytes should be converted ' +\n"
          ],
          "name": "stderr"
        },
        {
          "output_type": "stream",
          "text": [
            "32/32 [==============================] - 20s 627ms/step - loss: 0.5845 - binary_accuracy: 0.7430 - val_loss: 0.6644 - val_binary_accuracy: 0.6771\n",
            "Epoch 47/50\n",
            "13/32 [===========>..................] - ETA: 6s - loss: 0.5881 - binary_accuracy: 0.7400"
          ],
          "name": "stdout"
        },
        {
          "output_type": "stream",
          "text": [
            "/usr/local/lib/python3.7/dist-packages/PIL/Image.py:871: UserWarning: Palette images with Transparency   expressed in bytes should be converted to RGBA images\n",
            "  ' expressed in bytes should be converted ' +\n",
            "/usr/local/lib/python3.7/dist-packages/PIL/Image.py:871: UserWarning: Palette images with Transparency   expressed in bytes should be converted to RGBA images\n",
            "  ' expressed in bytes should be converted ' +\n"
          ],
          "name": "stderr"
        },
        {
          "output_type": "stream",
          "text": [
            "31/32 [============================>.] - ETA: 0s - loss: 0.5916 - binary_accuracy: 0.7230Epoch 1/50\n",
            "32/32 [==============================] - 21s 648ms/step - loss: 0.5922 - binary_accuracy: 0.7234 - val_loss: 0.6989 - val_binary_accuracy: 0.6693\n",
            "Epoch 48/50\n",
            "14/32 [============>.................] - ETA: 5s - loss: 0.5867 - binary_accuracy: 0.7407"
          ],
          "name": "stdout"
        },
        {
          "output_type": "stream",
          "text": [
            "/usr/local/lib/python3.7/dist-packages/PIL/Image.py:871: UserWarning: Palette images with Transparency   expressed in bytes should be converted to RGBA images\n",
            "  ' expressed in bytes should be converted ' +\n"
          ],
          "name": "stderr"
        },
        {
          "output_type": "stream",
          "text": [
            "31/32 [============================>.] - ETA: 0s - loss: 0.5993 - binary_accuracy: 0.7370Epoch 1/50\n",
            "32/32 [==============================] - 21s 653ms/step - loss: 0.6006 - binary_accuracy: 0.7365 - val_loss: 0.6725 - val_binary_accuracy: 0.6745\n",
            "Epoch 49/50\n",
            "15/32 [=============>................] - ETA: 5s - loss: 0.5890 - binary_accuracy: 0.7375"
          ],
          "name": "stdout"
        },
        {
          "output_type": "stream",
          "text": [
            "/usr/local/lib/python3.7/dist-packages/PIL/Image.py:871: UserWarning: Palette images with Transparency   expressed in bytes should be converted to RGBA images\n",
            "  ' expressed in bytes should be converted ' +\n"
          ],
          "name": "stderr"
        },
        {
          "output_type": "stream",
          "text": [
            "31/32 [============================>.] - ETA: 0s - loss: 0.5838 - binary_accuracy: 0.7362Epoch 1/50\n",
            "32/32 [==============================] - 20s 639ms/step - loss: 0.5842 - binary_accuracy: 0.7371 - val_loss: 0.7042 - val_binary_accuracy: 0.6589\n",
            "Epoch 50/50\n",
            "16/32 [==============>...............] - ETA: 5s - loss: 0.5687 - binary_accuracy: 0.7490"
          ],
          "name": "stdout"
        },
        {
          "output_type": "stream",
          "text": [
            "/usr/local/lib/python3.7/dist-packages/PIL/Image.py:871: UserWarning: Palette images with Transparency   expressed in bytes should be converted to RGBA images\n",
            "  ' expressed in bytes should be converted ' +\n"
          ],
          "name": "stderr"
        },
        {
          "output_type": "stream",
          "text": [
            "31/32 [============================>.] - ETA: 0s - loss: 0.5483 - binary_accuracy: 0.7571Epoch 1/50\n",
            "32/32 [==============================] - 20s 637ms/step - loss: 0.5427 - binary_accuracy: 0.7583 - val_loss: 0.6999 - val_binary_accuracy: 0.6667\n"
          ],
          "name": "stdout"
        }
      ]
    },
    {
      "cell_type": "code",
      "metadata": {
        "colab": {
          "base_uri": "https://localhost:8080/",
          "height": 545
        },
        "id": "uWY8SmY01Ows",
        "outputId": "56f015ef-29b5-4119-c2b1-0cd6a6468980"
      },
      "source": [
        "acc = history.history['acc']\n",
        "val_acc = history.history['val_acc']\n",
        "loss = history.history['loss']\n",
        "val_loss = history.history['val_loss']\n",
        "\n",
        "epochs_x = range(len(acc))\n",
        "\n",
        "plt.plot(epochs_x, acc, 'bo', label='Training acc')\n",
        "plt.plot(epochs_x, val_acc, 'b', label='Validation acc')\n",
        "plt.title('Training and validation accuracy')\n",
        "plt.legend()\n",
        "\n",
        "plt.figure()\n",
        "\n",
        "plt.plot(epochs_x, loss, 'bo', label='Training loss')\n",
        "plt.plot(epochs_x, val_loss, 'b', label='Validation loss')\n",
        "plt.title('Training and validation loss')\n",
        "plt.legend()\n",
        "\n",
        "plt.show()"
      ],
      "execution_count": null,
      "outputs": [
        {
          "output_type": "display_data",
          "data": {
            "image/png": "[encoded data removed]",
            "text/plain": [
              "<Figure size 432x288 with 1 Axes>"
            ]
          },
          "metadata": {
            "tags": [],
            "needs_background": "light"
          }
        },
        {
          "output_type": "display_data",
          "data": {
            "image/png": "[encoded data removed]",
            "text/plain": [
              "<Figure size 432x288 with 1 Axes>"
            ]
          },
          "metadata": {
            "tags": [],
            "needs_background": "light"
          }
        }
      ]
    },
    {
      "cell_type": "markdown",
      "metadata": {
        "id": "41L3xBnt1a-p"
      },
      "source": [
        "### **Fine Tuning last Multiply Layer**"
      ]
    },
    {
      "cell_type": "code",
      "metadata": {
        "colab": {
          "base_uri": "https://localhost:8080/"
        },
        "id": "MtK3uD9J1Pyx",
        "outputId": "add97c42-ee3c-46d1-de9a-e65c360e065e"
      },
      "source": [
        "conv_base.trainable = True\n",
        "\n",
        "set_trainable = False\n",
        "for layer in conv_base.layers:\n",
        "    if layer.name == 'multiply_15':\n",
        "        set_trainable = True\n",
        "        print('yay')\n",
        "    if set_trainable:\n",
        "        layer.trainable = True\n",
        "    else:\n",
        "        layer.trainable = False"
      ],
      "execution_count": null,
      "outputs": [
        {
          "output_type": "stream",
          "text": [
            "yay\n"
          ],
          "name": "stdout"
        }
      ]
    },
    {
      "cell_type": "code",
      "metadata": {
        "colab": {
          "base_uri": "https://localhost:8080/"
        },
        "id": "HjNtUCMf4Gzj",
        "outputId": "054cdc40-d533-4b42-cf91-7d056ff1d109"
      },
      "source": [
        "# Printing out the layers \n",
        "for (i,layer) in enumerate(conv_base.layers):\n",
        "    print(str(i) + \" \"+ layer.__class__.__name__, layer.name, layer.trainable)"
      ],
      "execution_count": null,
      "outputs": [
        {
          "output_type": "stream",
          "text": [
            "0 InputLayer input_1 False\n",
            "1 Conv2D conv2d False\n",
            "2 BatchNormalization batch_normalization False\n",
            "3 Swish swish False\n",
            "4 DepthwiseConv2D depthwise_conv2d False\n",
            "5 BatchNormalization batch_normalization_1 False\n",
            "6 Swish swish_1 False\n",
            "7 Lambda lambda False\n",
            "8 Conv2D conv2d_1 False\n",
            "9 Swish swish_2 False\n",
            "10 Conv2D conv2d_2 False\n",
            "11 Activation activation False\n",
            "12 Multiply multiply False\n",
            "13 Conv2D conv2d_3 False\n",
            "14 BatchNormalization batch_normalization_2 False\n",
            "15 Conv2D conv2d_4 False\n",
            "16 BatchNormalization batch_normalization_3 False\n",
            "17 Swish swish_3 False\n",
            "18 DepthwiseConv2D depthwise_conv2d_1 False\n",
            "19 BatchNormalization batch_normalization_4 False\n",
            "20 Swish swish_4 False\n",
            "21 Lambda lambda_1 False\n",
            "22 Conv2D conv2d_5 False\n",
            "23 Swish swish_5 False\n",
            "24 Conv2D conv2d_6 False\n",
            "25 Activation activation_1 False\n",
            "26 Multiply multiply_1 False\n",
            "27 Conv2D conv2d_7 False\n",
            "28 BatchNormalization batch_normalization_5 False\n",
            "29 Conv2D conv2d_8 False\n",
            "30 BatchNormalization batch_normalization_6 False\n",
            "31 Swish swish_6 False\n",
            "32 DepthwiseConv2D depthwise_conv2d_2 False\n",
            "33 BatchNormalization batch_normalization_7 False\n",
            "34 Swish swish_7 False\n",
            "35 Lambda lambda_2 False\n",
            "36 Conv2D conv2d_9 False\n",
            "37 Swish swish_8 False\n",
            "38 Conv2D conv2d_10 False\n",
            "39 Activation activation_2 False\n",
            "40 Multiply multiply_2 False\n",
            "41 Conv2D conv2d_11 False\n",
            "42 BatchNormalization batch_normalization_8 False\n",
            "43 DropConnect drop_connect False\n",
            "44 Add add False\n",
            "45 Conv2D conv2d_12 False\n",
            "46 BatchNormalization batch_normalization_9 False\n",
            "47 Swish swish_9 False\n",
            "48 DepthwiseConv2D depthwise_conv2d_3 False\n",
            "49 BatchNormalization batch_normalization_10 False\n",
            "50 Swish swish_10 False\n",
            "51 Lambda lambda_3 False\n",
            "52 Conv2D conv2d_13 False\n",
            "53 Swish swish_11 False\n",
            "54 Conv2D conv2d_14 False\n",
            "55 Activation activation_3 False\n",
            "56 Multiply multiply_3 False\n",
            "57 Conv2D conv2d_15 False\n",
            "58 BatchNormalization batch_normalization_11 False\n",
            "59 Conv2D conv2d_16 False\n",
            "60 BatchNormalization batch_normalization_12 False\n",
            "61 Swish swish_12 False\n",
            "62 DepthwiseConv2D depthwise_conv2d_4 False\n",
            "63 BatchNormalization batch_normalization_13 False\n",
            "64 Swish swish_13 False\n",
            "65 Lambda lambda_4 False\n",
            "66 Conv2D conv2d_17 False\n",
            "67 Swish swish_14 False\n",
            "68 Conv2D conv2d_18 False\n",
            "69 Activation activation_4 False\n",
            "70 Multiply multiply_4 False\n",
            "71 Conv2D conv2d_19 False\n",
            "72 BatchNormalization batch_normalization_14 False\n",
            "73 DropConnect drop_connect_1 False\n",
            "74 Add add_1 False\n",
            "75 Conv2D conv2d_20 False\n",
            "76 BatchNormalization batch_normalization_15 False\n",
            "77 Swish swish_15 False\n",
            "78 DepthwiseConv2D depthwise_conv2d_5 False\n",
            "79 BatchNormalization batch_normalization_16 False\n",
            "80 Swish swish_16 False\n",
            "81 Lambda lambda_5 False\n",
            "82 Conv2D conv2d_21 False\n",
            "83 Swish swish_17 False\n",
            "84 Conv2D conv2d_22 False\n",
            "85 Activation activation_5 False\n",
            "86 Multiply multiply_5 False\n",
            "87 Conv2D conv2d_23 False\n",
            "88 BatchNormalization batch_normalization_17 False\n",
            "89 Conv2D conv2d_24 False\n",
            "90 BatchNormalization batch_normalization_18 False\n",
            "91 Swish swish_18 False\n",
            "92 DepthwiseConv2D depthwise_conv2d_6 False\n",
            "93 BatchNormalization batch_normalization_19 False\n",
            "94 Swish swish_19 False\n",
            "95 Lambda lambda_6 False\n",
            "96 Conv2D conv2d_25 False\n",
            "97 Swish swish_20 False\n",
            "98 Conv2D conv2d_26 False\n",
            "99 Activation activation_6 False\n",
            "100 Multiply multiply_6 False\n",
            "101 Conv2D conv2d_27 False\n",
            "102 BatchNormalization batch_normalization_20 False\n",
            "103 DropConnect drop_connect_2 False\n",
            "104 Add add_2 False\n",
            "105 Conv2D conv2d_28 False\n",
            "106 BatchNormalization batch_normalization_21 False\n",
            "107 Swish swish_21 False\n",
            "108 DepthwiseConv2D depthwise_conv2d_7 False\n",
            "109 BatchNormalization batch_normalization_22 False\n",
            "110 Swish swish_22 False\n",
            "111 Lambda lambda_7 False\n",
            "112 Conv2D conv2d_29 False\n",
            "113 Swish swish_23 False\n",
            "114 Conv2D conv2d_30 False\n",
            "115 Activation activation_7 False\n",
            "116 Multiply multiply_7 False\n",
            "117 Conv2D conv2d_31 False\n",
            "118 BatchNormalization batch_normalization_23 False\n",
            "119 DropConnect drop_connect_3 False\n",
            "120 Add add_3 False\n",
            "121 Conv2D conv2d_32 False\n",
            "122 BatchNormalization batch_normalization_24 False\n",
            "123 Swish swish_24 False\n",
            "124 DepthwiseConv2D depthwise_conv2d_8 False\n",
            "125 BatchNormalization batch_normalization_25 False\n",
            "126 Swish swish_25 False\n",
            "127 Lambda lambda_8 False\n",
            "128 Conv2D conv2d_33 False\n",
            "129 Swish swish_26 False\n",
            "130 Conv2D conv2d_34 False\n",
            "131 Activation activation_8 False\n",
            "132 Multiply multiply_8 False\n",
            "133 Conv2D conv2d_35 False\n",
            "134 BatchNormalization batch_normalization_26 False\n",
            "135 Conv2D conv2d_36 False\n",
            "136 BatchNormalization batch_normalization_27 False\n",
            "137 Swish swish_27 False\n",
            "138 DepthwiseConv2D depthwise_conv2d_9 False\n",
            "139 BatchNormalization batch_normalization_28 False\n",
            "140 Swish swish_28 False\n",
            "141 Lambda lambda_9 False\n",
            "142 Conv2D conv2d_37 False\n",
            "143 Swish swish_29 False\n",
            "144 Conv2D conv2d_38 False\n",
            "145 Activation activation_9 False\n",
            "146 Multiply multiply_9 False\n",
            "147 Conv2D conv2d_39 False\n",
            "148 BatchNormalization batch_normalization_29 False\n",
            "149 DropConnect drop_connect_4 False\n",
            "150 Add add_4 False\n",
            "151 Conv2D conv2d_40 False\n",
            "152 BatchNormalization batch_normalization_30 False\n",
            "153 Swish swish_30 False\n",
            "154 DepthwiseConv2D depthwise_conv2d_10 False\n",
            "155 BatchNormalization batch_normalization_31 False\n",
            "156 Swish swish_31 False\n",
            "157 Lambda lambda_10 False\n",
            "158 Conv2D conv2d_41 False\n",
            "159 Swish swish_32 False\n",
            "160 Conv2D conv2d_42 False\n",
            "161 Activation activation_10 False\n",
            "162 Multiply multiply_10 False\n",
            "163 Conv2D conv2d_43 False\n",
            "164 BatchNormalization batch_normalization_32 False\n",
            "165 DropConnect drop_connect_5 False\n",
            "166 Add add_5 False\n",
            "167 Conv2D conv2d_44 False\n",
            "168 BatchNormalization batch_normalization_33 False\n",
            "169 Swish swish_33 False\n",
            "170 DepthwiseConv2D depthwise_conv2d_11 False\n",
            "171 BatchNormalization batch_normalization_34 False\n",
            "172 Swish swish_34 False\n",
            "173 Lambda lambda_11 False\n",
            "174 Conv2D conv2d_45 False\n",
            "175 Swish swish_35 False\n",
            "176 Conv2D conv2d_46 False\n",
            "177 Activation activation_11 False\n",
            "178 Multiply multiply_11 False\n",
            "179 Conv2D conv2d_47 False\n",
            "180 BatchNormalization batch_normalization_35 False\n",
            "181 Conv2D conv2d_48 False\n",
            "182 BatchNormalization batch_normalization_36 False\n",
            "183 Swish swish_36 False\n",
            "184 DepthwiseConv2D depthwise_conv2d_12 False\n",
            "185 BatchNormalization batch_normalization_37 False\n",
            "186 Swish swish_37 False\n",
            "187 Lambda lambda_12 False\n",
            "188 Conv2D conv2d_49 False\n",
            "189 Swish swish_38 False\n",
            "190 Conv2D conv2d_50 False\n",
            "191 Activation activation_12 False\n",
            "192 Multiply multiply_12 False\n",
            "193 Conv2D conv2d_51 False\n",
            "194 BatchNormalization batch_normalization_38 False\n",
            "195 DropConnect drop_connect_6 False\n",
            "196 Add add_6 False\n",
            "197 Conv2D conv2d_52 False\n",
            "198 BatchNormalization batch_normalization_39 False\n",
            "199 Swish swish_39 False\n",
            "200 DepthwiseConv2D depthwise_conv2d_13 False\n",
            "201 BatchNormalization batch_normalization_40 False\n",
            "202 Swish swish_40 False\n",
            "203 Lambda lambda_13 False\n",
            "204 Conv2D conv2d_53 False\n",
            "205 Swish swish_41 False\n",
            "206 Conv2D conv2d_54 False\n",
            "207 Activation activation_13 False\n",
            "208 Multiply multiply_13 False\n",
            "209 Conv2D conv2d_55 False\n",
            "210 BatchNormalization batch_normalization_41 False\n",
            "211 DropConnect drop_connect_7 False\n",
            "212 Add add_7 False\n",
            "213 Conv2D conv2d_56 False\n",
            "214 BatchNormalization batch_normalization_42 False\n",
            "215 Swish swish_42 False\n",
            "216 DepthwiseConv2D depthwise_conv2d_14 False\n",
            "217 BatchNormalization batch_normalization_43 False\n",
            "218 Swish swish_43 False\n",
            "219 Lambda lambda_14 False\n",
            "220 Conv2D conv2d_57 False\n",
            "221 Swish swish_44 False\n",
            "222 Conv2D conv2d_58 False\n",
            "223 Activation activation_14 False\n",
            "224 Multiply multiply_14 False\n",
            "225 Conv2D conv2d_59 False\n",
            "226 BatchNormalization batch_normalization_44 False\n",
            "227 DropConnect drop_connect_8 False\n",
            "228 Add add_8 False\n",
            "229 Conv2D conv2d_60 False\n",
            "230 BatchNormalization batch_normalization_45 False\n",
            "231 Swish swish_45 False\n",
            "232 DepthwiseConv2D depthwise_conv2d_15 False\n",
            "233 BatchNormalization batch_normalization_46 False\n",
            "234 Swish swish_46 False\n",
            "235 Lambda lambda_15 False\n",
            "236 Conv2D conv2d_61 False\n",
            "237 Swish swish_47 False\n",
            "238 Conv2D conv2d_62 False\n",
            "239 Activation activation_15 False\n",
            "240 Multiply multiply_15 True\n",
            "241 Conv2D conv2d_63 True\n",
            "242 BatchNormalization batch_normalization_47 True\n",
            "243 Conv2D conv2d_64 True\n",
            "244 BatchNormalization batch_normalization_48 True\n",
            "245 Swish swish_48 True\n"
          ],
          "name": "stdout"
        }
      ]
    },
    {
      "cell_type": "code",
      "metadata": {
        "id": "NAJaSlxC16CE"
      },
      "source": [
        "from tensorflow.keras.callbacks import ModelCheckpoint\n",
        "\n",
        "path = \"/content/drive/MyDrive/Trained Models/Face/EfficientNetB0_New2.h5\"\n",
        "\n",
        "checkpoint = ModelCheckpoint(path,\n",
        "                             monitor=\"val_loss\",\n",
        "                             mode=\"min\",\n",
        "                             save_best_only = True,\n",
        "                             verbose=1)\n",
        "\n",
        "callbacks = [checkpoint]"
      ],
      "execution_count": null,
      "outputs": []
    },
    {
      "cell_type": "markdown",
      "metadata": {
        "id": "2M2vZq8s77sr"
      },
      "source": [
        "###**Fine Tune Training**"
      ]
    },
    {
      "cell_type": "code",
      "metadata": {
        "id": "eioQ_n131hxf"
      },
      "source": [
        "model.compile(loss='binary_crossentropy',\n",
        "              optimizer=optimizers.RMSprop(lr=0.0001),\n",
        "              metrics=['acc'])\n",
        "\n",
        "history = model.fit_generator(\n",
        "      train_generator,\n",
        "      steps_per_epoch= NUM_TRAIN //batch_size,\n",
        "      epochs=epochs,\n",
        "      validation_data=validation_generator,\n",
        "      validation_steps= NUM_TEST //batch_size,\n",
        "      verbose=1,\n",
        "      use_multiprocessing=True,\n",
        "      workers=4)"
      ],
      "execution_count": null,
      "outputs": []
    },
    {
      "cell_type": "code",
      "metadata": {
        "id": "iBmOipOu1n8X"
      },
      "source": [
        "model.save(path)"
      ],
      "execution_count": null,
      "outputs": []
    },
    {
      "cell_type": "code",
      "metadata": {
        "colab": {
          "base_uri": "https://localhost:8080/",
          "height": 545
        },
        "id": "MWh5uY-W2NPY",
        "outputId": "679ae7db-03bf-4a90-8926-181084a159aa"
      },
      "source": [
        "acc = history.history['acc']\n",
        "val_acc = history.history['val_acc']\n",
        "loss = history.history['loss']\n",
        "val_loss = history.history['val_loss']\n",
        "\n",
        "epochs_x = range(len(acc))\n",
        "\n",
        "plt.plot(epochs_x, acc, 'bo', label='Training acc')\n",
        "plt.plot(epochs_x, val_acc, 'b', label='Validation acc')\n",
        "plt.title('Training and validation accuracy')\n",
        "plt.legend()\n",
        "\n",
        "plt.figure()\n",
        "\n",
        "plt.plot(epochs_x, loss, 'bo', label='Training loss')\n",
        "plt.plot(epochs_x, val_loss, 'b', label='Validation loss')\n",
        "plt.title('Training and validation loss')\n",
        "plt.legend()\n",
        "\n",
        "plt.show()"
      ],
      "execution_count": null,
      "outputs": [
        {
          "output_type": "display_data",
          "data": {
            "image/png": "[encoded data removed]",
            "text/plain": [
              "<Figure size 432x288 with 1 Axes>"
            ]
          },
          "metadata": {
            "tags": [],
            "needs_background": "light"
          }
        },
        {
          "output_type": "display_data",
          "data": {
            "image/png": "[encoded data removed]",
            "text/plain": [
              "<Figure size 432x288 with 1 Axes>"
            ]
          },
          "metadata": {
            "tags": [],
            "needs_background": "light"
          }
        }
      ]
    },
    {
      "cell_type": "markdown",
      "metadata": {
        "id": "WHjUGccKfWNW"
      },
      "source": [
        "## **Report**"
      ]
    },
    {
      "cell_type": "code",
      "metadata": {
        "colab": {
          "base_uri": "https://localhost:8080/"
        },
        "id": "VUnzPWXDLNJ1",
        "outputId": "199a53a5-1960-4fa0-8050-ce3d633ecd2c"
      },
      "source": [
        "%tensorflow_version 1.x"
      ],
      "execution_count": null,
      "outputs": [
        {
          "output_type": "stream",
          "text": [
            "TensorFlow 1.x selected.\n"
          ],
          "name": "stdout"
        }
      ]
    },
    {
      "cell_type": "code",
      "metadata": {
        "colab": {
          "base_uri": "https://localhost:8080/",
          "height": 436
        },
        "id": "ldFeKv8DLZbJ",
        "outputId": "56182e3b-d83e-4a98-963d-d79166d188c8"
      },
      "source": [
        "!pip uninstall h5py\n",
        "!pip install h5py==2.10.0"
      ],
      "execution_count": null,
      "outputs": [
        {
          "output_type": "stream",
          "text": [
            "Uninstalling h5py-3.1.0:\n",
            "  Would remove:\n",
            "    /usr/local/lib/python3.7/dist-packages/h5py-3.1.0.dist-info/*\n",
            "    /usr/local/lib/python3.7/dist-packages/h5py.libs/libaec-9c9e97eb.so.0.0.10\n",
            "    /usr/local/lib/python3.7/dist-packages/h5py.libs/libhdf5-00e8fae8.so.200.0.0\n",
            "    /usr/local/lib/python3.7/dist-packages/h5py.libs/libhdf5_hl-383c339f.so.200.0.0\n",
            "    /usr/local/lib/python3.7/dist-packages/h5py.libs/libsz-e7aa62f5.so.2.0.1\n",
            "    /usr/local/lib/python3.7/dist-packages/h5py.libs/libz-eb09ad1d.so.1.2.3\n",
            "    /usr/local/lib/python3.7/dist-packages/h5py/*\n",
            "Proceed (y/n)? y\n",
            "  Successfully uninstalled h5py-3.1.0\n",
            "Collecting h5py==2.10.0\n",
            "\u001b[?25l  Downloading https://files.pythonhosted.org/packages/3f/c0/abde58b837e066bca19a3f7332d9d0493521d7dd6b48248451a9e3fe2214/h5py-2.10.0-cp37-cp37m-manylinux1_x86_64.whl (2.9MB)\n",
            "\u001b[K     |████████████████████████████████| 2.9MB 7.6MB/s \n",
            "\u001b[?25hRequirement already satisfied: numpy>=1.7 in /usr/local/lib/python3.7/dist-packages (from h5py==2.10.0) (1.19.5)\n",
            "Requirement already satisfied: six in /usr/local/lib/python3.7/dist-packages (from h5py==2.10.0) (1.15.0)\n",
            "Installing collected packages: h5py\n",
            "Successfully installed h5py-2.10.0\n"
          ],
          "name": "stdout"
        },
        {
          "output_type": "display_data",
          "data": {
            "application/vnd.colab-display-data+json": {
              "pip_warning": {
                "packages": [
                  "h5py"
                ]
              }
            }
          },
          "metadata": {
            "tags": []
          }
        }
      ]
    },
    {
      "cell_type": "code",
      "metadata": {
        "colab": {
          "base_uri": "https://localhost:8080/"
        },
        "id": "SSB1n1nPMR2h",
        "outputId": "473cbb6d-d8e0-47c0-accc-b363e9a2e8b9"
      },
      "source": [
        "!pip install keras_efficientnets"
      ],
      "execution_count": null,
      "outputs": [
        {
          "output_type": "stream",
          "text": [
            "Collecting keras_efficientnets\n",
            "  Downloading https://files.pythonhosted.org/packages/3a/41/4dce4e88042b4934003b2b51cfb6a99fc446d375d5fc1ffb2fdf8e069d36/keras_efficientnets-0.1.7-py2.py3-none-any.whl\n",
            "Requirement already satisfied: keras>=2.2.4 in /tensorflow-1.15.2/python3.7 (from keras_efficientnets) (2.3.1)\n",
            "Requirement already satisfied: scikit-learn>=0.21.2 in /usr/local/lib/python3.7/dist-packages (from keras_efficientnets) (0.22.2.post1)\n",
            "Requirement already satisfied: scipy>=1.1.0 in /usr/local/lib/python3.7/dist-packages (from keras_efficientnets) (1.4.1)\n",
            "Requirement already satisfied: keras-preprocessing>=1.0.5 in /usr/local/lib/python3.7/dist-packages (from keras>=2.2.4->keras_efficientnets) (1.1.2)\n",
            "Requirement already satisfied: numpy>=1.9.1 in /usr/local/lib/python3.7/dist-packages (from keras>=2.2.4->keras_efficientnets) (1.19.5)\n",
            "Requirement already satisfied: six>=1.9.0 in /usr/local/lib/python3.7/dist-packages (from keras>=2.2.4->keras_efficientnets) (1.15.0)\n",
            "Requirement already satisfied: pyyaml in /usr/local/lib/python3.7/dist-packages (from keras>=2.2.4->keras_efficientnets) (3.13)\n",
            "Requirement already satisfied: keras-applications>=1.0.6 in /tensorflow-1.15.2/python3.7 (from keras>=2.2.4->keras_efficientnets) (1.0.8)\n",
            "Requirement already satisfied: h5py in /usr/local/lib/python3.7/dist-packages (from keras>=2.2.4->keras_efficientnets) (2.10.0)\n",
            "Requirement already satisfied: joblib>=0.11 in /usr/local/lib/python3.7/dist-packages (from scikit-learn>=0.21.2->keras_efficientnets) (1.0.1)\n",
            "Installing collected packages: keras-efficientnets\n",
            "Successfully installed keras-efficientnets-0.1.7\n"
          ],
          "name": "stdout"
        }
      ]
    },
    {
      "cell_type": "code",
      "metadata": {
        "id": "Ut18CEzM2TO8",
        "colab": {
          "base_uri": "https://localhost:8080/",
          "height": 415
        },
        "outputId": "617a9606-2f28-4476-acd8-abb5625e9f15"
      },
      "source": [
        "import numpy\n",
        "from tensorflow.keras.preprocessing.image import ImageDataGenerator\n",
        "from tensorflow.keras.models import load_model\n",
        "from keras_efficientnets import custom_objects\n",
        "\n",
        "# print(custom_objects.get_custom_objects())\n",
        "\n",
        "model = load_model('/content/drive/MyDrive/Trained Models/Face/EfNetB0 tryat1830 3rdMarch.h5')\n",
        "\n",
        "test_generator = ImageDataGenerator()\n",
        "test_data_generator = test_generator.flow_from_directory(\n",
        "    '/content/drive/MyDrive/Sleepy or Awake Faces - Dataset/validation',\n",
        "    target_size=(150, 150),\n",
        "    batch_size=32,\n",
        "    shuffle=False)\n",
        "test_steps_per_epoch = numpy.math.ceil(test_data_generator.samples / test_data_generator.batch_size)\n",
        "\n",
        "predictions = model.predict_generator(test_data_generator, steps=test_steps_per_epoch)\n",
        "# Get most likely class\n",
        "# predicted_classes = numpy.argmax(predictions, axis=1)\n",
        "\n",
        "print(predictions)"
      ],
      "execution_count": null,
      "outputs": [
        {
          "output_type": "error",
          "ename": "ValueError",
          "evalue": "ignored",
          "traceback": [
            "\u001b[0;31m---------------------------------------------------------------------------\u001b[0m",
            "\u001b[0;31mValueError\u001b[0m                                Traceback (most recent call last)",
            "\u001b[0;32m<ipython-input-21-06b447362ffe>\u001b[0m in \u001b[0;36m<module>\u001b[0;34m()\u001b[0m\n\u001b[1;32m      6\u001b[0m \u001b[0;31m# print(custom_objects.get_custom_objects())\u001b[0m\u001b[0;34m\u001b[0m\u001b[0;34m\u001b[0m\u001b[0;34m\u001b[0m\u001b[0m\n\u001b[1;32m      7\u001b[0m \u001b[0;34m\u001b[0m\u001b[0m\n\u001b[0;32m----> 8\u001b[0;31m \u001b[0mmodel\u001b[0m \u001b[0;34m=\u001b[0m \u001b[0mload_model\u001b[0m\u001b[0;34m(\u001b[0m\u001b[0;34m'/content/drive/MyDrive/Trained Models/Face/EfNetB0 tryat1830 3rdMarch.h5'\u001b[0m\u001b[0;34m,\u001b[0m \u001b[0mcustom_objects\u001b[0m\u001b[0;34m=\u001b[0m\u001b[0mcustom_objects\u001b[0m\u001b[0;34m.\u001b[0m\u001b[0mget_custom_objects\u001b[0m\u001b[0;34m(\u001b[0m\u001b[0;34m)\u001b[0m\u001b[0;34m)\u001b[0m\u001b[0;34m\u001b[0m\u001b[0;34m\u001b[0m\u001b[0m\n\u001b[0m\u001b[1;32m      9\u001b[0m \u001b[0;34m\u001b[0m\u001b[0m\n\u001b[1;32m     10\u001b[0m \u001b[0mtest_generator\u001b[0m \u001b[0;34m=\u001b[0m \u001b[0mImageDataGenerator\u001b[0m\u001b[0;34m(\u001b[0m\u001b[0;34m)\u001b[0m\u001b[0;34m\u001b[0m\u001b[0;34m\u001b[0m\u001b[0m\n",
            "\u001b[0;32m/tensorflow-1.15.2/python3.7/tensorflow_core/python/keras/saving/save.py\u001b[0m in \u001b[0;36mload_model\u001b[0;34m(filepath, custom_objects, compile)\u001b[0m\n\u001b[1;32m    141\u001b[0m   if (h5py is not None and (\n\u001b[1;32m    142\u001b[0m       isinstance(filepath, h5py.File) or h5py.is_hdf5(filepath))):\n\u001b[0;32m--> 143\u001b[0;31m     \u001b[0;32mreturn\u001b[0m \u001b[0mhdf5_format\u001b[0m\u001b[0;34m.\u001b[0m\u001b[0mload_model_from_hdf5\u001b[0m\u001b[0;34m(\u001b[0m\u001b[0mfilepath\u001b[0m\u001b[0;34m,\u001b[0m \u001b[0mcustom_objects\u001b[0m\u001b[0;34m,\u001b[0m \u001b[0mcompile\u001b[0m\u001b[0;34m)\u001b[0m\u001b[0;34m\u001b[0m\u001b[0;34m\u001b[0m\u001b[0m\n\u001b[0m\u001b[1;32m    144\u001b[0m \u001b[0;34m\u001b[0m\u001b[0m\n\u001b[1;32m    145\u001b[0m   \u001b[0;32mif\u001b[0m \u001b[0misinstance\u001b[0m\u001b[0;34m(\u001b[0m\u001b[0mfilepath\u001b[0m\u001b[0;34m,\u001b[0m \u001b[0msix\u001b[0m\u001b[0;34m.\u001b[0m\u001b[0mstring_types\u001b[0m\u001b[0;34m)\u001b[0m\u001b[0;34m:\u001b[0m\u001b[0;34m\u001b[0m\u001b[0;34m\u001b[0m\u001b[0m\n",
            "\u001b[0;32m/tensorflow-1.15.2/python3.7/tensorflow_core/python/keras/saving/hdf5_format.py\u001b[0m in \u001b[0;36mload_model_from_hdf5\u001b[0;34m(filepath, custom_objects, compile)\u001b[0m\n\u001b[1;32m    160\u001b[0m     \u001b[0mmodel_config\u001b[0m \u001b[0;34m=\u001b[0m \u001b[0mjson\u001b[0m\u001b[0;34m.\u001b[0m\u001b[0mloads\u001b[0m\u001b[0;34m(\u001b[0m\u001b[0mmodel_config\u001b[0m\u001b[0;34m.\u001b[0m\u001b[0mdecode\u001b[0m\u001b[0;34m(\u001b[0m\u001b[0;34m'utf-8'\u001b[0m\u001b[0;34m)\u001b[0m\u001b[0;34m)\u001b[0m\u001b[0;34m\u001b[0m\u001b[0;34m\u001b[0m\u001b[0m\n\u001b[1;32m    161\u001b[0m     model = model_config_lib.model_from_config(model_config,\n\u001b[0;32m--> 162\u001b[0;31m                                                custom_objects=custom_objects)\n\u001b[0m\u001b[1;32m    163\u001b[0m \u001b[0;34m\u001b[0m\u001b[0m\n\u001b[1;32m    164\u001b[0m     \u001b[0;31m# set weights\u001b[0m\u001b[0;34m\u001b[0m\u001b[0;34m\u001b[0m\u001b[0;34m\u001b[0m\u001b[0m\n",
            "\u001b[0;32m/tensorflow-1.15.2/python3.7/tensorflow_core/python/keras/saving/model_config.py\u001b[0m in \u001b[0;36mmodel_from_config\u001b[0;34m(config, custom_objects)\u001b[0m\n\u001b[1;32m     53\u001b[0m                     '`Sequential.from_config(config)`?')\n\u001b[1;32m     54\u001b[0m   \u001b[0;32mfrom\u001b[0m \u001b[0mtensorflow\u001b[0m\u001b[0;34m.\u001b[0m\u001b[0mpython\u001b[0m\u001b[0;34m.\u001b[0m\u001b[0mkeras\u001b[0m\u001b[0;34m.\u001b[0m\u001b[0mlayers\u001b[0m \u001b[0;32mimport\u001b[0m \u001b[0mdeserialize\u001b[0m  \u001b[0;31m# pylint: disable=g-import-not-at-top\u001b[0m\u001b[0;34m\u001b[0m\u001b[0;34m\u001b[0m\u001b[0m\n\u001b[0;32m---> 55\u001b[0;31m   \u001b[0;32mreturn\u001b[0m \u001b[0mdeserialize\u001b[0m\u001b[0;34m(\u001b[0m\u001b[0mconfig\u001b[0m\u001b[0;34m,\u001b[0m \u001b[0mcustom_objects\u001b[0m\u001b[0;34m=\u001b[0m\u001b[0mcustom_objects\u001b[0m\u001b[0;34m)\u001b[0m\u001b[0;34m\u001b[0m\u001b[0;34m\u001b[0m\u001b[0m\n\u001b[0m\u001b[1;32m     56\u001b[0m \u001b[0;34m\u001b[0m\u001b[0m\n\u001b[1;32m     57\u001b[0m \u001b[0;34m\u001b[0m\u001b[0m\n",
            "\u001b[0;32m/tensorflow-1.15.2/python3.7/tensorflow_core/python/keras/layers/serialization.py\u001b[0m in \u001b[0;36mdeserialize\u001b[0;34m(config, custom_objects)\u001b[0m\n\u001b[1;32m    103\u001b[0m       \u001b[0mmodule_objects\u001b[0m\u001b[0;34m=\u001b[0m\u001b[0mglobs\u001b[0m\u001b[0;34m,\u001b[0m\u001b[0;34m\u001b[0m\u001b[0;34m\u001b[0m\u001b[0m\n\u001b[1;32m    104\u001b[0m       \u001b[0mcustom_objects\u001b[0m\u001b[0;34m=\u001b[0m\u001b[0mcustom_objects\u001b[0m\u001b[0;34m,\u001b[0m\u001b[0;34m\u001b[0m\u001b[0;34m\u001b[0m\u001b[0m\n\u001b[0;32m--> 105\u001b[0;31m       printable_module_name='layer')\n\u001b[0m",
            "\u001b[0;32m/tensorflow-1.15.2/python3.7/tensorflow_core/python/keras/utils/generic_utils.py\u001b[0m in \u001b[0;36mdeserialize_keras_object\u001b[0;34m(identifier, module_objects, custom_objects, printable_module_name)\u001b[0m\n\u001b[1;32m    178\u001b[0m     \u001b[0mconfig\u001b[0m \u001b[0;34m=\u001b[0m \u001b[0midentifier\u001b[0m\u001b[0;34m\u001b[0m\u001b[0;34m\u001b[0m\u001b[0m\n\u001b[1;32m    179\u001b[0m     (cls, cls_config) = class_and_config_for_serialized_keras_object(\n\u001b[0;32m--> 180\u001b[0;31m         config, module_objects, custom_objects, printable_module_name)\n\u001b[0m\u001b[1;32m    181\u001b[0m \u001b[0;34m\u001b[0m\u001b[0m\n\u001b[1;32m    182\u001b[0m     \u001b[0;32mif\u001b[0m \u001b[0mhasattr\u001b[0m\u001b[0;34m(\u001b[0m\u001b[0mcls\u001b[0m\u001b[0;34m,\u001b[0m \u001b[0;34m'from_config'\u001b[0m\u001b[0;34m)\u001b[0m\u001b[0;34m:\u001b[0m\u001b[0;34m\u001b[0m\u001b[0;34m\u001b[0m\u001b[0m\n",
            "\u001b[0;32m/tensorflow-1.15.2/python3.7/tensorflow_core/python/keras/utils/generic_utils.py\u001b[0m in \u001b[0;36mclass_and_config_for_serialized_keras_object\u001b[0;34m(config, module_objects, custom_objects, printable_module_name)\u001b[0m\n\u001b[1;32m    163\u001b[0m     \u001b[0mcls\u001b[0m \u001b[0;34m=\u001b[0m \u001b[0mmodule_objects\u001b[0m\u001b[0;34m.\u001b[0m\u001b[0mget\u001b[0m\u001b[0;34m(\u001b[0m\u001b[0mclass_name\u001b[0m\u001b[0;34m)\u001b[0m\u001b[0;34m\u001b[0m\u001b[0;34m\u001b[0m\u001b[0m\n\u001b[1;32m    164\u001b[0m     \u001b[0;32mif\u001b[0m \u001b[0mcls\u001b[0m \u001b[0;32mis\u001b[0m \u001b[0;32mNone\u001b[0m\u001b[0;34m:\u001b[0m\u001b[0;34m\u001b[0m\u001b[0;34m\u001b[0m\u001b[0m\n\u001b[0;32m--> 165\u001b[0;31m       \u001b[0;32mraise\u001b[0m \u001b[0mValueError\u001b[0m\u001b[0;34m(\u001b[0m\u001b[0;34m'Unknown '\u001b[0m \u001b[0;34m+\u001b[0m \u001b[0mprintable_module_name\u001b[0m \u001b[0;34m+\u001b[0m \u001b[0;34m': '\u001b[0m \u001b[0;34m+\u001b[0m \u001b[0mclass_name\u001b[0m\u001b[0;34m)\u001b[0m\u001b[0;34m\u001b[0m\u001b[0;34m\u001b[0m\u001b[0m\n\u001b[0m\u001b[1;32m    166\u001b[0m   \u001b[0;32mreturn\u001b[0m \u001b[0;34m(\u001b[0m\u001b[0mcls\u001b[0m\u001b[0;34m,\u001b[0m \u001b[0mconfig\u001b[0m\u001b[0;34m[\u001b[0m\u001b[0;34m'config'\u001b[0m\u001b[0;34m]\u001b[0m\u001b[0;34m)\u001b[0m\u001b[0;34m\u001b[0m\u001b[0;34m\u001b[0m\u001b[0m\n\u001b[1;32m    167\u001b[0m \u001b[0;34m\u001b[0m\u001b[0m\n",
            "\u001b[0;31mValueError\u001b[0m: Unknown layer: Functional"
          ]
        }
      ]
    },
    {
      "cell_type": "code",
      "metadata": {
        "id": "tdA-qwqEhQ9e"
      },
      "source": [
        "true_classes = test_data_generator.classes\n",
        "class_labels = list(test_data_generator.class_indices.keys())  "
      ],
      "execution_count": null,
      "outputs": []
    },
    {
      "cell_type": "code",
      "metadata": {
        "colab": {
          "base_uri": "https://localhost:8080/"
        },
        "id": "itZZ-LgPhRtT",
        "outputId": "bd692738-6cc9-423e-826c-d1d627fbd7af"
      },
      "source": [
        "from sklearn import metrics\n",
        "\n",
        "report = metrics.classification_report(true_classes, predicted_classes, target_names=class_labels)\n",
        "print(report)   "
      ],
      "execution_count": null,
      "outputs": [
        {
          "output_type": "stream",
          "text": [
            "              precision    recall  f1-score   support\n",
            "\n",
            "       awake       0.50      1.00      0.67       200\n",
            "      sleepy       0.00      0.00      0.00       200\n",
            "\n",
            "    accuracy                           0.50       400\n",
            "   macro avg       0.25      0.50      0.33       400\n",
            "weighted avg       0.25      0.50      0.33       400\n",
            "\n"
          ],
          "name": "stdout"
        },
        {
          "output_type": "stream",
          "text": [
            "/usr/local/lib/python3.7/dist-packages/sklearn/metrics/_classification.py:1272: UndefinedMetricWarning: Precision and F-score are ill-defined and being set to 0.0 in labels with no predicted samples. Use `zero_division` parameter to control this behavior.\n",
            "  _warn_prf(average, modifier, msg_start, len(result))\n"
          ],
          "name": "stderr"
        }
      ]
    }
  ]
}